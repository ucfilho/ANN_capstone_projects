{
  "nbformat": 4,
  "nbformat_minor": 0,
  "metadata": {
    "colab": {
      "name": "Novo_Trabalho_redes_neurais_01_nov(1).ipynb",
      "version": "0.3.2",
      "provenance": [],
      "include_colab_link": true
    },
    "kernelspec": {
      "name": "python3",
      "display_name": "Python 3"
    }
  },
  "cells": [
    {
      "cell_type": "markdown",
      "metadata": {
        "id": "view-in-github",
        "colab_type": "text"
      },
      "source": [
        "<a href=\"https://colab.research.google.com/github/ucfilho/ANN_capstone_projects/blob/master/ANN_Layse_dez_15_2018.ipynb\" target=\"_parent\"><img src=\"https://colab.research.google.com/assets/colab-badge.svg\" alt=\"Open In Colab\"/></a>"
      ]
    },
    {
      "metadata": {
        "id": "cgwy0DcVA5x5",
        "colab_type": "code",
        "colab": {}
      },
      "cell_type": "code",
      "source": [
        "import os\n",
        "import numpy as np\n",
        "import pandas as pd\n",
        "import matplotlib.pyplot as plt\n",
        "from sklearn.neural_network import MLPRegressor"
      ],
      "execution_count": 0,
      "outputs": []
    },
    {
      "metadata": {
        "id": "K7N9dtCSYO0h",
        "colab_type": "text"
      },
      "cell_type": "markdown",
      "source": [
        "Trabalho 01\n",
        "\n",
        "Artigo - Ethanol mediated As(III) adsorption onto Zn-loaded pinecone biochar: Experimental investigation, modeling, and optimization using hybrid artificial neural network-genetic algorithm approach\n",
        "\n",
        "Discente: Layse Caixeta Ferreira"
      ]
    },
    {
      "metadata": {
        "id": "F_s9Jw3kBouM",
        "colab_type": "code",
        "colab": {}
      },
      "cell_type": "code",
      "source": [
        "%matplotlib inline"
      ],
      "execution_count": 0,
      "outputs": []
    },
    {
      "metadata": {
        "id": "x3QO-rLfBv3U",
        "colab_type": "code",
        "outputId": "92d0083a-9705-4ef4-a7e6-24a774f6daf7",
        "colab": {
          "base_uri": "https://localhost:8080/",
          "height": 126
        }
      },
      "cell_type": "code",
      "source": [
        "!git clone https://github.com/laysecaixeta/layse_ANN"
      ],
      "execution_count": 3,
      "outputs": [
        {
          "output_type": "stream",
          "text": [
            "Cloning into 'layse_ANN'...\n",
            "remote: Enumerating objects: 15, done.\u001b[K\n",
            "remote: Counting objects: 100% (15/15), done.\u001b[K\n",
            "remote: Compressing objects: 100% (14/14), done.\u001b[K\n",
            "remote: Total 15 (delta 4), reused 12 (delta 1), pack-reused 0\u001b[K\n",
            "Unpacking objects: 100% (15/15), done.\n"
          ],
          "name": "stdout"
        }
      ]
    },
    {
      "metadata": {
        "id": "gOpgPfAsECnm",
        "colab_type": "code",
        "outputId": "a50370e7-e804-4f8e-b912-cb1fbb813609",
        "colab": {
          "base_uri": "https://localhost:8080/",
          "height": 35
        }
      },
      "cell_type": "code",
      "source": [
        "%cd layse_ANN"
      ],
      "execution_count": 4,
      "outputs": [
        {
          "output_type": "stream",
          "text": [
            "/content/layse_ANN\n"
          ],
          "name": "stdout"
        }
      ]
    },
    {
      "metadata": {
        "id": "ePYhh836EQuK",
        "colab_type": "code",
        "outputId": "1c0bb300-b04e-4242-b905-aabffdb0be1a",
        "colab": {
          "base_uri": "https://localhost:8080/",
          "height": 54
        }
      },
      "cell_type": "code",
      "source": [
        "!ls"
      ],
      "execution_count": 5,
      "outputs": [
        {
          "output_type": "stream",
          "text": [
            "Dados.Etanol.csv  Novo_Dados_Etanol.csv      Soja_out_03_2018.txt\n",
            "Dados.Etanol.txt  Polimero_maio_21_2015.txt\n"
          ],
          "name": "stdout"
        }
      ]
    },
    {
      "metadata": {
        "id": "Rpr2e3H8El6Y",
        "colab_type": "code",
        "outputId": "49e978c8-87e5-46e5-b46f-1999baee0aa7",
        "colab": {
          "base_uri": "https://localhost:8080/",
          "height": 254
        }
      },
      "cell_type": "code",
      "source": [
        "DAT=pd.read_csv(\"Novo_Dados_Etanol.csv\")\n",
        "print(DAT.head())\n"
      ],
      "execution_count": 6,
      "outputs": [
        {
          "output_type": "stream",
          "text": [
            "   Experiment Number  As(III)  Ethanol  pH  Experimental  Predicted (RSM)  \\\n",
            "0                1.0      100       50   6          8.55             8.31   \n",
            "1                2.0      200       10   6         10.25            10.49   \n",
            "2                3.0      200       30   8          9.92            10.20   \n",
            "3                4.0      150       30   6          9.44             9.38   \n",
            "4                5.0      150       10   4          7.45             7.50   \n",
            "\n",
            "   Predicted (ANN)  \n",
            "0             8.55  \n",
            "1            10.25  \n",
            "2             9.92  \n",
            "3             9.40  \n",
            "4             8.63  \n"
          ],
          "name": "stdout"
        }
      ]
    },
    {
      "metadata": {
        "id": "mB-l6IPBJwyb",
        "colab_type": "code",
        "outputId": "51dd9d01-8b7d-4c22-9c2f-995cee2c96ab",
        "colab": {
          "base_uri": "https://localhost:8080/",
          "height": 126
        }
      },
      "cell_type": "code",
      "source": [
        "Index=[1,2,3,4]\n",
        "Dat_Select=[]\n",
        "Dat_Select=DAT.iloc[:,Index].copy()\n",
        "print(Dat_Select.head())\n"
      ],
      "execution_count": 7,
      "outputs": [
        {
          "output_type": "stream",
          "text": [
            "   As(III)  Ethanol  pH  Experimental\n",
            "0      100       50   6          8.55\n",
            "1      200       10   6         10.25\n",
            "2      200       30   8          9.92\n",
            "3      150       30   6          9.44\n",
            "4      150       10   4          7.45\n"
          ],
          "name": "stdout"
        }
      ]
    },
    {
      "metadata": {
        "id": "B2KzxTQBPW2L",
        "colab_type": "code",
        "colab": {}
      },
      "cell_type": "code",
      "source": [
        "# funcao normatiza dados\n",
        "def Normatiza(x):\n",
        "    strings=list(x)\n",
        "    for i in strings:\n",
        "        max_x=x[i].max()\n",
        "        min_x=x[i].min()\n",
        "        a=(max_x+min_x)/2\n",
        "        b=(max_x-min_x)/2\n",
        "        x[i]=(x[i]-a)/b\n",
        "    return x"
      ],
      "execution_count": 0,
      "outputs": []
    },
    {
      "metadata": {
        "id": "5MUvOuAhPZly",
        "colab_type": "code",
        "colab": {}
      },
      "cell_type": "code",
      "source": [
        "# funcao retorna os dados a forma original\n",
        "def Original(x,x_old):\n",
        "    strings=list(x)\n",
        "    for i in strings:\n",
        "        max_x=x_old[i].max()\n",
        "        min_x=x_old[i].min()\n",
        "        a=(max_x+min_x)/2\n",
        "        b=(max_x-min_x)/2\n",
        "        x[i]=x[i]*b+a\n",
        "    return x"
      ],
      "execution_count": 0,
      "outputs": []
    },
    {
      "metadata": {
        "id": "U6sMFAMqPkYt",
        "colab_type": "code",
        "outputId": "78b7c824-e061-4758-f51c-2fcfc276a10c",
        "colab": {
          "base_uri": "https://localhost:8080/",
          "height": 235
        }
      },
      "cell_type": "code",
      "source": [
        "DAT_OLD=[]\n",
        "DAT_OLD=Dat_Select.copy()\n",
        "DAT=Normatiza(Dat_Select)\n",
        "print(DAT.head())\n",
        "print(DAT_OLD.head())\n"
      ],
      "execution_count": 10,
      "outputs": [
        {
          "output_type": "stream",
          "text": [
            "   As(III)  Ethanol   pH  Experimental\n",
            "0     -1.0      1.0  0.0      0.011628\n",
            "1      1.0     -1.0  0.0      1.000000\n",
            "2      1.0      0.0  1.0      0.808140\n",
            "3      0.0      0.0  0.0      0.529070\n",
            "4      0.0     -1.0 -1.0     -0.627907\n",
            "   As(III)  Ethanol  pH  Experimental\n",
            "0      100       50   6          8.55\n",
            "1      200       10   6         10.25\n",
            "2      200       30   8          9.92\n",
            "3      150       30   6          9.44\n",
            "4      150       10   4          7.45\n"
          ],
          "name": "stdout"
        }
      ]
    },
    {
      "metadata": {
        "id": "0p_HflETSD-c",
        "colab_type": "code",
        "outputId": "f1cd9f84-f01c-42a7-cdcb-3827e0739e02",
        "colab": {
          "base_uri": "https://localhost:8080/",
          "height": 290
        }
      },
      "cell_type": "code",
      "source": [
        "train=DAT.sample(frac=0.8,random_state=1)\n",
        "test=DAT.drop(train.index)\n",
        "print(train.head())\n",
        "print(\"==============\")\n",
        "print(train.shape[0])\n",
        "print(\"==============\")\n",
        "print(test.head())\n",
        "print(\"==============\")\n",
        "print(test.shape[0])\n"
      ],
      "execution_count": 11,
      "outputs": [
        {
          "output_type": "stream",
          "text": [
            "    As(III)  Ethanol   pH  Experimental\n",
            "3       0.0      0.0  0.0      0.529070\n",
            "13     -1.0     -1.0  0.0     -1.000000\n",
            "7       0.0     -1.0  1.0      0.447674\n",
            "2       1.0      0.0  1.0      0.808140\n",
            "6       1.0      0.0 -1.0      0.924419\n",
            "==============\n",
            "14\n",
            "==============\n",
            "    As(III)  Ethanol   pH  Experimental\n",
            "5       0.0      0.0  0.0      0.436047\n",
            "11      1.0      1.0  0.0      0.674419\n",
            "12      0.0      1.0 -1.0     -0.662791\n",
            "==============\n",
            "3\n"
          ],
          "name": "stdout"
        }
      ]
    },
    {
      "metadata": {
        "id": "QdDVheN9o5Kl",
        "colab_type": "code",
        "outputId": "c8983864-519c-49e9-fa8b-0bff3c7eb23c",
        "colab": {
          "base_uri": "https://localhost:8080/",
          "height": 308
        }
      },
      "cell_type": "code",
      "source": [
        "# obtem as variaveis independentes (treino e teste)/ pode ser por nome ou numero\n",
        "x_train=train.iloc[:,[3]]\n",
        "x_test=test.iloc[:,[3]]\n",
        "X_OLD=DAT_OLD.iloc[:,[3]]\n",
        "print(x_test.head())\n",
        "print(x_train.head())\n",
        "print(X_OLD.head())"
      ],
      "execution_count": 12,
      "outputs": [
        {
          "output_type": "stream",
          "text": [
            "    Experimental\n",
            "5       0.436047\n",
            "11      0.674419\n",
            "12     -0.662791\n",
            "    Experimental\n",
            "3       0.529070\n",
            "13     -1.000000\n",
            "7       0.447674\n",
            "2       0.808140\n",
            "6       0.924419\n",
            "   Experimental\n",
            "0          8.55\n",
            "1         10.25\n",
            "2          9.92\n",
            "3          9.44\n",
            "4          7.45\n"
          ],
          "name": "stdout"
        }
      ]
    },
    {
      "metadata": {
        "id": "N42LJ7TQTT3w",
        "colab_type": "code",
        "outputId": "427915a6-df12-46b6-f66d-580465477492",
        "colab": {
          "base_uri": "https://localhost:8080/",
          "height": 308
        }
      },
      "cell_type": "code",
      "source": [
        "# obtem as variaveis dependentes (treino e teste)\n",
        "Index=[0,1,2]\n",
        "y_train=train.iloc[:,Index]\n",
        "y_test=test.iloc[:,Index]\n",
        "Y_OLD=DAT_OLD.iloc[:,Index]\n",
        "print(y_test.head())\n",
        "print(y_train.head())\n",
        "print(Y_OLD.head())"
      ],
      "execution_count": 13,
      "outputs": [
        {
          "output_type": "stream",
          "text": [
            "    As(III)  Ethanol   pH\n",
            "5       0.0      0.0  0.0\n",
            "11      1.0      1.0  0.0\n",
            "12      0.0      1.0 -1.0\n",
            "    As(III)  Ethanol   pH\n",
            "3       0.0      0.0  0.0\n",
            "13     -1.0     -1.0  0.0\n",
            "7       0.0     -1.0  1.0\n",
            "2       1.0      0.0  1.0\n",
            "6       1.0      0.0 -1.0\n",
            "   As(III)  Ethanol  pH\n",
            "0      100       50   6\n",
            "1      200       10   6\n",
            "2      200       30   8\n",
            "3      150       30   6\n",
            "4      150       10   4\n"
          ],
          "name": "stdout"
        }
      ]
    },
    {
      "metadata": {
        "id": "_eumJBtH8qtB",
        "colab_type": "code",
        "colab": {}
      },
      "cell_type": "code",
      "source": [
        "# define a rede neural As\n",
        "Neuron=14\n",
        "clf_As = MLPRegressor(solver='lbfgs',activation='tanh',alpha=1e-5,hidden_layer_sizes=(Neuron), \n",
        "                    random_state=1)"
      ],
      "execution_count": 0,
      "outputs": []
    },
    {
      "metadata": {
        "id": "WpgLkglf8qqS",
        "colab_type": "code",
        "colab": {}
      },
      "cell_type": "code",
      "source": [
        "# define a rede neural Ethanol\n",
        "Neuron=14\n",
        "clf_Ethanol = MLPRegressor(solver='lbfgs',activation='tanh',alpha=1e-5,hidden_layer_sizes=(Neuron), \n",
        "                    random_state=1)"
      ],
      "execution_count": 0,
      "outputs": []
    },
    {
      "metadata": {
        "id": "tNnTUJjS8qnu",
        "colab_type": "code",
        "colab": {}
      },
      "cell_type": "code",
      "source": [
        "# define a rede neural pH\n",
        "Neuron=14\n",
        "clf_pH = MLPRegressor(solver='lbfgs',activation='tanh',alpha=1e-5,hidden_layer_sizes=(Neuron), \n",
        "                    random_state=1)"
      ],
      "execution_count": 0,
      "outputs": []
    },
    {
      "metadata": {
        "id": "HiEFvtXN8qk8",
        "colab_type": "code",
        "outputId": "737d5adb-d6eb-48ca-e507-5072415fab20",
        "colab": {
          "base_uri": "https://localhost:8080/",
          "height": 145
        }
      },
      "cell_type": "code",
      "source": [
        "clf_As.fit(x_train, y_train)"
      ],
      "execution_count": 17,
      "outputs": [
        {
          "output_type": "execute_result",
          "data": {
            "text/plain": [
              "MLPRegressor(activation='tanh', alpha=1e-05, batch_size='auto', beta_1=0.9,\n",
              "       beta_2=0.999, early_stopping=False, epsilon=1e-08,\n",
              "       hidden_layer_sizes=14, learning_rate='constant',\n",
              "       learning_rate_init=0.001, max_iter=200, momentum=0.9,\n",
              "       n_iter_no_change=10, nesterovs_momentum=True, power_t=0.5,\n",
              "       random_state=1, shuffle=True, solver='lbfgs', tol=0.0001,\n",
              "       validation_fraction=0.1, verbose=False, warm_start=False)"
            ]
          },
          "metadata": {
            "tags": []
          },
          "execution_count": 17
        }
      ]
    },
    {
      "metadata": {
        "id": "QGZBbW918qiM",
        "colab_type": "code",
        "outputId": "20522d6f-ba2e-4cc3-c1b5-7eb46d6b4ad3",
        "colab": {
          "base_uri": "https://localhost:8080/",
          "height": 145
        }
      },
      "cell_type": "code",
      "source": [
        "clf_Ethanol.fit(x_train, y_train)"
      ],
      "execution_count": 18,
      "outputs": [
        {
          "output_type": "execute_result",
          "data": {
            "text/plain": [
              "MLPRegressor(activation='tanh', alpha=1e-05, batch_size='auto', beta_1=0.9,\n",
              "       beta_2=0.999, early_stopping=False, epsilon=1e-08,\n",
              "       hidden_layer_sizes=14, learning_rate='constant',\n",
              "       learning_rate_init=0.001, max_iter=200, momentum=0.9,\n",
              "       n_iter_no_change=10, nesterovs_momentum=True, power_t=0.5,\n",
              "       random_state=1, shuffle=True, solver='lbfgs', tol=0.0001,\n",
              "       validation_fraction=0.1, verbose=False, warm_start=False)"
            ]
          },
          "metadata": {
            "tags": []
          },
          "execution_count": 18
        }
      ]
    },
    {
      "metadata": {
        "id": "kdKkdcRc8qgB",
        "colab_type": "code",
        "outputId": "70e5c342-786e-424e-dd7e-f6fc4a688215",
        "colab": {
          "base_uri": "https://localhost:8080/",
          "height": 145
        }
      },
      "cell_type": "code",
      "source": [
        "clf_pH.fit(x_train, y_train)"
      ],
      "execution_count": 19,
      "outputs": [
        {
          "output_type": "execute_result",
          "data": {
            "text/plain": [
              "MLPRegressor(activation='tanh', alpha=1e-05, batch_size='auto', beta_1=0.9,\n",
              "       beta_2=0.999, early_stopping=False, epsilon=1e-08,\n",
              "       hidden_layer_sizes=14, learning_rate='constant',\n",
              "       learning_rate_init=0.001, max_iter=200, momentum=0.9,\n",
              "       n_iter_no_change=10, nesterovs_momentum=True, power_t=0.5,\n",
              "       random_state=1, shuffle=True, solver='lbfgs', tol=0.0001,\n",
              "       validation_fraction=0.1, verbose=False, warm_start=False)"
            ]
          },
          "metadata": {
            "tags": []
          },
          "execution_count": 19
        }
      ]
    },
    {
      "metadata": {
        "id": "gwKl-QzemMT3",
        "colab_type": "code",
        "outputId": "cb5f2f1c-8d8c-4066-d393-b3fc7fc64d24",
        "colab": {
          "base_uri": "https://localhost:8080/",
          "height": 72
        }
      },
      "cell_type": "code",
      "source": [
        "# usa a rede neural treina em calculos para treino e teste\n",
        "y_calc_train=clf_As.predict(x_train)\n",
        "y_calc_test=clf_As.predict(x_test)\n",
        "print(y_calc_test) #passar pada dataframe"
      ],
      "execution_count": 20,
      "outputs": [
        {
          "output_type": "stream",
          "text": [
            "[[-0.12280644 -0.38461988  0.20304174]\n",
            " [ 0.54388598  0.29780507  0.2904388 ]\n",
            " [-0.28926461 -0.62084528 -1.01187978]]\n"
          ],
          "name": "stdout"
        }
      ]
    },
    {
      "metadata": {
        "id": "nOE0bN-vmUHm",
        "colab_type": "code",
        "outputId": "d4950d62-390a-4361-86c0-3898ec9d1fd5",
        "colab": {
          "base_uri": "https://localhost:8080/",
          "height": 126
        }
      },
      "cell_type": "code",
      "source": [
        "# transforma a saida da rede em dataframe \n",
        "y_calc_train=pd.DataFrame(y_calc_train)\n",
        "y_calc_test=pd.DataFrame(y_calc_test)\n",
        "col_names=list(y_train) #coluna precisa de nome senao da erro\n",
        "y_calc_train.columns = col_names\n",
        "y_calc_test.columns = col_names\n",
        "print(y_calc_train.head())"
      ],
      "execution_count": 21,
      "outputs": [
        {
          "output_type": "stream",
          "text": [
            "    As(III)   Ethanol        pH\n",
            "0  0.137815 -0.097020  0.234268\n",
            "1 -1.175290 -0.729157 -0.131489\n",
            "2 -0.093105 -0.358015  0.204949\n",
            "3  0.818770  0.230462  0.209295\n",
            "4  0.943885 -0.321168 -0.071406\n"
          ],
          "name": "stdout"
        }
      ]
    },
    {
      "metadata": {
        "id": "Dadj4ZComc94",
        "colab_type": "code",
        "outputId": "8e0fa48b-f4b4-4315-d344-2ca0dad22bda",
        "colab": {
          "base_uri": "https://localhost:8080/",
          "height": 199
        }
      },
      "cell_type": "code",
      "source": [
        "# transforma dos dados calculados na forma original (nao normatizado)\n",
        "y_calc_train=Original(y_calc_train,Y_OLD)\n",
        "y_calc_test=Original(y_calc_test,Y_OLD)\n",
        "print(y_calc_test.head())\n",
        "print(y_calc_train.head())"
      ],
      "execution_count": 22,
      "outputs": [
        {
          "output_type": "stream",
          "text": [
            "      As(III)    Ethanol        pH\n",
            "0  143.859678  22.307602  6.406083\n",
            "1  177.194299  35.956101  6.580878\n",
            "2  135.536770  17.583094  3.976240\n",
            "      As(III)    Ethanol        pH\n",
            "0  156.890765  28.059602  6.468536\n",
            "1   91.235520  15.416863  5.737022\n",
            "2  145.344758  22.839703  6.409899\n",
            "3  190.938523  34.609240  6.418590\n",
            "4  197.194260  23.576634  5.857189\n"
          ],
          "name": "stdout"
        }
      ]
    },
    {
      "metadata": {
        "id": "9rzT5FxxmiDC",
        "colab_type": "code",
        "colab": {}
      },
      "cell_type": "code",
      "source": [
        "# recupera os dados originais \n",
        "test=[]\n",
        "train=[]\n",
        "train=Original(y_train,Y_OLD)\n",
        "test=Original(y_test,Y_OLD)"
      ],
      "execution_count": 0,
      "outputs": []
    },
    {
      "metadata": {
        "id": "ghGvacIWmpp8",
        "colab_type": "code",
        "colab": {}
      },
      "cell_type": "code",
      "source": [
        "# escolhe uma das resposta para fazer o grafico (As(III)-treino)\n",
        "As_obs_train=[]\n",
        "As_train=[]\n",
        "As_calc_train=y_calc_train['As(III)'].copy()\n",
        "As_obs_train=train['As(III)'].copy()"
      ],
      "execution_count": 0,
      "outputs": []
    },
    {
      "metadata": {
        "id": "yctjIDmcmt1Z",
        "colab_type": "code",
        "outputId": "11c52368-247b-4427-fda3-ffaced9f0bc3",
        "colab": {
          "base_uri": "https://localhost:8080/",
          "height": 90
        }
      },
      "cell_type": "code",
      "source": [
        "# escolhe uma das resposta para fazer o grafico (As(III)-teste)\n",
        "As_obs_test=[]\n",
        "As_calc_test=[]\n",
        "As_calc_test=y_calc_test['As(III)'].copy()\n",
        "As_obs_test=test['As(III)'].copy()\n",
        "print(As_calc_test.head())"
      ],
      "execution_count": 25,
      "outputs": [
        {
          "output_type": "stream",
          "text": [
            "0    143.859678\n",
            "1    177.194299\n",
            "2    135.536770\n",
            "Name: As(III), dtype: float64\n"
          ],
          "name": "stdout"
        }
      ]
    },
    {
      "metadata": {
        "id": "pgYHfQOjoKvY",
        "colab_type": "code",
        "outputId": "65e11396-8c26-459f-d310-8595224ef481",
        "colab": {
          "base_uri": "https://localhost:8080/",
          "height": 279
        }
      },
      "cell_type": "code",
      "source": [
        "# expressa os dois dados em figura/ c = cor/ marker s quadrado/ matplotlib manual\n",
        "fig = plt.figure()\n",
        "ax1 = fig.add_subplot(111)\n",
        "\n",
        "ax1.scatter(As_obs_test,As_calc_test, s=10, c='c', marker=\"s\", label='teste')\n",
        "ax1.scatter(As_obs_train,As_calc_train, s=10, c='m', marker=\"o\", label='treino')\n",
        "plt.legend(loc='upper left')\n",
        "plt.ylabel('As (III) Calc')\n",
        "plt.xlabel('As (III) Obs')\n",
        "plt.show()"
      ],
      "execution_count": 26,
      "outputs": [
        {
          "output_type": "display_data",
          "data": {
            "image/png": "[encoded data removed]",
            "text/plain": [
              "<matplotlib.figure.Figure at 0x7fdf13aac518>"
            ]
          },
          "metadata": {
            "tags": []
          }
        }
      ]
    },
    {
      "metadata": {
        "id": "SnxE-SpNpH3m",
        "colab_type": "code",
        "colab": {}
      },
      "cell_type": "code",
      "source": [
        "from sklearn.metrics import mean_squared_error\n",
        "from sklearn.metrics import r2_score "
      ],
      "execution_count": 0,
      "outputs": []
    },
    {
      "metadata": {
        "id": "Q0OT153PpQfM",
        "colab_type": "code",
        "outputId": "e0fbb2ab-13cd-4dc1-b246-45ec0897e201",
        "colab": {
          "base_uri": "https://localhost:8080/",
          "height": 54
        }
      },
      "cell_type": "code",
      "source": [
        "#aumentando o numero de neuronios diminui o erro do teste\n",
        "mse=mean_squared_error(As_obs_test,As_calc_test)\n",
        "print(\"MSE teste=\",mse)\n",
        "R2=r2_score(As_obs_test,As_calc_test)\n",
        "print(\"R^2 teste=\",R2)"
      ],
      "execution_count": 28,
      "outputs": [
        {
          "output_type": "stream",
          "text": [
            "MSE teste= 255.6628623958595\n",
            "R^2 teste= 0.5398068476874529\n"
          ],
          "name": "stdout"
        }
      ]
    },
    {
      "metadata": {
        "id": "vxfFrWLUpd4Y",
        "colab_type": "code",
        "outputId": "bfec65ff-aa70-4568-ac0a-2c7acc5c45e2",
        "colab": {
          "base_uri": "https://localhost:8080/",
          "height": 54
        }
      },
      "cell_type": "code",
      "source": [
        "mse=mean_squared_error(As_obs_train,As_calc_train)\n",
        "print(\"MSE treino=\",mse)\n",
        "R2=r2_score(As_obs_train,As_calc_train)\n",
        "print(\"R^2 treino=\",R2)"
      ],
      "execution_count": 29,
      "outputs": [
        {
          "output_type": "stream",
          "text": [
            "MSE treino= 105.20610065232039\n",
            "R^2 treino= 0.914967440297506\n"
          ],
          "name": "stdout"
        }
      ]
    },
    {
      "metadata": {
        "id": "ruRKToE_sqH6",
        "colab_type": "code",
        "colab": {}
      },
      "cell_type": "code",
      "source": [
        "As_obs_train=[]\n",
        "As_calc_train=[]\n",
        "As_calc_train=y_calc_train['Ethanol'].copy()\n",
        "As_obs_train=train['Ethanol'].copy()"
      ],
      "execution_count": 0,
      "outputs": []
    },
    {
      "metadata": {
        "id": "pyiXIEoWs7WP",
        "colab_type": "code",
        "outputId": "9335f4c2-380e-439e-8723-5afb28b58d7c",
        "colab": {
          "base_uri": "https://localhost:8080/",
          "height": 90
        }
      },
      "cell_type": "code",
      "source": [
        "As_obs_test=[]\n",
        "As_calc_test=[]\n",
        "As_calc_test=y_calc_test['Ethanol'].copy()\n",
        "As_obs_test=test['Ethanol'].copy()\n",
        "print(As_calc_test.head())"
      ],
      "execution_count": 31,
      "outputs": [
        {
          "output_type": "stream",
          "text": [
            "0    22.307602\n",
            "1    35.956101\n",
            "2    17.583094\n",
            "Name: Ethanol, dtype: float64\n"
          ],
          "name": "stdout"
        }
      ]
    },
    {
      "metadata": {
        "id": "n6GVEBdJtQi7",
        "colab_type": "code",
        "outputId": "f0dd688a-3014-4926-8a13-4e56a877727e",
        "colab": {
          "base_uri": "https://localhost:8080/",
          "height": 279
        }
      },
      "cell_type": "code",
      "source": [
        "fig = plt.figure()\n",
        "ax1 = fig.add_subplot(111)\n",
        "\n",
        "ax1.scatter(As_obs_test,As_calc_test, s=10, c='c', marker=\"s\", label='teste')\n",
        "ax1.scatter(As_obs_train,As_calc_train, s=10, c='m', marker=\"o\", label='treino')\n",
        "plt.legend(loc='upper left')\n",
        "plt.ylabel('Ethanol Calc')\n",
        "plt.xlabel('Ethanol Obs')\n",
        "plt.show()"
      ],
      "execution_count": 32,
      "outputs": [
        {
          "output_type": "display_data",
          "data": {
            "image/png": "[encoded data removed]",
            "text/plain": [
              "<matplotlib.figure.Figure at 0x7fdf13aacb00>"
            ]
          },
          "metadata": {
            "tags": []
          }
        }
      ]
    },
    {
      "metadata": {
        "id": "LsMbNM_Nt9OB",
        "colab_type": "code",
        "outputId": "38b5edea-8d74-484f-dd54-942f24a43ced",
        "colab": {
          "base_uri": "https://localhost:8080/",
          "height": 54
        }
      },
      "cell_type": "code",
      "source": [
        "mse=mean_squared_error(As_obs_test,As_calc_test)\n",
        "print(\"MSE teste=\",mse)\n",
        "R2=r2_score(As_obs_test,As_calc_test)\n",
        "print(\"R^2 teste=\",R2)"
      ],
      "execution_count": 33,
      "outputs": [
        {
          "output_type": "stream",
          "text": [
            "MSE teste= 435.75328147261735\n",
            "R^2 teste= -3.9022244165669457\n"
          ],
          "name": "stdout"
        }
      ]
    },
    {
      "metadata": {
        "id": "fZiI6A2uuIR1",
        "colab_type": "code",
        "outputId": "aa2f2a9b-4186-49d4-afbc-d59cc3cca205",
        "colab": {
          "base_uri": "https://localhost:8080/",
          "height": 54
        }
      },
      "cell_type": "code",
      "source": [
        "mse=mean_squared_error(As_obs_train,As_calc_train)\n",
        "print(\"MSE treino=\",mse)\n",
        "R2=r2_score(As_obs_train,As_calc_train)\n",
        "print(\"R^2 treino=\",R2)"
      ],
      "execution_count": 34,
      "outputs": [
        {
          "output_type": "stream",
          "text": [
            "MSE treino= 40.38323752294201\n",
            "R^2 treino= 0.7526526701719801\n"
          ],
          "name": "stdout"
        }
      ]
    },
    {
      "metadata": {
        "id": "zfjpLBtNuVK2",
        "colab_type": "code",
        "colab": {}
      },
      "cell_type": "code",
      "source": [
        "As_obs_train=[]\n",
        "As_calc_train=[]\n",
        "As_calc_train=y_calc_train['pH'].copy()\n",
        "As_obs_train=train['pH'].copy()"
      ],
      "execution_count": 0,
      "outputs": []
    },
    {
      "metadata": {
        "id": "3OKiyqF8upGS",
        "colab_type": "code",
        "outputId": "1ec2e9fd-a98d-4b08-9bb5-796fbe38f01d",
        "colab": {
          "base_uri": "https://localhost:8080/",
          "height": 90
        }
      },
      "cell_type": "code",
      "source": [
        "As_obs_test=[]\n",
        "As_calc_test=[]\n",
        "As_calc_test=y_calc_test['pH'].copy()\n",
        "As_obs_test=test['pH'].copy()\n",
        "print(As_calc_test.head())"
      ],
      "execution_count": 36,
      "outputs": [
        {
          "output_type": "stream",
          "text": [
            "0    6.406083\n",
            "1    6.580878\n",
            "2    3.976240\n",
            "Name: pH, dtype: float64\n"
          ],
          "name": "stdout"
        }
      ]
    },
    {
      "metadata": {
        "id": "mhR7gC7ruvjc",
        "colab_type": "code",
        "outputId": "c2116186-df1c-4e4a-a2b6-56fa4dd82850",
        "colab": {
          "base_uri": "https://localhost:8080/",
          "height": 279
        }
      },
      "cell_type": "code",
      "source": [
        "fig = plt.figure()\n",
        "ax1 = fig.add_subplot(111)\n",
        "\n",
        "ax1.scatter(As_obs_test,As_calc_test, s=10, c='c', marker=\"s\", label='teste')\n",
        "ax1.scatter(As_obs_train,As_calc_train, s=10, c='m', marker=\"o\", label='treino')\n",
        "plt.legend(loc='upper left')\n",
        "plt.ylabel('pH Calc')\n",
        "plt.xlabel('pH Obs')\n",
        "plt.show()"
      ],
      "execution_count": 37,
      "outputs": [
        {
          "output_type": "display_data",
          "data": {
            "image/png": "[encoded data removed]",
            "text/plain": [
              "<matplotlib.figure.Figure at 0x7fdf10194780>"
            ]
          },
          "metadata": {
            "tags": []
          }
        }
      ]
    },
    {
      "metadata": {
        "id": "Iynt4Oq6u3jy",
        "colab_type": "code",
        "outputId": "c221fb7a-f394-46be-f8df-53e5546eb22d",
        "colab": {
          "base_uri": "https://localhost:8080/",
          "height": 54
        }
      },
      "cell_type": "code",
      "source": [
        "mse=mean_squared_error(As_obs_test,As_calc_test)\n",
        "print(\"MSE teste=\",mse)\n",
        "R2=r2_score(As_obs_test,As_calc_test)\n",
        "print(\"R^2 teste=\",R2)"
      ],
      "execution_count": 38,
      "outputs": [
        {
          "output_type": "stream",
          "text": [
            "MSE teste= 0.16762902979981953\n",
            "R^2 teste= 0.8114173414752031\n"
          ],
          "name": "stdout"
        }
      ]
    },
    {
      "metadata": {
        "id": "o3B5gC7Vu99l",
        "colab_type": "code",
        "outputId": "20568d40-7493-42a1-c532-a887e62567a6",
        "colab": {
          "base_uri": "https://localhost:8080/",
          "height": 54
        }
      },
      "cell_type": "code",
      "source": [
        "mse=mean_squared_error(As_obs_train,As_calc_train)\n",
        "print(\"MSE treino=\",mse)\n",
        "R2=r2_score(As_obs_train,As_calc_train)\n",
        "print(\"R^2 treino=\",R2)"
      ],
      "execution_count": 39,
      "outputs": [
        {
          "output_type": "stream",
          "text": [
            "MSE treino= 0.9085957181518315\n",
            "R^2 treino= 0.5410186578408274\n"
          ],
          "name": "stdout"
        }
      ]
    }
  ]
}