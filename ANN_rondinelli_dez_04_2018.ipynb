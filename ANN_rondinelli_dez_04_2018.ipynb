{
  "nbformat": 4,
  "nbformat_minor": 0,
  "metadata": {
    "colab": {
      "name": "trabalho1_redes_rondinelli.ipynb",
      "version": "0.3.2",
      "provenance": [],
      "collapsed_sections": [],
      "include_colab_link": true
    },
    "kernelspec": {
      "display_name": "Python 3",
      "language": "python",
      "name": "python3"
    }
  },
  "cells": [
    {
      "cell_type": "markdown",
      "metadata": {
        "id": "view-in-github",
        "colab_type": "text"
      },
      "source": [
        "<a href=\"https://colab.research.google.com/github/ucfilho/ANN_capstone_projects/blob/master/ANN_rondinelli_dez_04_2018.ipynb\" target=\"_parent\"><img src=\"https://colab.research.google.com/assets/colab-badge.svg\" alt=\"Open In Colab\"/></a>"
      ]
    },
    {
      "metadata": {
        "id": "nstu_nthrpS0",
        "colab_type": "code",
        "colab": {}
      },
      "cell_type": "code",
      "source": [
        "# bibliotecas usadas\n",
        "import os\n",
        "import numpy as np\n",
        "import pandas as pd\n",
        "import matplotlib.pyplot as plt\n",
        "from sklearn.neural_network import MLPRegressor"
      ],
      "execution_count": 0,
      "outputs": []
    },
    {
      "metadata": {
        "id": "vqhywFVArpS1",
        "colab_type": "code",
        "colab": {}
      },
      "cell_type": "code",
      "source": [
        "# para gerar o grafico no browser\n",
        "%matplotlib inline"
      ],
      "execution_count": 0,
      "outputs": []
    },
    {
      "metadata": {
        "id": "Y3d_Zf9arpS3",
        "colab_type": "code",
        "outputId": "8b4d3f0d-3e51-4c8f-9669-d227e3cc145a",
        "colab": {
          "base_uri": "https://localhost:8080/",
          "height": 215
        }
      },
      "cell_type": "code",
      "source": [
        "# local dos dados e modifica o diretorio\n",
        "#path='/home/ucfilho/Documents/Aulas/Ago_29_2018'\n",
        "#os.chdir(path)\n",
        "!git clone http://github.com/rondinelliml/trabalho\n",
        "%cd trabalho\n",
        "!ls  "
      ],
      "execution_count": 3,
      "outputs": [
        {
          "output_type": "stream",
          "text": [
            "Cloning into 'trabalho'...\n",
            "warning: redirecting to https://github.com/rondinelliml/trabalho/\n",
            "remote: Enumerating objects: 32, done.\u001b[K\n",
            "remote: Counting objects: 100% (32/32), done.\u001b[K\n",
            "remote: Compressing objects: 100% (32/32), done.\u001b[K\n",
            "remote: Total 32 (delta 13), reused 0 (delta 0), pack-reused 0\u001b[K\n",
            "Unpacking objects: 100% (32/32), done.\n",
            "/content/trabalho\n",
            "'dados artigo.xlsx'\t\t  RBFNN_tranning_data1.csv\n",
            "'RBFNN error analysis data.csv'   trabalho1.ipynb\n",
            " RBFNN_error_analysis_data.csv\t 'tranning data transp.csv'\n"
          ],
          "name": "stdout"
        }
      ]
    },
    {
      "metadata": {
        "id": "o_Nm65ssrpS4",
        "colab_type": "code",
        "outputId": "0e05c2e3-1d23-4283-a22c-4f7d29b82605",
        "colab": {
          "base_uri": "https://localhost:8080/",
          "height": 181
        }
      },
      "cell_type": "code",
      "source": [
        "# leitura dos dados\n",
        "DAT=pd.read_csv(\"RBFNN_tranning_data1.csv\",sep='\\;')\n",
        "print(DAT.head())\n",
        "#DAT=pd.read_csv(\"Hydrofoil_ago_29_2018.csv\",index_col=\"emit\")"
      ],
      "execution_count": 4,
      "outputs": [
        {
          "output_type": "stream",
          "text": [
            "     epp    epw     pp     vp    upp    upw   alfa      p\n",
            "0  0.069  0.085  29.39  0.197  0.113  2.000  37.18  13.72\n",
            "1  0.059  0.088  25.91  0.237  0.019  2.000  27.12  12.74\n",
            "2  0.017  0.016  25.76  0.217  0.118  2.000  37.27  11.78\n",
            "3  0.070  0.024  24.55  0.415  0.139  0.682  34.56  11.27\n",
            "4  0.054  0.070  28.48  0.460  0.142  1.000  39.12  12.98\n"
          ],
          "name": "stdout"
        },
        {
          "output_type": "stream",
          "text": [
            "/usr/local/lib/python3.6/dist-packages/ipykernel_launcher.py:1: ParserWarning: Falling back to the 'python' engine because the 'c' engine does not support regex separators (separators > 1 char and different from '\\s+' are interpreted as regex); you can avoid this warning by specifying engine='python'.\n",
            "  \"\"\"Entry point for launching an IPython kernel.\n"
          ],
          "name": "stderr"
        }
      ]
    },
    {
      "metadata": {
        "id": "U5I-jpUqrpS4",
        "colab_type": "code",
        "outputId": "1c54de15-a544-4541-eddb-cd2ece48f928",
        "colab": {
          "base_uri": "https://localhost:8080/",
          "height": 125
        }
      },
      "cell_type": "code",
      "source": [
        "# separa as colunas de interesse\n",
        "Index=range(8)\n",
        "Dat_Select=[]\n",
        "Dat_Select=DAT.iloc[:,Index].copy()\n",
        "print(Dat_Select.head())"
      ],
      "execution_count": 5,
      "outputs": [
        {
          "output_type": "stream",
          "text": [
            "     epp    epw     pp     vp    upp    upw   alfa      p\n",
            "0  0.069  0.085  29.39  0.197  0.113  2.000  37.18  13.72\n",
            "1  0.059  0.088  25.91  0.237  0.019  2.000  27.12  12.74\n",
            "2  0.017  0.016  25.76  0.217  0.118  2.000  37.27  11.78\n",
            "3  0.070  0.024  24.55  0.415  0.139  0.682  34.56  11.27\n",
            "4  0.054  0.070  28.48  0.460  0.142  1.000  39.12  12.98\n"
          ],
          "name": "stdout"
        }
      ]
    },
    {
      "metadata": {
        "id": "gw3LCK0srpS6",
        "colab_type": "code",
        "colab": {}
      },
      "cell_type": "code",
      "source": [
        "# funcao normatiza dados, intervalo de -1 a 1)\n",
        "def Normatiza(x):\n",
        "    strings=list(x)\n",
        "    for i in strings:\n",
        "        max_x=x[i].max()\n",
        "        min_x=x[i].min()\n",
        "        a=(max_x+min_x)/2\n",
        "        b=(max_x-min_x)/2\n",
        "        x[i]=(x[i]-a)/b\n",
        "    return x"
      ],
      "execution_count": 0,
      "outputs": []
    },
    {
      "metadata": {
        "id": "iSSMXrHIrpS6",
        "colab_type": "code",
        "colab": {}
      },
      "cell_type": "code",
      "source": [
        "# funcao retorna os dados a forma original\n",
        "def Original(x,x_old):\n",
        "    strings=list(x)\n",
        "    for i in strings:\n",
        "        max_x=x_old[i].max()\n",
        "        min_x=x_old[i].min()\n",
        "        a=(max_x+min_x)/2\n",
        "        b=(max_x-min_x)/2\n",
        "        x[i]=x[i]*b+a\n",
        "    return x"
      ],
      "execution_count": 0,
      "outputs": []
    },
    {
      "metadata": {
        "id": "eSTPtYg_rpS6",
        "colab_type": "code",
        "outputId": "cad534bd-ad56-42b0-ef4b-1b9165ac4866",
        "colab": {
          "base_uri": "https://localhost:8080/",
          "height": 251
        }
      },
      "cell_type": "code",
      "source": [
        "# separa os dados em normatizados e originais\n",
        "DAT_OLD=[]\n",
        "# Guarda os dados antes de serem normatizados, para que não sejam perdidos\n",
        "DAT_OLD=Dat_Select.copy()\n",
        "DAT=Normatiza(Dat_Select)\n",
        "print(DAT.head())\n",
        "print('================================================================')\n",
        "print(DAT_OLD.head())"
      ],
      "execution_count": 8,
      "outputs": [
        {
          "output_type": "stream",
          "text": [
            "    epp   epw        pp        vp       upp    upw      alfa         p\n",
            "0  0.38  0.70  0.918667 -0.510101  0.471429  0.500  0.267399  0.774359\n",
            "1  0.18  0.76  0.454667 -0.308081 -0.871429  0.500 -0.551486  0.523077\n",
            "2 -0.66 -0.68  0.434667 -0.409091  0.542857  0.500  0.274725  0.276923\n",
            "3  0.40 -0.52  0.273333  0.590909  0.842857 -0.818  0.054131  0.146154\n",
            "4  0.08  0.40  0.797333  0.818182  0.885714 -0.500  0.425315  0.584615\n",
            "================================================================\n",
            "     epp    epw     pp     vp    upp    upw   alfa      p\n",
            "0  0.069  0.085  29.39  0.197  0.113  2.000  37.18  13.72\n",
            "1  0.059  0.088  25.91  0.237  0.019  2.000  27.12  12.74\n",
            "2  0.017  0.016  25.76  0.217  0.118  2.000  37.27  11.78\n",
            "3  0.070  0.024  24.55  0.415  0.139  0.682  34.56  11.27\n",
            "4  0.054  0.070  28.48  0.460  0.142  1.000  39.12  12.98\n"
          ],
          "name": "stdout"
        }
      ]
    },
    {
      "metadata": {
        "id": "vONrB2VKrpS7",
        "colab_type": "code",
        "outputId": "acdb58f6-9caf-44ec-b225-a19c602ccd03",
        "colab": {
          "base_uri": "https://localhost:8080/",
          "height": 323
        }
      },
      "cell_type": "code",
      "source": [
        "# separa os dados em treino e teste\n",
        "train=DAT.sample(frac=0.75,random_state=None) # poderia ser frac=0.5? sim ou nao?\n",
        "test=DAT.drop(train.index)\n",
        "#train e test possui tanto x (entrada/independente) quanto y (saida/dependente)\n",
        "print(train.head())\n",
        "print(\"===================================================================\")\n",
        "print(train.shape[0]) #mostrar o numero de linhas\n",
        "print(\"===================================================================\")\n",
        "print(test.head())\n",
        "print(\"===================================================================\")\n",
        "print(test.shape[0])"
      ],
      "execution_count": 9,
      "outputs": [
        {
          "output_type": "stream",
          "text": [
            "     epp   epw        pp        vp       upp    upw      alfa         p\n",
            "22  0.02 -0.02 -0.030667 -0.020202 -0.042857  0.500 -0.269027 -0.046154\n",
            "87  0.98 -0.04  0.677333 -0.287879 -0.328571  0.758  0.302401  0.630769\n",
            "73  0.52 -0.74  0.596000 -0.752525 -0.471429 -0.616 -0.527880  0.605128\n",
            "18 -0.18 -0.12 -0.434667 -0.777778  0.657143 -0.838  1.000000 -0.474359\n",
            "23  0.92 -0.24  0.010667 -0.101010 -0.900000 -0.500 -0.313797  0.089744\n",
            "===================================================================\n",
            "68\n",
            "===================================================================\n",
            "     epp   epw        pp        vp       upp    upw      alfa         p\n",
            "2  -0.66 -0.68  0.434667 -0.409091  0.542857  0.500  0.274725  0.276923\n",
            "3   0.40 -0.52  0.273333  0.590909  0.842857 -0.818  0.054131  0.146154\n",
            "6   0.56 -0.60 -0.514667  0.858586 -0.614286  0.500 -0.687424 -0.453846\n",
            "15 -0.38  0.34 -0.474667  0.919192 -0.071429  0.500  0.192511 -0.492308\n",
            "17 -0.48 -0.96 -0.152000  0.000000  0.314286 -0.798  0.242979 -0.179487\n",
            "===================================================================\n",
            "22\n"
          ],
          "name": "stdout"
        }
      ]
    },
    {
      "metadata": {
        "id": "GEyLpvY4rpS8",
        "colab_type": "code",
        "outputId": "50cd45d7-9850-4f8d-9306-a149313a597d",
        "colab": {
          "base_uri": "https://localhost:8080/",
          "height": 377
        }
      },
      "cell_type": "code",
      "source": [
        "# obtem as variaveis independentes (treino e teste)\n",
        "x_train=train.iloc[:,[0,1,2,3,4,5]]\n",
        "x_test=test.iloc[:,[0,1,2,3,4,5]]\n",
        "X_OLD=DAT_OLD.iloc[:,[0,1,2,3,4,5]]\n",
        "print(x_test.head())\n",
        "print('================================================================')\n",
        "print(x_train.head())\n",
        "print('================================================================')\n",
        "print(X_OLD.head())"
      ],
      "execution_count": 10,
      "outputs": [
        {
          "output_type": "stream",
          "text": [
            "     epp   epw        pp        vp       upp    upw\n",
            "2  -0.66 -0.68  0.434667 -0.409091  0.542857  0.500\n",
            "3   0.40 -0.52  0.273333  0.590909  0.842857 -0.818\n",
            "6   0.56 -0.60 -0.514667  0.858586 -0.614286  0.500\n",
            "15 -0.38  0.34 -0.474667  0.919192 -0.071429  0.500\n",
            "17 -0.48 -0.96 -0.152000  0.000000  0.314286 -0.798\n",
            "================================================================\n",
            "     epp   epw        pp        vp       upp    upw\n",
            "22  0.02 -0.02 -0.030667 -0.020202 -0.042857  0.500\n",
            "87  0.98 -0.04  0.677333 -0.287879 -0.328571  0.758\n",
            "73  0.52 -0.74  0.596000 -0.752525 -0.471429 -0.616\n",
            "18 -0.18 -0.12 -0.434667 -0.777778  0.657143 -0.838\n",
            "23  0.92 -0.24  0.010667 -0.101010 -0.900000 -0.500\n",
            "================================================================\n",
            "     epp    epw     pp     vp    upp    upw\n",
            "0  0.069  0.085  29.39  0.197  0.113  2.000\n",
            "1  0.059  0.088  25.91  0.237  0.019  2.000\n",
            "2  0.017  0.016  25.76  0.217  0.118  2.000\n",
            "3  0.070  0.024  24.55  0.415  0.139  0.682\n",
            "4  0.054  0.070  28.48  0.460  0.142  1.000\n"
          ],
          "name": "stdout"
        }
      ]
    },
    {
      "metadata": {
        "id": "LIKwr06SrpS9",
        "colab_type": "code",
        "outputId": "34f49d45-565d-4782-89cc-fb81b92264f9",
        "colab": {
          "base_uri": "https://localhost:8080/",
          "height": 917
        }
      },
      "cell_type": "code",
      "source": [
        "# obtem as variaveis dependentes (treino e teste)\n",
        "Index=[6,7]\n",
        "Y_OLD=DAT_OLD.iloc[:,Index]\n",
        "print(Y_OLD.head())\n",
        "\n",
        "Index=[6] #alfa\n",
        "Y_OLD_alfa=DAT_OLD.iloc[:,Index]\n",
        "y_train_alfa=train.iloc[:,Index]\n",
        "y_test_alfa=test.iloc[:,Index]\n",
        "\n",
        "Index=[7] #p\n",
        "Y_OLD_p=DAT_OLD.iloc[:,Index]           \n",
        "y_train_p=train.iloc[:,Index]\n",
        "y_test_p=test.iloc[:,Index]\n",
        "\n",
        "print(y_train_alfa.head())\n",
        "print(y_train_p.head())\n",
        "print('================================================================')\n",
        "print(y_test_alfa.head())\n",
        "print(y_test_p.head())\n",
        "print('================================================================')\n",
        "print(Y_OLD.head())\n",
        "print(Y_OLD_alfa.head())\n",
        "print(Y_OLD_p.head())"
      ],
      "execution_count": 11,
      "outputs": [
        {
          "output_type": "stream",
          "text": [
            "    alfa      p\n",
            "0  37.18  13.72\n",
            "1  27.12  12.74\n",
            "2  37.27  11.78\n",
            "3  34.56  11.27\n",
            "4  39.12  12.98\n",
            "        alfa\n",
            "22 -0.269027\n",
            "87  0.302401\n",
            "73 -0.527880\n",
            "18  1.000000\n",
            "23 -0.313797\n",
            "           p\n",
            "22 -0.046154\n",
            "87  0.630769\n",
            "73  0.605128\n",
            "18 -0.474359\n",
            "23  0.089744\n",
            "================================================================\n",
            "        alfa\n",
            "2   0.274725\n",
            "3   0.054131\n",
            "6  -0.687424\n",
            "15  0.192511\n",
            "17  0.242979\n",
            "           p\n",
            "2   0.276923\n",
            "3   0.146154\n",
            "6  -0.453846\n",
            "15 -0.492308\n",
            "17 -0.179487\n",
            "================================================================\n",
            "    alfa      p\n",
            "0  37.18  13.72\n",
            "1  27.12  12.74\n",
            "2  37.27  11.78\n",
            "3  34.56  11.27\n",
            "4  39.12  12.98\n",
            "    alfa\n",
            "0  37.18\n",
            "1  27.12\n",
            "2  37.27\n",
            "3  34.56\n",
            "4  39.12\n",
            "       p\n",
            "0  13.72\n",
            "1  12.74\n",
            "2  11.78\n",
            "3  11.27\n",
            "4  12.98\n"
          ],
          "name": "stdout"
        }
      ]
    },
    {
      "metadata": {
        "id": "zC70BsAG5eAC",
        "colab_type": "code",
        "colab": {}
      },
      "cell_type": "code",
      "source": [
        "Neuron=8"
      ],
      "execution_count": 0,
      "outputs": []
    },
    {
      "metadata": {
        "id": "sANIO3A0rpS9",
        "colab_type": "code",
        "colab": {}
      },
      "cell_type": "code",
      "source": [
        "# define a rede neural alfa\n",
        "clf_alfa = MLPRegressor(solver='lbfgs',activation='relu',alpha=1e-5,hidden_layer_sizes=(2), \n",
        "                    random_state=1)"
      ],
      "execution_count": 0,
      "outputs": []
    },
    {
      "metadata": {
        "id": "Z0NoFoiE5Q6h",
        "colab_type": "code",
        "colab": {}
      },
      "cell_type": "code",
      "source": [
        "# define a rede neural p\n",
        "clf_p = MLPRegressor(solver='lbfgs',activation='relu',alpha=1e-5,hidden_layer_sizes=(Neuron), \n",
        "                    random_state=1)"
      ],
      "execution_count": 0,
      "outputs": []
    },
    {
      "metadata": {
        "id": "7yep5T1yrpS-",
        "colab_type": "code",
        "outputId": "1f09bd2b-7711-468b-b55f-69abe015bbf1",
        "colab": {
          "base_uri": "https://localhost:8080/",
          "height": 199
        }
      },
      "cell_type": "code",
      "source": [
        "# treina a rede neural alfa\n",
        "clf_alfa.fit(x_train,y_train_alfa)"
      ],
      "execution_count": 15,
      "outputs": [
        {
          "output_type": "stream",
          "text": [
            "/usr/local/lib/python3.6/dist-packages/sklearn/neural_network/multilayer_perceptron.py:1306: DataConversionWarning: A column-vector y was passed when a 1d array was expected. Please change the shape of y to (n_samples, ), for example using ravel().\n",
            "  y = column_or_1d(y, warn=True)\n"
          ],
          "name": "stderr"
        },
        {
          "output_type": "execute_result",
          "data": {
            "text/plain": [
              "MLPRegressor(activation='relu', alpha=1e-05, batch_size='auto', beta_1=0.9,\n",
              "       beta_2=0.999, early_stopping=False, epsilon=1e-08,\n",
              "       hidden_layer_sizes=2, learning_rate='constant',\n",
              "       learning_rate_init=0.001, max_iter=200, momentum=0.9,\n",
              "       nesterovs_momentum=True, power_t=0.5, random_state=1, shuffle=True,\n",
              "       solver='lbfgs', tol=0.0001, validation_fraction=0.1, verbose=False,\n",
              "       warm_start=False)"
            ]
          },
          "metadata": {
            "tags": []
          },
          "execution_count": 15
        }
      ]
    },
    {
      "metadata": {
        "id": "o0FqJXxc5q2w",
        "colab_type": "code",
        "outputId": "6d82fda7-f0c7-4587-fa1e-4289da4f0911",
        "colab": {
          "base_uri": "https://localhost:8080/",
          "height": 199
        }
      },
      "cell_type": "code",
      "source": [
        "# treina a rede neural p\n",
        "clf_p.fit(x_train, y_train_p)"
      ],
      "execution_count": 16,
      "outputs": [
        {
          "output_type": "stream",
          "text": [
            "/usr/local/lib/python3.6/dist-packages/sklearn/neural_network/multilayer_perceptron.py:1306: DataConversionWarning: A column-vector y was passed when a 1d array was expected. Please change the shape of y to (n_samples, ), for example using ravel().\n",
            "  y = column_or_1d(y, warn=True)\n"
          ],
          "name": "stderr"
        },
        {
          "output_type": "execute_result",
          "data": {
            "text/plain": [
              "MLPRegressor(activation='relu', alpha=1e-05, batch_size='auto', beta_1=0.9,\n",
              "       beta_2=0.999, early_stopping=False, epsilon=1e-08,\n",
              "       hidden_layer_sizes=8, learning_rate='constant',\n",
              "       learning_rate_init=0.001, max_iter=200, momentum=0.9,\n",
              "       nesterovs_momentum=True, power_t=0.5, random_state=1, shuffle=True,\n",
              "       solver='lbfgs', tol=0.0001, validation_fraction=0.1, verbose=False,\n",
              "       warm_start=False)"
            ]
          },
          "metadata": {
            "tags": []
          },
          "execution_count": 16
        }
      ]
    },
    {
      "metadata": {
        "id": "5Aq-_nhyrpS-",
        "colab_type": "code",
        "outputId": "65c6fb33-42d6-47d5-9c9c-f43fa9301063",
        "colab": {
          "base_uri": "https://localhost:8080/",
          "height": 35
        }
      },
      "cell_type": "code",
      "source": [
        "# usa a rede neural treina em calculos para treino e teste \n",
        "# predizer os dados de saida (y) tanto para traino quanto para teste\n",
        "# pois quero no gráfico essas duas informações\n",
        "y_calc_train=clf_alfa.predict(x_train)\n",
        "y_calc_test=clf_alfa.predict(x_test)\n",
        "#print(y_calc_train[:,:])\n",
        "print(y_calc_test.shape[0])"
      ],
      "execution_count": 17,
      "outputs": [
        {
          "output_type": "stream",
          "text": [
            "22\n"
          ],
          "name": "stdout"
        }
      ]
    },
    {
      "metadata": {
        "id": "kMJuDgUCrpS_",
        "colab_type": "code",
        "outputId": "aee03511-bd80-4191-efd4-6e30ff60b656",
        "colab": {
          "base_uri": "https://localhost:8080/",
          "height": 143
        }
      },
      "cell_type": "code",
      "source": [
        "# transforma a saida da rede em dataframe \n",
        "y_calc_train=pd.DataFrame(y_calc_train)\n",
        "y_calc_test=pd.DataFrame(y_calc_test)\n",
        "col_names=list(Y_OLD_alfa)\n",
        "y_calc_train.columns = col_names\n",
        "y_calc_test.columns = col_names\n",
        "print(y_calc_train.head())\n",
        "print(y_calc_test.shape[0])"
      ],
      "execution_count": 18,
      "outputs": [
        {
          "output_type": "stream",
          "text": [
            "       alfa\n",
            "0 -0.070799\n",
            "1 -0.203518\n",
            "2 -0.318481\n",
            "3  0.463787\n",
            "4 -0.485651\n",
            "22\n"
          ],
          "name": "stdout"
        }
      ]
    },
    {
      "metadata": {
        "id": "lpC2hEPmrpS_",
        "colab_type": "code",
        "outputId": "c44146e0-cb3b-4a12-a81b-ab5ed0a0a59b",
        "colab": {
          "base_uri": "https://localhost:8080/",
          "height": 269
        }
      },
      "cell_type": "code",
      "source": [
        "# transforma dos dados calculados na forma original (nao normatizado)\n",
        "y_calc_train=Original(y_calc_train,Y_OLD_alfa)\n",
        "y_calc_test=Original(y_calc_test,Y_OLD_alfa)\n",
        "print(y_calc_test.head())\n",
        "print(y_calc_test.shape[0])\n",
        "\n",
        "print('================================================================')\n",
        "print(y_calc_train.head())\n"
      ],
      "execution_count": 19,
      "outputs": [
        {
          "output_type": "stream",
          "text": [
            "        alfa\n",
            "0  35.936815\n",
            "1  41.431049\n",
            "2  29.675905\n",
            "3  32.783518\n",
            "4  35.696581\n",
            "22\n",
            "================================================================\n",
            "        alfa\n",
            "0  33.025232\n",
            "1  31.394782\n",
            "2  29.982465\n",
            "3  39.592621\n",
            "4  27.928774\n"
          ],
          "name": "stdout"
        }
      ]
    },
    {
      "metadata": {
        "id": "bK1dYRnKrpTA",
        "colab_type": "code",
        "outputId": "5c5dcbfa-ca4c-4f53-dabe-6b100b05e5f2",
        "colab": {
          "base_uri": "https://localhost:8080/",
          "height": 71
        }
      },
      "cell_type": "code",
      "source": [
        "# recupera os dados originais \n",
        "test=[]\n",
        "train=[]\n",
        "train=Original(y_train_alfa,Y_OLD_alfa)\n",
        "test=Original(y_test_alfa,Y_OLD_alfa)\n",
        "print(train.shape[0])\n",
        "print('===================================================================')\n",
        "print(test.shape[0])"
      ],
      "execution_count": 20,
      "outputs": [
        {
          "output_type": "stream",
          "text": [
            "68\n",
            "===================================================================\n",
            "22\n"
          ],
          "name": "stdout"
        }
      ]
    },
    {
      "metadata": {
        "id": "PHbzkxPqrpTA",
        "colab_type": "code",
        "outputId": "9a5d1f3d-abf8-4f09-a32a-ac079820c018",
        "colab": {
          "base_uri": "https://localhost:8080/",
          "height": 53
        }
      },
      "cell_type": "code",
      "source": [
        "# escolhe uma das resposta para fazer o grafico (alfa-treino)\n",
        "alfa_obs_train=[]\n",
        "alfa_calc_train=[]\n",
        "alfa_calc_train=y_calc_train['alfa'].copy()\n",
        "alfa_obs_train=train['alfa'].copy()\n",
        "#print(alfa_calc_test.head())\n",
        "print(alfa_calc_train.shape[0])\n",
        "print(alfa_obs_train.shape[0])\n",
        "#print(alfa_obs_test.shape[0])\n",
        "#print(alfa_calc_test.shape[0])"
      ],
      "execution_count": 21,
      "outputs": [
        {
          "output_type": "stream",
          "text": [
            "68\n",
            "68\n"
          ],
          "name": "stdout"
        }
      ]
    },
    {
      "metadata": {
        "id": "2lZ7HhCnFWL4",
        "colab_type": "code",
        "colab": {}
      },
      "cell_type": "code",
      "source": [
        ""
      ],
      "execution_count": 0,
      "outputs": []
    },
    {
      "metadata": {
        "id": "BIUoZPYtrpTB",
        "colab_type": "code",
        "outputId": "03a2e39a-5b63-497f-d26d-d441cb4fdf9e",
        "colab": {
          "base_uri": "https://localhost:8080/",
          "height": 161
        }
      },
      "cell_type": "code",
      "source": [
        "# escolhe uma das resposta para fazer o grafico (alfa-teste)\n",
        "alfa_obs_test=[]\n",
        "alfa_calc_test=[]\n",
        "alfa_calc_test=y_calc_test['alfa'].copy()\n",
        "alfa_obs_test=test['alfa'].copy()\n",
        "print(alfa_calc_test.head())\n",
        "print(alfa_calc_test.shape[0])\n",
        "print(alfa_obs_test.shape[0])"
      ],
      "execution_count": 22,
      "outputs": [
        {
          "output_type": "stream",
          "text": [
            "0    35.936815\n",
            "1    41.431049\n",
            "2    29.675905\n",
            "3    32.783518\n",
            "4    35.696581\n",
            "Name: alfa, dtype: float64\n",
            "22\n",
            "22\n"
          ],
          "name": "stdout"
        }
      ]
    },
    {
      "metadata": {
        "id": "BnO6fYDQrpTC",
        "colab_type": "code",
        "outputId": "d595e995-de24-498c-c4e3-1ffd42eaf739",
        "colab": {
          "base_uri": "https://localhost:8080/",
          "height": 279
        }
      },
      "cell_type": "code",
      "source": [
        "# expressa os dois dados em figura\n",
        "fig = plt.figure()\n",
        "ax1 = fig.add_subplot(111)#mostra dois graficos sob o mesmo eixo \n",
        "\n",
        "ax1.scatter(alfa_obs_test,alfa_calc_test, s=10, c='b', marker=\"s\", label='teste')\n",
        "ax1.scatter(alfa_obs_train,alfa_calc_train, s=10, c='r', marker=\"o\", label='treino')\n",
        "plt.legend(loc='upper left')\n",
        "plt.ylabel('alfa Calc')\n",
        "plt.xlabel('alfa Obs')\n",
        "plt.show()"
      ],
      "execution_count": 23,
      "outputs": [
        {
          "output_type": "display_data",
          "data": {
            "image/png": "[encoded data removed]",
            "text/plain": [
              "<matplotlib.figure.Figure at 0x7f7159166e80>"
            ]
          },
          "metadata": {
            "tags": []
          }
        }
      ]
    },
    {
      "metadata": {
        "id": "H2P6OClerpTC",
        "colab_type": "code",
        "colab": {}
      },
      "cell_type": "code",
      "source": [
        "#from é usado para carregar apenas uma função de uma biblioteca\n",
        "from sklearn.metrics import mean_squared_error\n",
        "from sklearn.metrics import r2_score "
      ],
      "execution_count": 0,
      "outputs": []
    },
    {
      "metadata": {
        "id": "ywqDO_2irpTD",
        "colab_type": "code",
        "outputId": "79adba12-b2cf-46d3-88a7-5d4b8a01c881",
        "colab": {
          "base_uri": "https://localhost:8080/",
          "height": 53
        }
      },
      "cell_type": "code",
      "source": [
        "mse=mean_squared_error(alfa_obs_test,alfa_calc_test)\n",
        "print(\"MSE teste=\",mse)\n",
        "R2=r2_score(alfa_obs_test,alfa_calc_test)\n",
        "print(\"R^2 teste=\",R2)"
      ],
      "execution_count": 25,
      "outputs": [
        {
          "output_type": "stream",
          "text": [
            "MSE teste= 8.920440045240197\n",
            "R^2 teste= 0.5058233412123683\n"
          ],
          "name": "stdout"
        }
      ]
    },
    {
      "metadata": {
        "id": "YssNSRRIrpTD",
        "colab_type": "code",
        "outputId": "2b8ddb5d-1237-4216-90bc-15f8ba132048",
        "colab": {
          "base_uri": "https://localhost:8080/",
          "height": 53
        }
      },
      "cell_type": "code",
      "source": [
        "mse=mean_squared_error(alfa_obs_train,alfa_calc_train)\n",
        "print(\"MSE treino=\",mse)\n",
        "R2=r2_score(alfa_obs_train,alfa_calc_train)\n",
        "print(\"R^2 treino=\",R2)"
      ],
      "execution_count": 26,
      "outputs": [
        {
          "output_type": "stream",
          "text": [
            "MSE treino= 7.56694849598055\n",
            "R^2 treino= 0.7677276441228649\n"
          ],
          "name": "stdout"
        }
      ]
    },
    {
      "metadata": {
        "id": "lnN15MR9FWsO",
        "colab_type": "code",
        "outputId": "42d2745c-4c5a-4476-a74a-ffbe1251307e",
        "colab": {
          "base_uri": "https://localhost:8080/",
          "height": 279
        }
      },
      "cell_type": "code",
      "source": [
        "y_calc_train=clf_p.predict(x_train)\n",
        "y_calc_test=clf_p.predict(x_test)\n",
        "y_calc_train=pd.DataFrame(y_calc_train)\n",
        "y_calc_test=pd.DataFrame(y_calc_test)\n",
        "col_names=list(Y_OLD_p)\n",
        "y_calc_train.columns = col_names\n",
        "y_calc_test.columns = col_names\n",
        "y_calc_train=Original(y_calc_train,Y_OLD_p)\n",
        "y_calc_test=Original(y_calc_test,Y_OLD_p)\n",
        "test=[]\n",
        "train=[]\n",
        "train=Original(y_train_p,Y_OLD_p)\n",
        "test=Original(y_test_p,Y_OLD_p)\n",
        "p_obs_train=[]\n",
        "p_calc_train=[]\n",
        "p_calc_train=y_calc_train['p'].copy()\n",
        "p_obs_train=train['p'].copy()\n",
        "p_obs_test=[]\n",
        "p_calc_test=[]\n",
        "p_calc_test=y_calc_test['p'].copy()\n",
        "p_obs_test=test['p'].copy()\n",
        "fig = plt.figure()\n",
        "ax1 = fig.add_subplot(111)#mostra dois graficos sob o mesmo eixo \n",
        "ax1.scatter(p_obs_test,p_calc_test, s=10, c='b', marker=\"s\", label='teste')\n",
        "ax1.scatter(p_obs_train,p_calc_train, s=10, c='r', marker=\"o\", label='treino')\n",
        "plt.legend(loc='upper left')\n",
        "plt.ylabel('p Calc')\n",
        "plt.xlabel('p Obs')\n",
        "plt.show()"
      ],
      "execution_count": 27,
      "outputs": [
        {
          "output_type": "display_data",
          "data": {
            "image/png": "[encoded data removed]",
            "text/plain": [
              "<matplotlib.figure.Figure at 0x7f7159156c18>"
            ]
          },
          "metadata": {
            "tags": []
          }
        }
      ]
    },
    {
      "metadata": {
        "id": "zh7io1YhLt86",
        "colab_type": "code",
        "outputId": "265bf68f-86bb-41c3-cd86-f710e910a5a3",
        "colab": {
          "base_uri": "https://localhost:8080/",
          "height": 53
        }
      },
      "cell_type": "code",
      "source": [
        "mse=mean_squared_error(p_obs_test,p_calc_test)\n",
        "print(\"MSE teste=\",mse)\n",
        "R2=r2_score(p_obs_test,p_calc_test)\n",
        "print(\"R^2 teste=\",R2)"
      ],
      "execution_count": 28,
      "outputs": [
        {
          "output_type": "stream",
          "text": [
            "MSE teste= 0.04223549393968777\n",
            "R^2 teste= 0.9897821616479433\n"
          ],
          "name": "stdout"
        }
      ]
    },
    {
      "metadata": {
        "id": "MBVuiFiML1U5",
        "colab_type": "code",
        "outputId": "5a2d49a1-6caf-4da5-8f94-1b662f81826e",
        "colab": {
          "base_uri": "https://localhost:8080/",
          "height": 53
        }
      },
      "cell_type": "code",
      "source": [
        "mse=mean_squared_error(p_obs_train,p_calc_train)\n",
        "print(\"MSE treino=\",mse)\n",
        "R2=r2_score(p_obs_train,p_calc_train)\n",
        "print(\"R^2 treino=\",R2)"
      ],
      "execution_count": 29,
      "outputs": [
        {
          "output_type": "stream",
          "text": [
            "MSE treino= 0.03771519488643363\n",
            "R^2 treino= 0.9919702324609005\n"
          ],
          "name": "stdout"
        }
      ]
    }
  ]
}