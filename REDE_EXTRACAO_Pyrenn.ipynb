{
  "nbformat": 4,
  "nbformat_minor": 0,
  "metadata": {
    "colab": {
      "name": "REDE EXTRACAO Pyrenn.ipynb",
      "version": "0.3.2",
      "provenance": []
    },
    "kernelspec": {
      "name": "python3",
      "display_name": "Python 3"
    }
  },
  "cells": [
    {
      "metadata": {
        "id": "hpwj4mmb2I5-",
        "colab_type": "code",
        "outputId": "5a9c6e93-f956-476a-e85d-bba337091994",
        "colab": {
          "base_uri": "https://localhost:8080/",
          "height": 170
        }
      },
      "cell_type": "code",
      "source": [
        "#Importa bibliotecas\n",
        "import numpy as np\n",
        "import pandas as pd\n",
        "import matplotlib.pyplot as plt\n",
        "from sklearn.neural_network import MLPRegressor\n",
        "from sklearn.metrics import mean_squared_error\n",
        "from sklearn.metrics import r2_score \n",
        "from mpl_toolkits.mplot3d import Axes3D, axes3d\n",
        "from scipy import optimize\n",
        "\n",
        "! pip install pyrenn\n",
        "import pyrenn as pn"
      ],
      "execution_count": 1,
      "outputs": [
        {
          "output_type": "stream",
          "text": [
            "Collecting pyrenn\n",
            "  Downloading https://files.pythonhosted.org/packages/9a/91/c7f721d7cf1becf4d2d32aeab60e75340fdeed32490ce5af6fc2bce60e4a/pyrenn-0.1.tar.gz\n",
            "Requirement already satisfied: numpy in /usr/local/lib/python3.6/dist-packages (from pyrenn) (1.14.6)\n",
            "Building wheels for collected packages: pyrenn\n",
            "  Running setup.py bdist_wheel for pyrenn ... \u001b[?25l-\b \bdone\n",
            "\u001b[?25h  Stored in directory: /root/.cache/pip/wheels/91/ed/b6/ab8600223e6ec9cea9592f0cf6e32db7abb4c2cc4c30b90eac\n",
            "Successfully built pyrenn\n",
            "Installing collected packages: pyrenn\n",
            "Successfully installed pyrenn-0.1\n"
          ],
          "name": "stdout"
        }
      ]
    },
    {
      "metadata": {
        "id": "Aukr7rjf2Obk",
        "colab_type": "code",
        "outputId": "bba30721-4eb2-4d57-bb85-7d359e18d876",
        "colab": {
          "base_uri": "https://localhost:8080/",
          "height": 34
        }
      },
      "cell_type": "code",
      "source": [
        "#Clona a pasta do github\n",
        "!git clone https://github.com/AnaSoldan/ANN"
      ],
      "execution_count": 2,
      "outputs": [
        {
          "output_type": "stream",
          "text": [
            "fatal: destination path 'ANN' already exists and is not an empty directory.\n"
          ],
          "name": "stdout"
        }
      ]
    },
    {
      "metadata": {
        "id": "NhSL7yrk2VsL",
        "colab_type": "code",
        "outputId": "c59bed17-05e3-4115-c6d1-ebdf5018bbfb",
        "colab": {
          "base_uri": "https://localhost:8080/",
          "height": 34
        }
      },
      "cell_type": "code",
      "source": [
        "#Direciona para a pasta ANN\n",
        "%cd ANN"
      ],
      "execution_count": 3,
      "outputs": [
        {
          "output_type": "stream",
          "text": [
            "/content/ANN\n"
          ],
          "name": "stdout"
        }
      ]
    },
    {
      "metadata": {
        "id": "2GPA_GEc2ZAm",
        "colab_type": "code",
        "outputId": "edc392ff-8a26-4edc-b0f4-823afdf9f962",
        "colab": {
          "base_uri": "https://localhost:8080/",
          "height": 34
        }
      },
      "cell_type": "code",
      "source": [
        "#Exibe o conteudo da pasta\n",
        "!ls"
      ],
      "execution_count": 4,
      "outputs": [
        {
          "output_type": "stream",
          "text": [
            "Dados_extracao.csv  Extracao.csv  README.md\n"
          ],
          "name": "stdout"
        }
      ]
    },
    {
      "metadata": {
        "id": "ERakOfY43TXV",
        "colab_type": "code",
        "outputId": "de5700c6-05a2-43eb-fb8c-b7e664275d00",
        "colab": {
          "base_uri": "https://localhost:8080/",
          "height": 238
        }
      },
      "cell_type": "code",
      "source": [
        "#Salva os dados da planilha na variavel\n",
        "DADOS=pd.read_csv(\"Extracao.csv\")\n",
        "print(DADOS.head())"
      ],
      "execution_count": 5,
      "outputs": [
        {
          "output_type": "stream",
          "text": [
            "   Run  Temperature  Pressure  Particle_size  Flow_rate-CO2  Co-solvent  \\\n",
            "0    1           80       200           0.50             10           5   \n",
            "1    2           80       275           0.75             10           5   \n",
            "2    3           60       350           0.75             10           5   \n",
            "3    4           60       275           0.75             10           0   \n",
            "4    5           80       275           1.00              5           5   \n",
            "\n",
            "   Observed_yield  Predicted_yield  \n",
            "0          0.1289           0.1331  \n",
            "1          0.3470           0.3604  \n",
            "2          0.3430           0.3400  \n",
            "3          0.2500           0.2539  \n",
            "4          0.3000           0.2988  \n"
          ],
          "name": "stdout"
        }
      ]
    },
    {
      "metadata": {
        "id": "S0P1tIBXeJvD",
        "colab_type": "code",
        "colab": {}
      },
      "cell_type": "code",
      "source": [
        "#Codificacao dos dados\n",
        "def Codificacao(x):\n",
        "  strings=list(x)\n",
        "  for i in strings:\n",
        "    x_max=x[i].max()\n",
        "    x_min=x[i].min()\n",
        "    a=(x_max+x_min)/2\n",
        "    b=(x_max-x_min)/2\n",
        "    x[i]=(x[i]-a)/b\n",
        "  return x"
      ],
      "execution_count": 0,
      "outputs": []
    },
    {
      "metadata": {
        "id": "38UuTV6xftyb",
        "colab_type": "code",
        "outputId": "95f1fd47-5436-41ab-8b1b-6633c4a42290",
        "colab": {
          "base_uri": "https://localhost:8080/",
          "height": 238
        }
      },
      "cell_type": "code",
      "source": [
        "#Seleciona as colunas de interesse\n",
        "Colunas=[1,2,3,4,5,6]\n",
        "Sel_dados=[]\n",
        "Sel_dados=DADOS.iloc[:,Colunas].copy()\n",
        "print(Sel_dados.head())"
      ],
      "execution_count": 7,
      "outputs": [
        {
          "output_type": "stream",
          "text": [
            "   Temperature  Pressure  Particle_size  Flow_rate-CO2  Co-solvent  \\\n",
            "0           80       200           0.50             10           5   \n",
            "1           80       275           0.75             10           5   \n",
            "2           60       350           0.75             10           5   \n",
            "3           60       275           0.75             10           0   \n",
            "4           80       275           1.00              5           5   \n",
            "\n",
            "   Observed_yield  \n",
            "0          0.1289  \n",
            "1          0.3470  \n",
            "2          0.3430  \n",
            "3          0.2500  \n",
            "4          0.3000  \n"
          ],
          "name": "stdout"
        }
      ]
    },
    {
      "metadata": {
        "id": "9156sFS0gidn",
        "colab_type": "code",
        "outputId": "8f3c2c87-a525-4c99-c0df-a71ef5126b62",
        "colab": {
          "base_uri": "https://localhost:8080/",
          "height": 238
        }
      },
      "cell_type": "code",
      "source": [
        "#Cria variavel de dados normatizados\n",
        "Nor_dados=[]\n",
        "Nor_dados=Codificacao(Sel_dados).copy()\n",
        "print(Nor_dados.head())"
      ],
      "execution_count": 8,
      "outputs": [
        {
          "output_type": "stream",
          "text": [
            "   Temperature  Pressure  Particle_size  Flow_rate-CO2  Co-solvent  \\\n",
            "0          0.0      -1.0           -1.0            0.0         0.0   \n",
            "1          0.0       0.0            0.0            0.0         0.0   \n",
            "2         -1.0       1.0            0.0            0.0         0.0   \n",
            "3         -1.0       0.0            0.0            0.0        -1.0   \n",
            "4          0.0       0.0            1.0           -1.0         0.0   \n",
            "\n",
            "   Observed_yield  \n",
            "0       -0.648603  \n",
            "1        0.569832  \n",
            "2        0.547486  \n",
            "3        0.027933  \n",
            "4        0.307263  \n"
          ],
          "name": "stdout"
        }
      ]
    },
    {
      "metadata": {
        "id": "cmusxQWzhy2d",
        "colab_type": "code",
        "outputId": "0d4c957d-185b-442e-f52d-d36e3941686b",
        "colab": {
          "base_uri": "https://localhost:8080/",
          "height": 680
        }
      },
      "cell_type": "code",
      "source": [
        "#Seleciona os dados de treino e teste\n",
        "linhas_train=range(32)\n",
        "linhas_validation=[33,34,35,36,37,38]\n",
        "linhas_test=[39, 40, 41, 42, 43, 44, 45]\n",
        "Train=Nor_dados.iloc[linhas_train, :].copy()\n",
        "Validation=Nor_dados.iloc[linhas_validation,:].copy()\n",
        "Test=Nor_dados.iloc[linhas_test, :].copy()\n",
        "print(Train.head())\n",
        "print(Validation.head())\n",
        "print(Test.head())"
      ],
      "execution_count": 9,
      "outputs": [
        {
          "output_type": "stream",
          "text": [
            "   Temperature  Pressure  Particle_size  Flow_rate-CO2  Co-solvent  \\\n",
            "0          0.0      -1.0           -1.0            0.0         0.0   \n",
            "1          0.0       0.0            0.0            0.0         0.0   \n",
            "2         -1.0       1.0            0.0            0.0         0.0   \n",
            "3         -1.0       0.0            0.0            0.0        -1.0   \n",
            "4          0.0       0.0            1.0           -1.0         0.0   \n",
            "\n",
            "   Observed_yield  \n",
            "0       -0.648603  \n",
            "1        0.569832  \n",
            "2        0.547486  \n",
            "3        0.027933  \n",
            "4        0.307263  \n",
            "    Temperature  Pressure  Particle_size  Flow_rate-CO2  Co-solvent  \\\n",
            "33          0.0       1.0            0.0           -1.0         0.0   \n",
            "34          0.0       0.0            0.0           -1.0         1.0   \n",
            "35          0.0       0.0            0.0            0.0         0.0   \n",
            "36          0.0       1.0            1.0            0.0         0.0   \n",
            "37          0.0       1.0           -1.0            0.0         0.0   \n",
            "\n",
            "    Observed_yield  \n",
            "33        0.754190  \n",
            "34        0.883240  \n",
            "35        0.729609  \n",
            "36        0.893855  \n",
            "37       -0.111732  \n",
            "    Temperature  Pressure  Particle_size  Flow_rate-CO2  Co-solvent  \\\n",
            "39          0.0       0.0            0.0            1.0        -1.0   \n",
            "40         -1.0       0.0            1.0            0.0         0.0   \n",
            "41          0.0       0.0            0.0           -1.0        -1.0   \n",
            "42          0.0       0.0            1.0            0.0         1.0   \n",
            "43          0.0       0.0           -1.0            1.0         0.0   \n",
            "\n",
            "    Observed_yield  \n",
            "39        0.000000  \n",
            "40        0.544693  \n",
            "41       -0.477654  \n",
            "42        0.754190  \n",
            "43       -0.237430  \n"
          ],
          "name": "stdout"
        }
      ]
    },
    {
      "metadata": {
        "id": "bgCWiKcCjsQ8",
        "colab_type": "code",
        "outputId": "ac1a8cc9-85cb-4a7d-8053-c88bdeb8237d",
        "colab": {
          "base_uri": "https://localhost:8080/",
          "height": 323
        }
      },
      "cell_type": "code",
      "source": [
        "#Seleciona as variáveis independentes\n",
        "x_train=Train.iloc[:,[0,1,2,3,4]].copy()\n",
        "x_validation=Validation.iloc[:,[0,1,2,3,4]].copy()\n",
        "x_test=Test.iloc[:,[0,1,2,3,4]].copy()\n",
        "x_orig=DADOS.iloc[:,[1,2,3,4,5]].copy()\n",
        "print(x_train.head())\n",
        "print(x_test.head())\n",
        "print(x_orig.head())"
      ],
      "execution_count": 10,
      "outputs": [
        {
          "output_type": "stream",
          "text": [
            "   Temperature  Pressure  Particle_size  Flow_rate-CO2  Co-solvent\n",
            "0          0.0      -1.0           -1.0            0.0         0.0\n",
            "1          0.0       0.0            0.0            0.0         0.0\n",
            "2         -1.0       1.0            0.0            0.0         0.0\n",
            "3         -1.0       0.0            0.0            0.0        -1.0\n",
            "4          0.0       0.0            1.0           -1.0         0.0\n",
            "    Temperature  Pressure  Particle_size  Flow_rate-CO2  Co-solvent\n",
            "39          0.0       0.0            0.0            1.0        -1.0\n",
            "40         -1.0       0.0            1.0            0.0         0.0\n",
            "41          0.0       0.0            0.0           -1.0        -1.0\n",
            "42          0.0       0.0            1.0            0.0         1.0\n",
            "43          0.0       0.0           -1.0            1.0         0.0\n",
            "   Temperature  Pressure  Particle_size  Flow_rate-CO2  Co-solvent\n",
            "0           80       200           0.50             10           5\n",
            "1           80       275           0.75             10           5\n",
            "2           60       350           0.75             10           5\n",
            "3           60       275           0.75             10           0\n",
            "4           80       275           1.00              5           5\n"
          ],
          "name": "stdout"
        }
      ]
    },
    {
      "metadata": {
        "id": "G8EoMo7ApJ4M",
        "colab_type": "code",
        "outputId": "dbfff078-310f-411c-daaa-aebb68d66c31",
        "colab": {
          "base_uri": "https://localhost:8080/",
          "height": 357
        }
      },
      "cell_type": "code",
      "source": [
        "#Seleciona as variaveis dependentes\n",
        "y_train=Train.iloc[:,[5]].copy()\n",
        "y_validation=Validation.iloc[:,[5]].copy()\n",
        "y_test=Test.iloc[:,[5]].copy()\n",
        "y_orig=DADOS.iloc[:,[6]].copy()\n",
        "print(y_train.head())\n",
        "print(y_test)\n",
        "print(y_orig.head())"
      ],
      "execution_count": 11,
      "outputs": [
        {
          "output_type": "stream",
          "text": [
            "   Observed_yield\n",
            "0       -0.648603\n",
            "1        0.569832\n",
            "2        0.547486\n",
            "3        0.027933\n",
            "4        0.307263\n",
            "    Observed_yield\n",
            "39        0.000000\n",
            "40        0.544693\n",
            "41       -0.477654\n",
            "42        0.754190\n",
            "43       -0.237430\n",
            "44        0.251397\n",
            "45       -0.040782\n",
            "   Observed_yield\n",
            "0          0.1289\n",
            "1          0.3470\n",
            "2          0.3430\n",
            "3          0.2500\n",
            "4          0.3000\n"
          ],
          "name": "stdout"
        }
      ]
    },
    {
      "metadata": {
        "id": "0mUaZXP3c9eA",
        "colab_type": "code",
        "outputId": "42638417-796b-480c-d141-3dedb9bb5fe8",
        "colab": {
          "base_uri": "https://localhost:8080/",
          "height": 357
        }
      },
      "cell_type": "code",
      "source": [
        "#Seleciona os dados observados\n",
        "linhas_train=range(32)\n",
        "linhas_validation=[33,34,35,36,37,38]\n",
        "linhas_test=[39, 40, 41, 42, 43, 44, 45]\n",
        "y_obs_train=y_orig.iloc[linhas_train, [0]].copy()\n",
        "y_obs_validation=y_orig.iloc[linhas_validation, [0]].copy()\n",
        "y_obs_test=y_orig.iloc[linhas_test,[0]].copy()\n",
        "print(y_obs_train.head())\n",
        "print(y_obs_validation.head())\n",
        "print(y_obs_test)"
      ],
      "execution_count": 12,
      "outputs": [
        {
          "output_type": "stream",
          "text": [
            "   Observed_yield\n",
            "0          0.1289\n",
            "1          0.3470\n",
            "2          0.3430\n",
            "3          0.2500\n",
            "4          0.3000\n",
            "    Observed_yield\n",
            "33          0.3800\n",
            "34          0.4031\n",
            "35          0.3756\n",
            "36          0.4050\n",
            "37          0.2250\n",
            "    Observed_yield\n",
            "39          0.2450\n",
            "40          0.3425\n",
            "41          0.1595\n",
            "42          0.3800\n",
            "43          0.2025\n",
            "44          0.2900\n",
            "45          0.2377\n"
          ],
          "name": "stdout"
        }
      ]
    },
    {
      "metadata": {
        "id": "CJZbUnxZVL-D",
        "colab_type": "code",
        "outputId": "c6b39f94-7ab0-4122-bd36-89739809b1e1",
        "colab": {
          "base_uri": "https://localhost:8080/",
          "height": 765
        }
      },
      "cell_type": "code",
      "source": [
        "#Transpõe os dataframes e transforma eles em matriz do numpy para que sejam compatíveis com o formato da rede (Treino)\n",
        "x_train=x_train.T\n",
        "y_train=y_train.T\n",
        "print(x_train)\n",
        "print(y_train)\n",
        "x_train=np.array(x_train)\n",
        "y_train=np.array(y_train)\n",
        "print(x_train)\n",
        "print(y_train)"
      ],
      "execution_count": 13,
      "outputs": [
        {
          "output_type": "stream",
          "text": [
            "                0    1    2    3    4    5    6    7    8    9  ...    22  \\\n",
            "Temperature    0.0  0.0 -1.0 -1.0  0.0  1.0  0.0  0.0 -1.0  1.0 ...   0.0   \n",
            "Pressure      -1.0  0.0  1.0  0.0  0.0  0.0 -1.0 -1.0 -1.0  1.0 ...   0.0   \n",
            "Particle_size -1.0  0.0  0.0  0.0  1.0  0.0  0.0  0.0  0.0  0.0 ...   1.0   \n",
            "Flow_rate-CO2  0.0  0.0  0.0  0.0 -1.0 -1.0  0.0  1.0  0.0  0.0 ...   0.0   \n",
            "Co-solvent     0.0  0.0  0.0 -1.0  0.0  0.0  1.0  0.0  0.0  0.0 ...  -1.0   \n",
            "\n",
            "                23   24   25   26   27   28   29   30   31  \n",
            "Temperature   -1.0 -1.0  0.0  1.0  0.0  1.0  0.0  0.0  1.0  \n",
            "Pressure       0.0  0.0  0.0  0.0  0.0  0.0  1.0 -1.0  0.0  \n",
            "Particle_size -1.0  0.0  1.0  0.0  0.0  0.0  0.0  0.0  0.0  \n",
            "Flow_rate-CO2  0.0  1.0  1.0  1.0  0.0  0.0  0.0 -1.0  0.0  \n",
            "Co-solvent     0.0  0.0  0.0  0.0  0.0  1.0 -1.0  0.0 -1.0  \n",
            "\n",
            "[5 rows x 32 columns]\n",
            "                      0         1         2         3         4         5   \\\n",
            "Observed_yield -0.648603  0.569832  0.547486  0.027933  0.307263  0.094972   \n",
            "\n",
            "                      6         7         8         9     ...           22  \\\n",
            "Observed_yield  0.321229 -0.125698  0.195531  0.698324    ...    -0.251397   \n",
            "\n",
            "                      23        24        25        26        27   28  \\\n",
            "Observed_yield -0.337989  0.418994  0.522346  0.653631  0.678212  1.0   \n",
            "\n",
            "                      29        30        31  \n",
            "Observed_yield  0.195531 -0.421788 -0.413408  \n",
            "\n",
            "[1 rows x 32 columns]\n",
            "[[ 0.  0. -1. -1.  0.  1.  0.  0. -1.  1.  0.  0.  0.  1.  0.  0.  0.  0.\n",
            "   0.  1.  0. -1.  0. -1. -1.  0.  1.  0.  1.  0.  0.  1.]\n",
            " [-1.  0.  1.  0.  0.  0. -1. -1. -1.  1.  0.  0. -1. -1.  1.  0.  1. -1.\n",
            "   0.  0.  0.  0.  0.  0.  0.  0.  0.  0.  0.  1. -1.  0.]\n",
            " [-1.  0.  0.  0.  1.  0.  0.  0.  0.  0. -1.  0.  1.  0.  0.  0.  0.  0.\n",
            "  -1.  1.  0.  0.  1. -1.  0.  1.  0.  0.  0.  0.  0.  0.]\n",
            " [ 0.  0.  0.  0. -1. -1.  0.  1.  0.  0. -1.  0.  0.  0.  1.  1.  0.  0.\n",
            "   0.  0.  0.  0.  0.  0.  1.  1.  1.  0.  0.  0. -1.  0.]\n",
            " [ 0.  0.  0. -1.  0.  0.  1.  0.  0.  0.  0.  0.  0.  0.  0.  1.  1. -1.\n",
            "  -1.  0.  0.  1. -1.  0.  0.  0.  0.  0.  1. -1.  0. -1.]]\n",
            "[[-0.64860335  0.5698324   0.54748603  0.02793296  0.30726257  0.09497207\n",
            "   0.32122905 -0.12569832  0.19553073  0.69832402 -0.30782123  0.72234637\n",
            "  -0.21787709 -0.5452514   0.37430168  0.64134078  0.85810056 -1.\n",
            "  -0.55865922  0.0698324   0.64804469  0.47206704 -0.25139665 -0.33798883\n",
            "   0.41899441  0.52234637  0.65363128  0.67821229  1.          0.19553073\n",
            "  -0.42178771 -0.41340782]]\n"
          ],
          "name": "stdout"
        }
      ]
    },
    {
      "metadata": {
        "id": "gfQ2dR0NSrb7",
        "colab_type": "code",
        "outputId": "cd1a1661-80b2-43c3-b1a8-4193ec69a936",
        "colab": {
          "base_uri": "https://localhost:8080/",
          "height": 204
        }
      },
      "cell_type": "code",
      "source": [
        "#Transpõe os dataframes e transforma eles em matriz do numpy para que sejam compatíveis com o formato da rede (Validation)\n",
        "x_validation=x_validation.T\n",
        "y_validation=y_validation.T\n",
        "print(x_validation)\n",
        "x_validation=np.array(x_validation)\n",
        "y_validation=np.array(y_validation)\n",
        "print(x_validation)"
      ],
      "execution_count": 14,
      "outputs": [
        {
          "output_type": "stream",
          "text": [
            "                33   34   35   36   37   38\n",
            "Temperature    0.0  0.0  0.0  0.0  0.0  1.0\n",
            "Pressure       1.0  0.0  0.0  1.0  1.0  0.0\n",
            "Particle_size  0.0  0.0  0.0  1.0 -1.0 -1.0\n",
            "Flow_rate-CO2 -1.0 -1.0  0.0  0.0  0.0  0.0\n",
            "Co-solvent     0.0  1.0  0.0  0.0  0.0  0.0\n",
            "[[ 0.  0.  0.  0.  0.  1.]\n",
            " [ 1.  0.  0.  1.  1.  0.]\n",
            " [ 0.  0.  0.  1. -1. -1.]\n",
            " [-1. -1.  0.  0.  0.  0.]\n",
            " [ 0.  1.  0.  0.  0.  0.]]\n"
          ],
          "name": "stdout"
        }
      ]
    },
    {
      "metadata": {
        "id": "5gqum2wTEZHP",
        "colab_type": "code",
        "outputId": "ae968349-7361-4d39-82cf-135161300521",
        "colab": {
          "base_uri": "https://localhost:8080/",
          "height": 204
        }
      },
      "cell_type": "code",
      "source": [
        "#Transpõe os dataframes e transforma eles em matriz do numpy para que sejam compatíveis com o formato da rede (Teste)\n",
        "x_test=x_test.T\n",
        "y_test=y_test.T\n",
        "print(x_test)\n",
        "x_test=np.array(x_test)\n",
        "y_test=np.array(y_test)\n",
        "print(x_test)"
      ],
      "execution_count": 15,
      "outputs": [
        {
          "output_type": "stream",
          "text": [
            "                39   40   41   42   43   44   45\n",
            "Temperature    0.0 -1.0  0.0  0.0  0.0 -1.0  0.0\n",
            "Pressure       0.0  0.0  0.0  0.0  0.0  0.0  0.0\n",
            "Particle_size  0.0  1.0  0.0  1.0 -1.0  0.0 -1.0\n",
            "Flow_rate-CO2  1.0  0.0 -1.0  0.0  1.0 -1.0  0.0\n",
            "Co-solvent    -1.0  0.0 -1.0  1.0  0.0  0.0  1.0\n",
            "[[ 0. -1.  0.  0.  0. -1.  0.]\n",
            " [ 0.  0.  0.  0.  0.  0.  0.]\n",
            " [ 0.  1.  0.  1. -1.  0. -1.]\n",
            " [ 1.  0. -1.  0.  1. -1.  0.]\n",
            " [-1.  0. -1.  1.  0.  0.  1.]]\n"
          ],
          "name": "stdout"
        }
      ]
    },
    {
      "metadata": {
        "id": "HFQINDqn7xj2",
        "colab_type": "code",
        "colab": {}
      },
      "cell_type": "code",
      "source": [
        "#Funcao que descodifica os dados\n",
        "def Descodifica(x,x_old):\n",
        "  strings=list(x)\n",
        "  for i in strings:\n",
        "    x_max=x_old[i].max()\n",
        "    x_min=x_old[i].min()\n",
        "    a=(x_max+x_min)/2\n",
        "    b=(x_max-x_min)/2\n",
        "    x[i]=x[i]*b+a\n",
        "  return x"
      ],
      "execution_count": 0,
      "outputs": []
    },
    {
      "metadata": {
        "id": "OoAurn-u3hBP",
        "colab_type": "code",
        "outputId": "ebf96512-f2bd-485d-cb7c-b45047621e7d",
        "colab": {
          "base_uri": "https://localhost:8080/",
          "height": 1734
        }
      },
      "cell_type": "code",
      "source": [
        "M=10\n",
        "Melhor=1e99\n",
        "ir=0\n",
        "for i in range(1,M):\n",
        "  clf = pn.CreateNN([5,(i),1]) #Substitui o MLPRegressor da sklearn. Cria uma rede com pesos aleatórios entre -0,5 e 0,5\n",
        "  rede = pn.train_LM(x_train,y_train,clf,verbose=True,k_max=10,E_stop=1e-1) #Substitui o fit\n",
        "  y_calc_train=[]\n",
        "  y_calc_test=[]\n",
        "  y_calc_train=pn.NNOut(x_train, clf) #substitui o predict\n",
        "  y_calc_test=pn.NNOut(x_test, clf)\n",
        "  y_calc_train=pd.DataFrame(y_calc_train)\n",
        "  y_calc_test=pd.DataFrame(y_calc_test)\n",
        "  y_calc_train.columns = [\"Observed_yield\"]\n",
        "  y_calc_test.columns = [\"Observed_yield\"]\n",
        "  y_calc_train=Descodifica(y_calc_train,y_orig)\n",
        "  y_calc_test=Descodifica(y_calc_test,y_orig)\n",
        "  mse=mean_squared_error(y_obs_test,y_calc_test)\n",
        "  R2=r2_score(y_obs_test,y_calc_test)\n",
        "  print(\"Neuronios=\",i,\"MSE teste=\",mse,\"R^2 teste=\",R2)\n",
        "  if(mse<Melhor):\n",
        "    Melhor=mse.copy()\n",
        "    ix=i\n",
        "    redem=rede\n",
        "    R2r=R2\n",
        "print(\"\\n Melhor resposta:\")\n",
        "print(\"Neuronios=\",ix,\"MSE teste=\",Melhor,\"R^2 teste=\",R2r)"
      ],
      "execution_count": 17,
      "outputs": [
        {
          "output_type": "stream",
          "text": [
            "Iteration:  0 \t\tError:  18.195557876338334 \tscale factor:  3.0\n",
            "Iteration:  1 \t\tError:  4.783262354870747 \tscale factor:  0.3\n",
            "Iteration:  2 \t\tError:  3.652600556465754 \tscale factor:  0.03\n",
            "Iteration:  3 \t\tError:  1.747861849221368 \tscale factor:  0.003\n",
            "Iteration:  4 \t\tError:  1.6436821390018026 \tscale factor:  0.00030000000000000003\n",
            "Iteration:  5 \t\tError:  1.631622179588384 \tscale factor:  3.0000000000000004e-05\n",
            "Iteration:  6 \t\tError:  1.6296303912984769 \tscale factor:  3.0000000000000005e-06\n",
            "Iteration:  7 \t\tError:  1.6291458795872478 \tscale factor:  3.0000000000000004e-07\n",
            "Iteration:  8 \t\tError:  1.6290506710172874 \tscale factor:  3.0000000000000004e-08\n",
            "Iteration:  9 \t\tError:  1.6290268224510456 \tscale factor:  3.0000000000000004e-09\n",
            "Iteration:  10 \t\tError:  1.629021407990654 \tscale factor:  3.0000000000000005e-10\n",
            "Maximum number of iterations reached\n",
            "Neuronios= 1 MSE teste= 0.0033384498867087974 R^2 teste= 0.35152972864687104\n",
            "Iteration:  0 \t\tError:  17.04954050710431 \tscale factor:  3.0\n",
            "Iteration:  1 \t\tError:  3.4832579027325523 \tscale factor:  0.3\n",
            "Iteration:  2 \t\tError:  2.5770948826159623 \tscale factor:  0.03\n",
            "Iteration:  3 \t\tError:  1.5007435067710067 \tscale factor:  0.003\n",
            "Iteration:  4 \t\tError:  1.1516882719272088 \tscale factor:  0.00030000000000000003\n",
            "Iteration:  5 \t\tError:  0.8021482217785347 \tscale factor:  3.0000000000000004e-05\n",
            "Iteration:  6 \t\tError:  0.7592234425146978 \tscale factor:  3.0000000000000005e-06\n",
            "Iteration:  7 \t\tError:  0.5494238194848307 \tscale factor:  3.0000000000000004e-07\n",
            "Iteration:  8 \t\tError:  0.5442548350576012 \tscale factor:  3.0000000000000004e-05\n",
            "Iteration:  9 \t\tError:  0.5293075073916439 \tscale factor:  3.0000000000000005e-06\n",
            "Iteration:  10 \t\tError:  0.526952908712478 \tscale factor:  3.0000000000000004e-07\n",
            "Maximum number of iterations reached\n",
            "Neuronios= 2 MSE teste= 0.0007310220732028615 R^2 teste= 0.8580041341754799\n",
            "Iteration:  0 \t\tError:  9.236004200447338 \tscale factor:  3.0\n",
            "Iteration:  1 \t\tError:  5.5170598045685 \tscale factor:  0.3\n",
            "Iteration:  2 \t\tError:  2.526589156425481 \tscale factor:  0.03\n",
            "Iteration:  3 \t\tError:  1.590981120904654 \tscale factor:  0.03\n",
            "Iteration:  4 \t\tError:  1.3722089928036527 \tscale factor:  0.03\n",
            "Iteration:  5 \t\tError:  1.0949965936021488 \tscale factor:  0.003\n",
            "Iteration:  6 \t\tError:  0.5002487851198976 \tscale factor:  0.003\n",
            "Iteration:  7 \t\tError:  0.3604722192663853 \tscale factor:  0.003\n",
            "Iteration:  8 \t\tError:  0.2323377246878255 \tscale factor:  0.003\n",
            "Iteration:  9 \t\tError:  0.18510740417872212 \tscale factor:  0.003\n",
            "Iteration:  10 \t\tError:  0.1643641087442668 \tscale factor:  0.003\n",
            "Maximum number of iterations reached\n",
            "Neuronios= 3 MSE teste= 0.0014455963671511746 R^2 teste= 0.7192031331050535\n",
            "Iteration:  0 \t\tError:  13.335939252397887 \tscale factor:  3.0\n",
            "Iteration:  1 \t\tError:  4.532197700367087 \tscale factor:  0.3\n",
            "Iteration:  2 \t\tError:  1.6462068073477398 \tscale factor:  0.03\n",
            "Iteration:  3 \t\tError:  0.8343080764866567 \tscale factor:  0.003\n",
            "Iteration:  4 \t\tError:  0.41735622263282857 \tscale factor:  0.03\n",
            "Iteration:  5 \t\tError:  0.3348886983585244 \tscale factor:  0.03\n",
            "Iteration:  6 \t\tError:  0.28950363473239576 \tscale factor:  0.03\n",
            "Iteration:  7 \t\tError:  0.25381373514163014 \tscale factor:  0.03\n",
            "Iteration:  8 \t\tError:  0.21930820828816203 \tscale factor:  0.03\n",
            "Iteration:  9 \t\tError:  0.1839725108445608 \tscale factor:  0.03\n",
            "Iteration:  10 \t\tError:  0.1419759872705536 \tscale factor:  0.003\n",
            "Maximum number of iterations reached\n",
            "Neuronios= 4 MSE teste= 0.0006723179651887438 R^2 teste= 0.8694069918325669\n",
            "Iteration:  0 \t\tError:  14.442540479203762 \tscale factor:  3.0\n",
            "Iteration:  1 \t\tError:  4.862350450982025 \tscale factor:  0.3\n",
            "Iteration:  2 \t\tError:  1.7322516026067247 \tscale factor:  0.03\n",
            "Iteration:  3 \t\tError:  0.8394384818854002 \tscale factor:  0.03\n",
            "Iteration:  4 \t\tError:  0.43014742667776384 \tscale factor:  0.003\n",
            "Iteration:  5 \t\tError:  0.23654868449833977 \tscale factor:  0.003\n",
            "Iteration:  6 \t\tError:  0.18257118813063877 \tscale factor:  0.003\n",
            "Iteration:  7 \t\tError:  0.16556476396454567 \tscale factor:  0.00030000000000000003\n",
            "Iteration:  8 \t\tError:  0.04963938026454406 \tscale factor:  3.0000000000000004e-05\n",
            "Termination Error reached\n",
            "Neuronios= 5 MSE teste= 0.0017469705604467609 R^2 teste= 0.6606633282443355\n",
            "Iteration:  0 \t\tError:  18.191634835126564 \tscale factor:  3.0\n",
            "Iteration:  1 \t\tError:  4.908391838485695 \tscale factor:  0.3\n",
            "Iteration:  2 \t\tError:  1.8504238866179095 \tscale factor:  0.03\n",
            "Iteration:  3 \t\tError:  0.8114483074547677 \tscale factor:  0.003\n",
            "Iteration:  4 \t\tError:  0.35152680190588537 \tscale factor:  0.03\n",
            "Iteration:  5 \t\tError:  0.22936835595097488 \tscale factor:  0.003\n",
            "Iteration:  6 \t\tError:  0.062487495753357755 \tscale factor:  0.003\n",
            "Termination Error reached\n",
            "Neuronios= 6 MSE teste= 0.0031290097975823395 R^2 teste= 0.39221198419570336\n",
            "Iteration:  0 \t\tError:  22.867120512457852 \tscale factor:  3.0\n",
            "Iteration:  1 \t\tError:  3.090221205380587 \tscale factor:  0.3\n",
            "Iteration:  2 \t\tError:  1.6498554901198952 \tscale factor:  0.03\n",
            "Iteration:  3 \t\tError:  0.9787307776537263 \tscale factor:  0.03\n",
            "Iteration:  4 \t\tError:  0.3842507506005114 \tscale factor:  0.03\n",
            "Iteration:  5 \t\tError:  0.15087593665184723 \tscale factor:  0.003\n",
            "Iteration:  6 \t\tError:  0.06690888951078885 \tscale factor:  0.003\n",
            "Termination Error reached\n",
            "Neuronios= 7 MSE teste= 0.0007003913016829345 R^2 teste= 0.8639539448341221\n",
            "Iteration:  0 \t\tError:  14.308192319051418 \tscale factor:  3.0\n",
            "Iteration:  1 \t\tError:  3.267936364367087 \tscale factor:  0.3\n",
            "Iteration:  2 \t\tError:  1.6881715316744337 \tscale factor:  0.03\n",
            "Iteration:  3 \t\tError:  0.9066144832825876 \tscale factor:  0.03\n",
            "Iteration:  4 \t\tError:  0.36797449962428014 \tscale factor:  0.003\n",
            "Iteration:  5 \t\tError:  0.1263013273393593 \tscale factor:  0.003\n",
            "Iteration:  6 \t\tError:  0.07100342520091898 \tscale factor:  0.00030000000000000003\n",
            "Termination Error reached\n",
            "Neuronios= 8 MSE teste= 0.0023269863335662554 R^2 teste= 0.5479993678592079\n",
            "Iteration:  0 \t\tError:  10.37638949198959 \tscale factor:  3.0\n",
            "Iteration:  1 \t\tError:  3.284648058512227 \tscale factor:  0.3\n",
            "Iteration:  2 \t\tError:  1.6824341065703443 \tscale factor:  0.03\n",
            "Iteration:  3 \t\tError:  0.9621268070015436 \tscale factor:  0.003\n",
            "Iteration:  4 \t\tError:  0.13766276629416463 \tscale factor:  0.003\n",
            "Iteration:  5 \t\tError:  0.04039309408825808 \tscale factor:  0.003\n",
            "Termination Error reached\n",
            "Neuronios= 9 MSE teste= 0.0013720213550795282 R^2 teste= 0.7334945586654191\n",
            "\n",
            " Melhor resposta:\n",
            "Neuronios= 4 MSE teste= 0.0006723179651887438 R^2 teste= 0.8694069918325669\n"
          ],
          "name": "stdout"
        }
      ]
    },
    {
      "metadata": {
        "id": "UHRhDCHB6xkM",
        "colab_type": "code",
        "outputId": "c0a4ac56-6174-40e8-9f1a-c225d1daf723",
        "colab": {
          "base_uri": "https://localhost:8080/",
          "height": 374
        }
      },
      "cell_type": "code",
      "source": [
        "# Calcula o y predito usando a rede neural\n",
        "y_calc_train=[]\n",
        "y_calc_validation=[]\n",
        "y_calc_test=[]\n",
        "y_calc_train=pn.NNOut(x_train, redem)\n",
        "y_calc_validation=pn.NNOut(x_validation, redem)\n",
        "y_calc_test=pn.NNOut(x_test, redem)\n",
        "#Transforma os dados de volta para dataframe\n",
        "y_calc_train=pd.DataFrame(y_calc_train)\n",
        "y_calc_validation=pd.DataFrame(y_calc_validation)\n",
        "y_calc_test=pd.DataFrame(y_calc_test)\n",
        "\n",
        "y_calc_train.columns = [\"Observed_yield\"]\n",
        "y_calc_validation.columns = [\"Observed_yield\"]\n",
        "y_calc_test.columns = [\"Observed_yield\"]\n",
        "print(y_calc_train.head())\n",
        "print(y_calc_validation)\n",
        "print(y_calc_test)"
      ],
      "execution_count": 18,
      "outputs": [
        {
          "output_type": "stream",
          "text": [
            "   Observed_yield\n",
            "0       -0.646367\n",
            "1        0.631026\n",
            "2        0.382651\n",
            "3        0.101675\n",
            "4        0.269519\n",
            "   Observed_yield\n",
            "0        0.752410\n",
            "1        0.898763\n",
            "2        0.631026\n",
            "3        0.895929\n",
            "4       -0.000266\n",
            "5       -0.267051\n",
            "   Observed_yield\n",
            "0       -0.054705\n",
            "1        0.547697\n",
            "2       -0.355876\n",
            "3        0.925326\n",
            "4       -0.378459\n",
            "5        0.532090\n",
            "6       -0.007854\n"
          ],
          "name": "stdout"
        }
      ]
    },
    {
      "metadata": {
        "id": "QM10DdO88aBm",
        "colab_type": "code",
        "outputId": "8198935d-33c1-4cfe-bcf3-42b4a7e0b1cc",
        "colab": {
          "base_uri": "https://localhost:8080/",
          "height": 221
        }
      },
      "cell_type": "code",
      "source": [
        "#Descodificacao dos dados calculados\n",
        "y_calc_train_orig=Descodifica(y_calc_train,y_orig)\n",
        "y_calc_validation_orig=Descodifica(y_calc_validation,y_orig)\n",
        "y_calc_test_orig=Descodifica(y_calc_test, y_orig)\n",
        "print(y_calc_train_orig.head())\n",
        "print(y_calc_test_orig.head())"
      ],
      "execution_count": 19,
      "outputs": [
        {
          "output_type": "stream",
          "text": [
            "   Observed_yield\n",
            "0        0.129300\n",
            "1        0.357954\n",
            "2        0.313495\n",
            "3        0.263200\n",
            "4        0.293244\n",
            "   Observed_yield\n",
            "0        0.235208\n",
            "1        0.343038\n",
            "2        0.181298\n",
            "3        0.410633\n",
            "4        0.177256\n"
          ],
          "name": "stdout"
        }
      ]
    },
    {
      "metadata": {
        "id": "intMwSuDV5fw",
        "colab_type": "code",
        "outputId": "89eda46a-6cf6-4fbe-9352-f0618f75dd1f",
        "colab": {
          "base_uri": "https://localhost:8080/",
          "height": 361
        }
      },
      "cell_type": "code",
      "source": [
        "#Plota o gráfico\n",
        "fig = plt.figure()\n",
        "ax1 = fig.add_subplot(1,1,1)\n",
        "\n",
        "\n",
        "plt.plot(y_obs_test,y_calc_test_orig, marker=\"s\",linestyle = 'None', c='b', label='teste') #c=cor marker=tipo do marcador(aqui s significa square)\n",
        "plt.plot(y_obs_train,y_calc_train_orig, marker=\"o\",linestyle = 'None', c='r', label='treino')\n",
        "plt.plot(y_obs_validation,y_calc_validation_orig, marker=\"D\",linestyle = 'None', c='g', label='validation')\n",
        "\n",
        "\n",
        "plt.legend(loc='upper left')\n",
        "plt.ylabel('Y calc')\n",
        "plt.xlabel('Y Obs')\n",
        "plt.show()"
      ],
      "execution_count": 20,
      "outputs": [
        {
          "output_type": "display_data",
          "data": {
            "image/png": "[encoded data removed]",
            "text/plain": [
              "<matplotlib.figure.Figure at 0x7f913e4c89b0>"
            ]
          },
          "metadata": {
            "tags": []
          }
        }
      ]
    },
    {
      "metadata": {
        "id": "KjDTeXEVfofs",
        "colab_type": "code",
        "outputId": "9b78b6c5-8551-4c5f-8084-aa742de2019f",
        "colab": {
          "base_uri": "https://localhost:8080/",
          "height": 51
        }
      },
      "cell_type": "code",
      "source": [
        "mse=mean_squared_error(y_obs_train,y_calc_train)\n",
        "print(\"MSE treino=\",mse)\n",
        "R2=r2_score(y_obs_train,y_calc_train)\n",
        "print(\"R^2 treino=\",R2)"
      ],
      "execution_count": 21,
      "outputs": [
        {
          "output_type": "stream",
          "text": [
            "MSE treino= 0.00014215789400424402\n",
            "R^2 treino= 0.9823890207242097\n"
          ],
          "name": "stdout"
        }
      ]
    },
    {
      "metadata": {
        "id": "_KVIgpo1ToVn",
        "colab_type": "code",
        "outputId": "5fd06e8c-7ad6-44f3-f1eb-a18cb95a5985",
        "colab": {
          "base_uri": "https://localhost:8080/",
          "height": 51
        }
      },
      "cell_type": "code",
      "source": [
        "mse=mean_squared_error(y_obs_validation,y_calc_validation)\n",
        "print(\"MSE validation=\",mse)\n",
        "R2=r2_score(y_obs_validation,y_calc_validation)\n",
        "print(\"R^2 validation=\",R2)"
      ],
      "execution_count": 22,
      "outputs": [
        {
          "output_type": "stream",
          "text": [
            "MSE validation= 0.000832480381152995\n",
            "R^2 validation= 0.8349805635257054\n"
          ],
          "name": "stdout"
        }
      ]
    },
    {
      "metadata": {
        "id": "3Q1KQH36E7xd",
        "colab_type": "code",
        "outputId": "104e016f-7493-4385-9a7a-ef0253d47475",
        "colab": {
          "base_uri": "https://localhost:8080/",
          "height": 51
        }
      },
      "cell_type": "code",
      "source": [
        "mse=mean_squared_error(y_obs_test,y_calc_test)\n",
        "print(\"MSE teste=\",mse)\n",
        "R2=r2_score(y_obs_test,y_calc_test)\n",
        "print(\"R^2 teste=\",R2)"
      ],
      "execution_count": 23,
      "outputs": [
        {
          "output_type": "stream",
          "text": [
            "MSE teste= 0.0006723179651887438\n",
            "R^2 teste= 0.8694069918325669\n"
          ],
          "name": "stdout"
        }
      ]
    },
    {
      "metadata": {
        "id": "LAE9To7WwaAZ",
        "colab_type": "code",
        "colab": {}
      },
      "cell_type": "code",
      "source": [
        "def function(x):\n",
        "  global clf\n",
        "  x=x.reshape((5, 1))\n",
        "  Y=pn.NNOut(x, redem)\n",
        "  fun=Y*(-1)\n",
        "  return fun"
      ],
      "execution_count": 0,
      "outputs": []
    },
    {
      "metadata": {
        "id": "zG6KYAchw3rs",
        "colab_type": "code",
        "outputId": "a397d7a8-0915-484e-b47e-f2f38fec43d0",
        "colab": {
          "base_uri": "https://localhost:8080/",
          "height": 85
        }
      },
      "cell_type": "code",
      "source": [
        "bounds = [(-2, 2),(-2, 2),(-2, 2),(-2, 2),(-2, 2)]\n",
        "Condicoes = optimize.differential_evolution(function,bounds,\n",
        "                                      init=\"latinhypercube\", # obs: init=\"random\"\n",
        "                                      maxiter=100, popsize=50,recombination=0.5)\n",
        "Condicoes=pd.DataFrame(Condicoes.x.reshape(1, 5))\n",
        "Condicoes.columns=['Temperature', 'Pressure','Particle_size','Flow_rate-CO2','Co-solvent']\n",
        "print(Condicoes)\n",
        "Cond=Descodifica(Condicoes,x_orig)\n",
        "print(Cond)"
      ],
      "execution_count": 25,
      "outputs": [
        {
          "output_type": "stream",
          "text": [
            "   Temperature  Pressure  Particle_size  Flow_rate-CO2  Co-solvent\n",
            "0     1.181074       2.0       1.332726           -2.0         2.0\n",
            "   Temperature  Pressure  Particle_size  Flow_rate-CO2  Co-solvent\n",
            "0   103.621477     425.0       1.083181            0.0        15.0\n"
          ],
          "name": "stdout"
        }
      ]
    }
  ]
}