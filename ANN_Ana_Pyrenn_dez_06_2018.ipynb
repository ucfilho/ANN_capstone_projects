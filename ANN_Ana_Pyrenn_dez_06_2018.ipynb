{
  "nbformat": 4,
  "nbformat_minor": 0,
  "metadata": {
    "colab": {
      "name": "REDE_EXTRACAO_Pyrenn.ipynb",
      "version": "0.3.2",
      "provenance": [],
      "include_colab_link": true
    },
    "kernelspec": {
      "name": "python3",
      "display_name": "Python 3"
    }
  },
  "cells": [
    {
      "cell_type": "markdown",
      "metadata": {
        "id": "view-in-github",
        "colab_type": "text"
      },
      "source": [
        "<a href=\"https://colab.research.google.com/github/ucfilho/ANN_capstone_projects/blob/master/ANN_Ana_Pyrenn_dez_06_2018.ipynb\" target=\"_parent\"><img src=\"https://colab.research.google.com/assets/colab-badge.svg\" alt=\"Open In Colab\"/></a>"
      ]
    },
    {
      "metadata": {
        "id": "hpwj4mmb2I5-",
        "colab_type": "code",
        "outputId": "57f1d5ce-0ac0-466f-b6e8-26dc4b03ae77",
        "colab": {
          "base_uri": "https://localhost:8080/",
          "height": 170
        }
      },
      "cell_type": "code",
      "source": [
        "#Importa bibliotecas\n",
        "import numpy as np\n",
        "import pandas as pd\n",
        "import matplotlib.pyplot as plt\n",
        "from sklearn.neural_network import MLPRegressor\n",
        "from sklearn.metrics import mean_squared_error\n",
        "from sklearn.metrics import r2_score \n",
        "from mpl_toolkits.mplot3d import Axes3D, axes3d\n",
        "from scipy import optimize\n",
        "\n",
        "! pip install pyrenn\n",
        "import pyrenn as pn"
      ],
      "execution_count": 1,
      "outputs": [
        {
          "output_type": "stream",
          "text": [
            "Collecting pyrenn\n",
            "  Downloading https://files.pythonhosted.org/packages/9a/91/c7f721d7cf1becf4d2d32aeab60e75340fdeed32490ce5af6fc2bce60e4a/pyrenn-0.1.tar.gz\n",
            "Requirement already satisfied: numpy in /usr/local/lib/python3.6/dist-packages (from pyrenn) (1.14.6)\n",
            "Building wheels for collected packages: pyrenn\n",
            "  Running setup.py bdist_wheel for pyrenn ... \u001b[?25l-\b \bdone\n",
            "\u001b[?25h  Stored in directory: /root/.cache/pip/wheels/91/ed/b6/ab8600223e6ec9cea9592f0cf6e32db7abb4c2cc4c30b90eac\n",
            "Successfully built pyrenn\n",
            "Installing collected packages: pyrenn\n",
            "Successfully installed pyrenn-0.1\n"
          ],
          "name": "stdout"
        }
      ]
    },
    {
      "metadata": {
        "id": "Aukr7rjf2Obk",
        "colab_type": "code",
        "outputId": "2067d1c8-b266-40c6-bd6e-ac7e20d6c7b3",
        "colab": {
          "base_uri": "https://localhost:8080/",
          "height": 34
        }
      },
      "cell_type": "code",
      "source": [
        "#Clona a pasta do github\n",
        "!git clone https://github.com/AnaSoldan/ANN"
      ],
      "execution_count": 2,
      "outputs": [
        {
          "output_type": "stream",
          "text": [
            "fatal: destination path 'ANN' already exists and is not an empty directory.\n"
          ],
          "name": "stdout"
        }
      ]
    },
    {
      "metadata": {
        "id": "NhSL7yrk2VsL",
        "colab_type": "code",
        "outputId": "87a32f3a-a2cc-44b0-b746-c1e14a47058b",
        "colab": {
          "base_uri": "https://localhost:8080/",
          "height": 34
        }
      },
      "cell_type": "code",
      "source": [
        "#Direciona para a pasta ANN\n",
        "%cd ANN"
      ],
      "execution_count": 3,
      "outputs": [
        {
          "output_type": "stream",
          "text": [
            "/content/ANN\n"
          ],
          "name": "stdout"
        }
      ]
    },
    {
      "metadata": {
        "id": "2GPA_GEc2ZAm",
        "colab_type": "code",
        "outputId": "ee103195-e89d-43a9-dd2a-df57b45cbabb",
        "colab": {
          "base_uri": "https://localhost:8080/",
          "height": 34
        }
      },
      "cell_type": "code",
      "source": [
        "#Exibe o conteudo da pasta\n",
        "!ls"
      ],
      "execution_count": 4,
      "outputs": [
        {
          "output_type": "stream",
          "text": [
            "Dados_extracao.csv  Extracao.csv  README.md\n"
          ],
          "name": "stdout"
        }
      ]
    },
    {
      "metadata": {
        "id": "ERakOfY43TXV",
        "colab_type": "code",
        "outputId": "50e6d0cd-67c8-4e41-93d7-84d64dbc1d50",
        "colab": {
          "base_uri": "https://localhost:8080/",
          "height": 238
        }
      },
      "cell_type": "code",
      "source": [
        "#Salva os dados da planilha na variavel\n",
        "DADOS=pd.read_csv(\"Extracao.csv\")\n",
        "print(DADOS.head())"
      ],
      "execution_count": 5,
      "outputs": [
        {
          "output_type": "stream",
          "text": [
            "   Run  Temperature  Pressure  Particle_size  Flow_rate-CO2  Co-solvent  \\\n",
            "0    1           80       200           0.50             10           5   \n",
            "1    2           80       275           0.75             10           5   \n",
            "2    3           60       350           0.75             10           5   \n",
            "3    4           60       275           0.75             10           0   \n",
            "4    5           80       275           1.00              5           5   \n",
            "\n",
            "   Observed_yield  Predicted_yield  \n",
            "0          0.1289           0.1331  \n",
            "1          0.3470           0.3604  \n",
            "2          0.3430           0.3400  \n",
            "3          0.2500           0.2539  \n",
            "4          0.3000           0.2988  \n"
          ],
          "name": "stdout"
        }
      ]
    },
    {
      "metadata": {
        "id": "S0P1tIBXeJvD",
        "colab_type": "code",
        "colab": {}
      },
      "cell_type": "code",
      "source": [
        "#Codificacao dos dados\n",
        "def Codificacao(x):\n",
        "  strings=list(x)\n",
        "  for i in strings:\n",
        "    x_max=x[i].max()\n",
        "    x_min=x[i].min()\n",
        "    a=(x_max+x_min)/2\n",
        "    b=(x_max-x_min)/2\n",
        "    x[i]=(x[i]-a)/b\n",
        "  return x"
      ],
      "execution_count": 0,
      "outputs": []
    },
    {
      "metadata": {
        "id": "38UuTV6xftyb",
        "colab_type": "code",
        "outputId": "15fcc0c6-4236-4d41-dada-90bbd85a7095",
        "colab": {
          "base_uri": "https://localhost:8080/",
          "height": 238
        }
      },
      "cell_type": "code",
      "source": [
        "#Seleciona as colunas de interesse\n",
        "Colunas=[1,2,3,4,5,6]\n",
        "Sel_dados=[]\n",
        "Sel_dados=DADOS.iloc[:,Colunas].copy()\n",
        "print(Sel_dados.head())"
      ],
      "execution_count": 7,
      "outputs": [
        {
          "output_type": "stream",
          "text": [
            "   Temperature  Pressure  Particle_size  Flow_rate-CO2  Co-solvent  \\\n",
            "0           80       200           0.50             10           5   \n",
            "1           80       275           0.75             10           5   \n",
            "2           60       350           0.75             10           5   \n",
            "3           60       275           0.75             10           0   \n",
            "4           80       275           1.00              5           5   \n",
            "\n",
            "   Observed_yield  \n",
            "0          0.1289  \n",
            "1          0.3470  \n",
            "2          0.3430  \n",
            "3          0.2500  \n",
            "4          0.3000  \n"
          ],
          "name": "stdout"
        }
      ]
    },
    {
      "metadata": {
        "id": "9156sFS0gidn",
        "colab_type": "code",
        "outputId": "b2f00b60-a456-4f6e-ba12-f222c254e76f",
        "colab": {
          "base_uri": "https://localhost:8080/",
          "height": 238
        }
      },
      "cell_type": "code",
      "source": [
        "#Cria variavel de dados normatizados\n",
        "Nor_dados=[]\n",
        "Nor_dados=Codificacao(Sel_dados).copy()\n",
        "print(Nor_dados.head())"
      ],
      "execution_count": 8,
      "outputs": [
        {
          "output_type": "stream",
          "text": [
            "   Temperature  Pressure  Particle_size  Flow_rate-CO2  Co-solvent  \\\n",
            "0          0.0      -1.0           -1.0            0.0         0.0   \n",
            "1          0.0       0.0            0.0            0.0         0.0   \n",
            "2         -1.0       1.0            0.0            0.0         0.0   \n",
            "3         -1.0       0.0            0.0            0.0        -1.0   \n",
            "4          0.0       0.0            1.0           -1.0         0.0   \n",
            "\n",
            "   Observed_yield  \n",
            "0       -0.648603  \n",
            "1        0.569832  \n",
            "2        0.547486  \n",
            "3        0.027933  \n",
            "4        0.307263  \n"
          ],
          "name": "stdout"
        }
      ]
    },
    {
      "metadata": {
        "id": "cmusxQWzhy2d",
        "colab_type": "code",
        "outputId": "95146c2e-8afd-4ded-aa75-b8af2df3f767",
        "colab": {
          "base_uri": "https://localhost:8080/",
          "height": 680
        }
      },
      "cell_type": "code",
      "source": [
        "#Seleciona os dados de treino e teste\n",
        "linhas_train=range(32)\n",
        "linhas_validation=[33,34,35,36,37,38]\n",
        "linhas_test=[39, 40, 41, 42, 43, 44, 45]\n",
        "Train=Nor_dados.iloc[linhas_train, :].copy()\n",
        "Validation=Nor_dados.iloc[linhas_validation,:].copy()\n",
        "Test=Nor_dados.iloc[linhas_test, :].copy()\n",
        "print(Train.head())\n",
        "print(Validation.head())\n",
        "print(Test.head())"
      ],
      "execution_count": 9,
      "outputs": [
        {
          "output_type": "stream",
          "text": [
            "   Temperature  Pressure  Particle_size  Flow_rate-CO2  Co-solvent  \\\n",
            "0          0.0      -1.0           -1.0            0.0         0.0   \n",
            "1          0.0       0.0            0.0            0.0         0.0   \n",
            "2         -1.0       1.0            0.0            0.0         0.0   \n",
            "3         -1.0       0.0            0.0            0.0        -1.0   \n",
            "4          0.0       0.0            1.0           -1.0         0.0   \n",
            "\n",
            "   Observed_yield  \n",
            "0       -0.648603  \n",
            "1        0.569832  \n",
            "2        0.547486  \n",
            "3        0.027933  \n",
            "4        0.307263  \n",
            "    Temperature  Pressure  Particle_size  Flow_rate-CO2  Co-solvent  \\\n",
            "33          0.0       1.0            0.0           -1.0         0.0   \n",
            "34          0.0       0.0            0.0           -1.0         1.0   \n",
            "35          0.0       0.0            0.0            0.0         0.0   \n",
            "36          0.0       1.0            1.0            0.0         0.0   \n",
            "37          0.0       1.0           -1.0            0.0         0.0   \n",
            "\n",
            "    Observed_yield  \n",
            "33        0.754190  \n",
            "34        0.883240  \n",
            "35        0.729609  \n",
            "36        0.893855  \n",
            "37       -0.111732  \n",
            "    Temperature  Pressure  Particle_size  Flow_rate-CO2  Co-solvent  \\\n",
            "39          0.0       0.0            0.0            1.0        -1.0   \n",
            "40         -1.0       0.0            1.0            0.0         0.0   \n",
            "41          0.0       0.0            0.0           -1.0        -1.0   \n",
            "42          0.0       0.0            1.0            0.0         1.0   \n",
            "43          0.0       0.0           -1.0            1.0         0.0   \n",
            "\n",
            "    Observed_yield  \n",
            "39        0.000000  \n",
            "40        0.544693  \n",
            "41       -0.477654  \n",
            "42        0.754190  \n",
            "43       -0.237430  \n"
          ],
          "name": "stdout"
        }
      ]
    },
    {
      "metadata": {
        "id": "bgCWiKcCjsQ8",
        "colab_type": "code",
        "outputId": "05dde4c4-ee02-4e04-833e-c977dd2c7403",
        "colab": {
          "base_uri": "https://localhost:8080/",
          "height": 323
        }
      },
      "cell_type": "code",
      "source": [
        "#Seleciona as variáveis independentes\n",
        "x_train=Train.iloc[:,[0,1,2,3,4]].copy()\n",
        "x_validation=Validation.iloc[:,[0,1,2,3,4]].copy()\n",
        "x_test=Test.iloc[:,[0,1,2,3,4]].copy()\n",
        "x_orig=DADOS.iloc[:,[1,2,3,4,5]].copy()\n",
        "print(x_train.head())\n",
        "print(x_test.head())\n",
        "print(x_orig.head())"
      ],
      "execution_count": 10,
      "outputs": [
        {
          "output_type": "stream",
          "text": [
            "   Temperature  Pressure  Particle_size  Flow_rate-CO2  Co-solvent\n",
            "0          0.0      -1.0           -1.0            0.0         0.0\n",
            "1          0.0       0.0            0.0            0.0         0.0\n",
            "2         -1.0       1.0            0.0            0.0         0.0\n",
            "3         -1.0       0.0            0.0            0.0        -1.0\n",
            "4          0.0       0.0            1.0           -1.0         0.0\n",
            "    Temperature  Pressure  Particle_size  Flow_rate-CO2  Co-solvent\n",
            "39          0.0       0.0            0.0            1.0        -1.0\n",
            "40         -1.0       0.0            1.0            0.0         0.0\n",
            "41          0.0       0.0            0.0           -1.0        -1.0\n",
            "42          0.0       0.0            1.0            0.0         1.0\n",
            "43          0.0       0.0           -1.0            1.0         0.0\n",
            "   Temperature  Pressure  Particle_size  Flow_rate-CO2  Co-solvent\n",
            "0           80       200           0.50             10           5\n",
            "1           80       275           0.75             10           5\n",
            "2           60       350           0.75             10           5\n",
            "3           60       275           0.75             10           0\n",
            "4           80       275           1.00              5           5\n"
          ],
          "name": "stdout"
        }
      ]
    },
    {
      "metadata": {
        "id": "G8EoMo7ApJ4M",
        "colab_type": "code",
        "outputId": "50198278-b132-4fde-de7f-aa71e45e09e8",
        "colab": {
          "base_uri": "https://localhost:8080/",
          "height": 357
        }
      },
      "cell_type": "code",
      "source": [
        "#Seleciona as variaveis dependentes\n",
        "y_train=Train.iloc[:,[5]].copy()\n",
        "y_validation=Validation.iloc[:,[5]].copy()\n",
        "y_test=Test.iloc[:,[5]].copy()\n",
        "y_orig=DADOS.iloc[:,[6]].copy()\n",
        "print(y_train.head())\n",
        "print(y_test)\n",
        "print(y_orig.head())"
      ],
      "execution_count": 11,
      "outputs": [
        {
          "output_type": "stream",
          "text": [
            "   Observed_yield\n",
            "0       -0.648603\n",
            "1        0.569832\n",
            "2        0.547486\n",
            "3        0.027933\n",
            "4        0.307263\n",
            "    Observed_yield\n",
            "39        0.000000\n",
            "40        0.544693\n",
            "41       -0.477654\n",
            "42        0.754190\n",
            "43       -0.237430\n",
            "44        0.251397\n",
            "45       -0.040782\n",
            "   Observed_yield\n",
            "0          0.1289\n",
            "1          0.3470\n",
            "2          0.3430\n",
            "3          0.2500\n",
            "4          0.3000\n"
          ],
          "name": "stdout"
        }
      ]
    },
    {
      "metadata": {
        "id": "0mUaZXP3c9eA",
        "colab_type": "code",
        "outputId": "a66ef5b9-2f07-418e-ae19-9f520c97bc31",
        "colab": {
          "base_uri": "https://localhost:8080/",
          "height": 357
        }
      },
      "cell_type": "code",
      "source": [
        "#Seleciona os dados observados\n",
        "linhas_train=range(32)\n",
        "linhas_validation=[33,34,35,36,37,38]\n",
        "linhas_test=[39, 40, 41, 42, 43, 44, 45]\n",
        "y_obs_train=y_orig.iloc[linhas_train, [0]].copy()\n",
        "y_obs_validation=y_orig.iloc[linhas_validation, [0]].copy()\n",
        "y_obs_test=y_orig.iloc[linhas_test,[0]].copy()\n",
        "print(y_obs_train.head())\n",
        "print(y_obs_validation.head())\n",
        "print(y_obs_test)"
      ],
      "execution_count": 12,
      "outputs": [
        {
          "output_type": "stream",
          "text": [
            "   Observed_yield\n",
            "0          0.1289\n",
            "1          0.3470\n",
            "2          0.3430\n",
            "3          0.2500\n",
            "4          0.3000\n",
            "    Observed_yield\n",
            "33          0.3800\n",
            "34          0.4031\n",
            "35          0.3756\n",
            "36          0.4050\n",
            "37          0.2250\n",
            "    Observed_yield\n",
            "39          0.2450\n",
            "40          0.3425\n",
            "41          0.1595\n",
            "42          0.3800\n",
            "43          0.2025\n",
            "44          0.2900\n",
            "45          0.2377\n"
          ],
          "name": "stdout"
        }
      ]
    },
    {
      "metadata": {
        "id": "CJZbUnxZVL-D",
        "colab_type": "code",
        "outputId": "995b71ac-88a6-4c89-dff4-f702ea766341",
        "colab": {
          "base_uri": "https://localhost:8080/",
          "height": 765
        }
      },
      "cell_type": "code",
      "source": [
        "#Transpõe os dataframes e transforma eles em matriz do numpy para que sejam compatíveis com o formato da rede (Treino)\n",
        "x_train=x_train.T\n",
        "y_train=y_train.T\n",
        "print(x_train)\n",
        "print(y_train)\n",
        "x_train=np.array(x_train)\n",
        "y_train=np.array(y_train)\n",
        "print(x_train)\n",
        "print(y_train)"
      ],
      "execution_count": 13,
      "outputs": [
        {
          "output_type": "stream",
          "text": [
            "                0    1    2    3    4    5    6    7    8    9  ...    22  \\\n",
            "Temperature    0.0  0.0 -1.0 -1.0  0.0  1.0  0.0  0.0 -1.0  1.0 ...   0.0   \n",
            "Pressure      -1.0  0.0  1.0  0.0  0.0  0.0 -1.0 -1.0 -1.0  1.0 ...   0.0   \n",
            "Particle_size -1.0  0.0  0.0  0.0  1.0  0.0  0.0  0.0  0.0  0.0 ...   1.0   \n",
            "Flow_rate-CO2  0.0  0.0  0.0  0.0 -1.0 -1.0  0.0  1.0  0.0  0.0 ...   0.0   \n",
            "Co-solvent     0.0  0.0  0.0 -1.0  0.0  0.0  1.0  0.0  0.0  0.0 ...  -1.0   \n",
            "\n",
            "                23   24   25   26   27   28   29   30   31  \n",
            "Temperature   -1.0 -1.0  0.0  1.0  0.0  1.0  0.0  0.0  1.0  \n",
            "Pressure       0.0  0.0  0.0  0.0  0.0  0.0  1.0 -1.0  0.0  \n",
            "Particle_size -1.0  0.0  1.0  0.0  0.0  0.0  0.0  0.0  0.0  \n",
            "Flow_rate-CO2  0.0  1.0  1.0  1.0  0.0  0.0  0.0 -1.0  0.0  \n",
            "Co-solvent     0.0  0.0  0.0  0.0  0.0  1.0 -1.0  0.0 -1.0  \n",
            "\n",
            "[5 rows x 32 columns]\n",
            "                      0         1         2         3         4         5   \\\n",
            "Observed_yield -0.648603  0.569832  0.547486  0.027933  0.307263  0.094972   \n",
            "\n",
            "                      6         7         8         9     ...           22  \\\n",
            "Observed_yield  0.321229 -0.125698  0.195531  0.698324    ...    -0.251397   \n",
            "\n",
            "                      23        24        25        26        27   28  \\\n",
            "Observed_yield -0.337989  0.418994  0.522346  0.653631  0.678212  1.0   \n",
            "\n",
            "                      29        30        31  \n",
            "Observed_yield  0.195531 -0.421788 -0.413408  \n",
            "\n",
            "[1 rows x 32 columns]\n",
            "[[ 0.  0. -1. -1.  0.  1.  0.  0. -1.  1.  0.  0.  0.  1.  0.  0.  0.  0.\n",
            "   0.  1.  0. -1.  0. -1. -1.  0.  1.  0.  1.  0.  0.  1.]\n",
            " [-1.  0.  1.  0.  0.  0. -1. -1. -1.  1.  0.  0. -1. -1.  1.  0.  1. -1.\n",
            "   0.  0.  0.  0.  0.  0.  0.  0.  0.  0.  0.  1. -1.  0.]\n",
            " [-1.  0.  0.  0.  1.  0.  0.  0.  0.  0. -1.  0.  1.  0.  0.  0.  0.  0.\n",
            "  -1.  1.  0.  0.  1. -1.  0.  1.  0.  0.  0.  0.  0.  0.]\n",
            " [ 0.  0.  0.  0. -1. -1.  0.  1.  0.  0. -1.  0.  0.  0.  1.  1.  0.  0.\n",
            "   0.  0.  0.  0.  0.  0.  1.  1.  1.  0.  0.  0. -1.  0.]\n",
            " [ 0.  0.  0. -1.  0.  0.  1.  0.  0.  0.  0.  0.  0.  0.  0.  1.  1. -1.\n",
            "  -1.  0.  0.  1. -1.  0.  0.  0.  0.  0.  1. -1.  0. -1.]]\n",
            "[[-0.64860335  0.5698324   0.54748603  0.02793296  0.30726257  0.09497207\n",
            "   0.32122905 -0.12569832  0.19553073  0.69832402 -0.30782123  0.72234637\n",
            "  -0.21787709 -0.5452514   0.37430168  0.64134078  0.85810056 -1.\n",
            "  -0.55865922  0.0698324   0.64804469  0.47206704 -0.25139665 -0.33798883\n",
            "   0.41899441  0.52234637  0.65363128  0.67821229  1.          0.19553073\n",
            "  -0.42178771 -0.41340782]]\n"
          ],
          "name": "stdout"
        }
      ]
    },
    {
      "metadata": {
        "id": "gfQ2dR0NSrb7",
        "colab_type": "code",
        "outputId": "5a89f791-0d83-4ed1-d752-557a0e9c893b",
        "colab": {
          "base_uri": "https://localhost:8080/",
          "height": 204
        }
      },
      "cell_type": "code",
      "source": [
        "#Transpõe os dataframes e transforma eles em matriz do numpy para que sejam compatíveis com o formato da rede (Validation)\n",
        "x_validation=x_validation.T\n",
        "y_validation=y_validation.T\n",
        "print(x_validation)\n",
        "x_validation=np.array(x_validation)\n",
        "y_validation=np.array(y_validation)\n",
        "print(x_validation)"
      ],
      "execution_count": 14,
      "outputs": [
        {
          "output_type": "stream",
          "text": [
            "                33   34   35   36   37   38\n",
            "Temperature    0.0  0.0  0.0  0.0  0.0  1.0\n",
            "Pressure       1.0  0.0  0.0  1.0  1.0  0.0\n",
            "Particle_size  0.0  0.0  0.0  1.0 -1.0 -1.0\n",
            "Flow_rate-CO2 -1.0 -1.0  0.0  0.0  0.0  0.0\n",
            "Co-solvent     0.0  1.0  0.0  0.0  0.0  0.0\n",
            "[[ 0.  0.  0.  0.  0.  1.]\n",
            " [ 1.  0.  0.  1.  1.  0.]\n",
            " [ 0.  0.  0.  1. -1. -1.]\n",
            " [-1. -1.  0.  0.  0.  0.]\n",
            " [ 0.  1.  0.  0.  0.  0.]]\n"
          ],
          "name": "stdout"
        }
      ]
    },
    {
      "metadata": {
        "id": "5gqum2wTEZHP",
        "colab_type": "code",
        "outputId": "8299243d-5b62-41f9-c292-9512e7aec9f5",
        "colab": {
          "base_uri": "https://localhost:8080/",
          "height": 204
        }
      },
      "cell_type": "code",
      "source": [
        "#Transpõe os dataframes e transforma eles em matriz do numpy para que sejam compatíveis com o formato da rede (Teste)\n",
        "x_test=x_test.T\n",
        "y_test=y_test.T\n",
        "print(x_test)\n",
        "x_test=np.array(x_test)\n",
        "y_test=np.array(y_test)\n",
        "print(x_test)"
      ],
      "execution_count": 15,
      "outputs": [
        {
          "output_type": "stream",
          "text": [
            "                39   40   41   42   43   44   45\n",
            "Temperature    0.0 -1.0  0.0  0.0  0.0 -1.0  0.0\n",
            "Pressure       0.0  0.0  0.0  0.0  0.0  0.0  0.0\n",
            "Particle_size  0.0  1.0  0.0  1.0 -1.0  0.0 -1.0\n",
            "Flow_rate-CO2  1.0  0.0 -1.0  0.0  1.0 -1.0  0.0\n",
            "Co-solvent    -1.0  0.0 -1.0  1.0  0.0  0.0  1.0\n",
            "[[ 0. -1.  0.  0.  0. -1.  0.]\n",
            " [ 0.  0.  0.  0.  0.  0.  0.]\n",
            " [ 0.  1.  0.  1. -1.  0. -1.]\n",
            " [ 1.  0. -1.  0.  1. -1.  0.]\n",
            " [-1.  0. -1.  1.  0.  0.  1.]]\n"
          ],
          "name": "stdout"
        }
      ]
    },
    {
      "metadata": {
        "id": "HFQINDqn7xj2",
        "colab_type": "code",
        "colab": {}
      },
      "cell_type": "code",
      "source": [
        "#Funcao que descodifica os dados\n",
        "def Descodifica(x,x_old):\n",
        "  strings=list(x)\n",
        "  for i in strings:\n",
        "    x_max=x_old[i].max()\n",
        "    x_min=x_old[i].min()\n",
        "    a=(x_max+x_min)/2\n",
        "    b=(x_max-x_min)/2\n",
        "    x[i]=x[i]*b+a\n",
        "  return x"
      ],
      "execution_count": 0,
      "outputs": []
    },
    {
      "metadata": {
        "id": "OoAurn-u3hBP",
        "colab_type": "code",
        "outputId": "bc67655f-213e-4efa-f75d-8c15d665e2c5",
        "colab": {
          "base_uri": "https://localhost:8080/",
          "height": 1768
        }
      },
      "cell_type": "code",
      "source": [
        "M=10\n",
        "Melhor=1e99\n",
        "ir=0\n",
        "for i in range(1,M):\n",
        "  clf = pn.CreateNN([5,(i),1]) #Substitui o MLPRegressor da sklearn. Cria uma rede com pesos aleatórios entre -0,5 e 0,5\n",
        "  rede = pn.train_LM(x_train,y_train,clf,verbose=True,k_max=10,E_stop=1e-1) #Substitui o fit\n",
        "  y_calc_train=[]\n",
        "  y_calc_test=[]\n",
        "  y_calc_train=pn.NNOut(x_train, clf) #substitui o predict\n",
        "  y_calc_test=pn.NNOut(x_test, clf)\n",
        "  y_calc_train=pd.DataFrame(y_calc_train)\n",
        "  y_calc_test=pd.DataFrame(y_calc_test)\n",
        "  y_calc_train.columns = [\"Observed_yield\"]\n",
        "  y_calc_test.columns = [\"Observed_yield\"]\n",
        "  y_calc_train=Descodifica(y_calc_train,y_orig)\n",
        "  y_calc_test=Descodifica(y_calc_test,y_orig)\n",
        "  mse=mean_squared_error(y_obs_test,y_calc_test)\n",
        "  R2=r2_score(y_obs_test,y_calc_test)\n",
        "  print(\"Neuronios=\",i,\"MSE teste=\",mse,\"R^2 teste=\",R2)\n",
        "  if(mse<Melhor):\n",
        "    Melhor=mse.copy()\n",
        "    ix=i\n",
        "    redem=rede\n",
        "    R2r=R2\n",
        "print(\"\\n Melhor resposta:\")\n",
        "print(\"Neuronios=\",ix,\"MSE teste=\",Melhor,\"R^2 teste=\",R2r)"
      ],
      "execution_count": 17,
      "outputs": [
        {
          "output_type": "stream",
          "text": [
            "Iteration:  0 \t\tError:  11.957986797081576 \tscale factor:  3.0\n",
            "Iteration:  1 \t\tError:  8.905619161347806 \tscale factor:  0.3\n",
            "Iteration:  2 \t\tError:  7.911944264359926 \tscale factor:  0.3\n",
            "Iteration:  3 \t\tError:  2.3845782599354317 \tscale factor:  0.03\n",
            "Iteration:  4 \t\tError:  1.7270956714386692 \tscale factor:  0.003\n",
            "Iteration:  5 \t\tError:  1.633542623155066 \tscale factor:  0.00030000000000000003\n",
            "Iteration:  6 \t\tError:  1.6294204767944445 \tscale factor:  3.0000000000000004e-05\n",
            "Iteration:  7 \t\tError:  1.6290655943556198 \tscale factor:  3.0000000000000005e-06\n",
            "Iteration:  8 \t\tError:  1.629026843247869 \tscale factor:  3.0000000000000004e-07\n",
            "Iteration:  9 \t\tError:  1.6290210163186192 \tscale factor:  3.0000000000000004e-08\n",
            "Iteration:  10 \t\tError:  1.629019975747969 \tscale factor:  3.0000000000000004e-09\n",
            "Maximum number of iterations reached\n",
            "Neuronios= 1 MSE teste= 0.0033413278316780917 R^2 teste= 0.3509707081977076\n",
            "Iteration:  0 \t\tError:  30.352345473120778 \tscale factor:  3.0\n",
            "Iteration:  1 \t\tError:  6.9154149362851225 \tscale factor:  0.3\n",
            "Iteration:  2 \t\tError:  2.3037233704509195 \tscale factor:  0.03\n",
            "Iteration:  3 \t\tError:  1.8753948621226222 \tscale factor:  0.003\n",
            "Iteration:  4 \t\tError:  1.3720841536515938 \tscale factor:  0.003\n",
            "Iteration:  5 \t\tError:  1.2982467081661773 \tscale factor:  0.03\n",
            "Iteration:  6 \t\tError:  1.2848361923453742 \tscale factor:  0.03\n",
            "Iteration:  7 \t\tError:  1.276592266148639 \tscale factor:  0.03\n",
            "Iteration:  8 \t\tError:  1.269982073360977 \tscale factor:  0.03\n",
            "Iteration:  9 \t\tError:  1.2646936587938127 \tscale factor:  0.03\n",
            "Iteration:  10 \t\tError:  1.2604129765516872 \tscale factor:  0.03\n",
            "Maximum number of iterations reached\n",
            "Neuronios= 2 MSE teste= 0.005384511318018412 R^2 teste= -0.04590322874119068\n",
            "Iteration:  0 \t\tError:  17.411246211278936 \tscale factor:  3.0\n",
            "Iteration:  1 \t\tError:  8.114193676981213 \tscale factor:  0.3\n",
            "Iteration:  2 \t\tError:  4.564013512481658 \tscale factor:  0.03\n",
            "Iteration:  3 \t\tError:  1.288642365700811 \tscale factor:  0.03\n",
            "Iteration:  4 \t\tError:  0.7096052727869412 \tscale factor:  0.003\n",
            "Iteration:  5 \t\tError:  0.6904309833452649 \tscale factor:  0.003\n",
            "Iteration:  6 \t\tError:  0.2663090736998177 \tscale factor:  0.003\n",
            "Iteration:  7 \t\tError:  0.19607075139392577 \tscale factor:  0.003\n",
            "Iteration:  8 \t\tError:  0.17515327964370037 \tscale factor:  0.003\n",
            "Iteration:  9 \t\tError:  0.171207591554627 \tscale factor:  0.003\n",
            "Iteration:  10 \t\tError:  0.16909459821273254 \tscale factor:  0.003\n",
            "Maximum number of iterations reached\n",
            "Neuronios= 3 MSE teste= 0.0008200939931732131 R^2 teste= 0.8407025438945903\n",
            "Iteration:  0 \t\tError:  9.279722978064257 \tscale factor:  3.0\n",
            "Iteration:  1 \t\tError:  5.505667820063687 \tscale factor:  0.3\n",
            "Iteration:  2 \t\tError:  1.9812379396516786 \tscale factor:  0.03\n",
            "Iteration:  3 \t\tError:  1.0396394392581227 \tscale factor:  0.03\n",
            "Iteration:  4 \t\tError:  0.47215615923659443 \tscale factor:  0.003\n",
            "Iteration:  5 \t\tError:  0.3301925365409376 \tscale factor:  0.003\n",
            "Iteration:  6 \t\tError:  0.15446309158206178 \tscale factor:  0.003\n",
            "Iteration:  7 \t\tError:  0.10619995199206202 \tscale factor:  0.003\n",
            "Iteration:  8 \t\tError:  0.07148611503706867 \tscale factor:  0.003\n",
            "Termination Error reached\n",
            "Neuronios= 4 MSE teste= 0.000592661658453187 R^2 teste= 0.8848796658569532\n",
            "Iteration:  0 \t\tError:  9.324249833478415 \tscale factor:  3.0\n",
            "Iteration:  1 \t\tError:  2.334656210492856 \tscale factor:  0.3\n",
            "Iteration:  2 \t\tError:  1.1686956396068073 \tscale factor:  0.03\n",
            "Iteration:  3 \t\tError:  0.8305571287951601 \tscale factor:  0.03\n",
            "Iteration:  4 \t\tError:  0.5008573000335526 \tscale factor:  0.03\n",
            "Iteration:  5 \t\tError:  0.36321799570391294 \tscale factor:  0.03\n",
            "Iteration:  6 \t\tError:  0.3133789741658045 \tscale factor:  0.03\n",
            "Iteration:  7 \t\tError:  0.26677011004072315 \tscale factor:  0.03\n",
            "Iteration:  8 \t\tError:  0.21378381308740058 \tscale factor:  0.03\n",
            "Iteration:  9 \t\tError:  0.19188609578928642 \tscale factor:  0.003\n",
            "Iteration:  10 \t\tError:  0.08178905341280478 \tscale factor:  0.003\n",
            "Maximum number of iterations reached\n",
            "Neuronios= 5 MSE teste= 0.0014877141522014073 R^2 teste= 0.7110220513374182\n",
            "Iteration:  0 \t\tError:  12.032381392930375 \tscale factor:  3.0\n",
            "Iteration:  1 \t\tError:  6.3272975914762455 \tscale factor:  0.3\n",
            "Iteration:  2 \t\tError:  3.478994774831503 \tscale factor:  0.03\n",
            "Iteration:  3 \t\tError:  2.6036143541169254 \tscale factor:  0.003\n",
            "Iteration:  4 \t\tError:  1.4530887253992955 \tscale factor:  0.003\n",
            "Iteration:  5 \t\tError:  0.6541877412419785 \tscale factor:  0.003\n",
            "Iteration:  6 \t\tError:  0.1137247734705953 \tscale factor:  0.003\n",
            "Iteration:  7 \t\tError:  0.061011049972488324 \tscale factor:  0.003\n",
            "Termination Error reached\n",
            "Neuronios= 6 MSE teste= 0.005013914123310518 R^2 teste= 0.026082654399279814\n",
            "Iteration:  0 \t\tError:  8.325736712287876 \tscale factor:  3.0\n",
            "Iteration:  1 \t\tError:  2.9254916587529465 \tscale factor:  0.3\n",
            "Iteration:  2 \t\tError:  1.279679665242352 \tscale factor:  0.03\n",
            "Iteration:  3 \t\tError:  0.9385312813714783 \tscale factor:  0.003\n",
            "Iteration:  4 \t\tError:  0.6029451090369703 \tscale factor:  0.003\n",
            "Iteration:  5 \t\tError:  0.14119727156597833 \tscale factor:  0.003\n",
            "Iteration:  6 \t\tError:  0.05092930120875356 \tscale factor:  0.00030000000000000003\n",
            "Termination Error reached\n",
            "Neuronios= 7 MSE teste= 0.0008702275188950436 R^2 teste= 0.8309644612119191\n",
            "Iteration:  0 \t\tError:  9.393326265722685 \tscale factor:  3.0\n",
            "Iteration:  1 \t\tError:  2.8155967826995645 \tscale factor:  0.3\n",
            "Iteration:  2 \t\tError:  1.8891353888163684 \tscale factor:  0.03\n",
            "Iteration:  3 \t\tError:  1.2685245084416215 \tscale factor:  0.03\n",
            "Iteration:  4 \t\tError:  0.4528260872306626 \tscale factor:  0.03\n",
            "Iteration:  5 \t\tError:  0.13146932808826764 \tscale factor:  0.003\n",
            "Iteration:  6 \t\tError:  0.09505106378141373 \tscale factor:  0.00030000000000000003\n",
            "Termination Error reached\n",
            "Neuronios= 8 MSE teste= 0.002524356324977535 R^2 teste= 0.5096616433970281\n",
            "Iteration:  0 \t\tError:  12.040030642218056 \tscale factor:  3.0\n",
            "Iteration:  1 \t\tError:  2.561163361413129 \tscale factor:  0.3\n",
            "Iteration:  2 \t\tError:  1.5820624381940753 \tscale factor:  0.03\n",
            "Iteration:  3 \t\tError:  0.6808681148889415 \tscale factor:  0.03\n",
            "Iteration:  4 \t\tError:  0.45231469152288706 \tscale factor:  0.003\n",
            "Iteration:  5 \t\tError:  0.20286691805967633 \tscale factor:  0.003\n",
            "Iteration:  6 \t\tError:  0.05909375713213253 \tscale factor:  0.003\n",
            "Termination Error reached\n",
            "Neuronios= 9 MSE teste= 0.0017481331786120987 R^2 teste= 0.6604374978911052\n",
            "\n",
            " Melhor resposta:\n",
            "Neuronios= 4 MSE teste= 0.000592661658453187 R^2 teste= 0.8848796658569532\n"
          ],
          "name": "stdout"
        }
      ]
    },
    {
      "metadata": {
        "id": "UHRhDCHB6xkM",
        "colab_type": "code",
        "outputId": "71a8431c-fd40-4b3c-e299-e946675cd795",
        "colab": {
          "base_uri": "https://localhost:8080/",
          "height": 374
        }
      },
      "cell_type": "code",
      "source": [
        "# Calcula o y predito usando a rede neural\n",
        "y_calc_train=[]\n",
        "y_calc_validation=[]\n",
        "y_calc_test=[]\n",
        "y_calc_train=pn.NNOut(x_train, redem)\n",
        "y_calc_validation=pn.NNOut(x_validation, redem)\n",
        "y_calc_test=pn.NNOut(x_test, redem)\n",
        "#Transforma os dados de volta para dataframe\n",
        "y_calc_train=pd.DataFrame(y_calc_train)\n",
        "y_calc_validation=pd.DataFrame(y_calc_validation)\n",
        "y_calc_test=pd.DataFrame(y_calc_test)\n",
        "\n",
        "y_calc_train.columns = [\"Observed_yield\"]\n",
        "y_calc_validation.columns = [\"Observed_yield\"]\n",
        "y_calc_test.columns = [\"Observed_yield\"]\n",
        "print(y_calc_train.head())\n",
        "print(y_calc_validation)\n",
        "print(y_calc_test)"
      ],
      "execution_count": 18,
      "outputs": [
        {
          "output_type": "stream",
          "text": [
            "   Observed_yield\n",
            "0       -0.666668\n",
            "1        0.639247\n",
            "2        0.486767\n",
            "3        0.068064\n",
            "4        0.283143\n",
            "   Observed_yield\n",
            "0        0.713422\n",
            "1        0.935931\n",
            "2        0.639247\n",
            "3        0.469774\n",
            "4        0.410037\n",
            "5       -0.223656\n",
            "   Observed_yield\n",
            "0        0.213955\n",
            "1        0.574192\n",
            "2       -0.456661\n",
            "3        0.909078\n",
            "4       -0.242539\n",
            "5        0.478960\n",
            "6       -0.121958\n"
          ],
          "name": "stdout"
        }
      ]
    },
    {
      "metadata": {
        "id": "QM10DdO88aBm",
        "colab_type": "code",
        "outputId": "2900c4e1-a605-45b3-bd2c-f4509cf14d63",
        "colab": {
          "base_uri": "https://localhost:8080/",
          "height": 221
        }
      },
      "cell_type": "code",
      "source": [
        "#Descodificacao dos dados calculados\n",
        "y_calc_train_orig=Descodifica(y_calc_train,y_orig)\n",
        "y_calc_validation_orig=Descodifica(y_calc_validation,y_orig)\n",
        "y_calc_test_orig=Descodifica(y_calc_test, y_orig)\n",
        "print(y_calc_train_orig.head())\n",
        "print(y_calc_test_orig.head())"
      ],
      "execution_count": 19,
      "outputs": [
        {
          "output_type": "stream",
          "text": [
            "   Observed_yield\n",
            "0        0.125666\n",
            "1        0.359425\n",
            "2        0.332131\n",
            "3        0.257184\n",
            "4        0.295683\n",
            "   Observed_yield\n",
            "0        0.283298\n",
            "1        0.347780\n",
            "2        0.163258\n",
            "3        0.407725\n",
            "4        0.201586\n"
          ],
          "name": "stdout"
        }
      ]
    },
    {
      "metadata": {
        "id": "intMwSuDV5fw",
        "colab_type": "code",
        "outputId": "0c7c9008-e0c7-41f6-9151-5ae0f1669ef1",
        "colab": {
          "base_uri": "https://localhost:8080/",
          "height": 361
        }
      },
      "cell_type": "code",
      "source": [
        "#Plota o gráfico\n",
        "fig = plt.figure()\n",
        "ax1 = fig.add_subplot(1,1,1)\n",
        "\n",
        "\n",
        "plt.plot(y_obs_test,y_calc_test_orig, marker=\"s\",linestyle = 'None', c='b', label='teste') #c=cor marker=tipo do marcador(aqui s significa square)\n",
        "plt.plot(y_obs_train,y_calc_train_orig, marker=\"o\",linestyle = 'None', c='r', label='treino')\n",
        "plt.plot(y_obs_validation,y_calc_validation_orig, marker=\"D\",linestyle = 'None', c='g', label='validation')\n",
        "\n",
        "\n",
        "plt.legend(loc='upper left')\n",
        "plt.ylabel('Y calc')\n",
        "plt.xlabel('Y Obs')\n",
        "plt.show()"
      ],
      "execution_count": 20,
      "outputs": [
        {
          "output_type": "display_data",
          "data": {
            "image/png": "[encoded data removed]",
            "text/plain": [
              "<matplotlib.figure.Figure at 0x7f9b05214a20>"
            ]
          },
          "metadata": {
            "tags": []
          }
        }
      ]
    },
    {
      "metadata": {
        "id": "KjDTeXEVfofs",
        "colab_type": "code",
        "outputId": "6373f515-d952-4672-aa6b-078917491cac",
        "colab": {
          "base_uri": "https://localhost:8080/",
          "height": 51
        }
      },
      "cell_type": "code",
      "source": [
        "mse=mean_squared_error(y_obs_train,y_calc_train)\n",
        "print(\"MSE treino=\",mse)\n",
        "R2=r2_score(y_obs_train,y_calc_train)\n",
        "print(\"R^2 treino=\",R2)"
      ],
      "execution_count": 21,
      "outputs": [
        {
          "output_type": "stream",
          "text": [
            "MSE treino= 7.157770662195986e-05\n",
            "R^2 treino= 0.9911327224087162\n"
          ],
          "name": "stdout"
        }
      ]
    },
    {
      "metadata": {
        "id": "_KVIgpo1ToVn",
        "colab_type": "code",
        "outputId": "b2195e33-00f0-4797-dd22-1146383c3690",
        "colab": {
          "base_uri": "https://localhost:8080/",
          "height": 51
        }
      },
      "cell_type": "code",
      "source": [
        "mse=mean_squared_error(y_obs_validation,y_calc_validation)\n",
        "print(\"MSE validation=\",mse)\n",
        "R2=r2_score(y_obs_validation,y_calc_validation)\n",
        "print(\"R^2 validation=\",R2)"
      ],
      "execution_count": 22,
      "outputs": [
        {
          "output_type": "stream",
          "text": [
            "MSE validation= 0.0030351471054035684\n",
            "R^2 validation= 0.3983542720170907\n"
          ],
          "name": "stdout"
        }
      ]
    },
    {
      "metadata": {
        "id": "3Q1KQH36E7xd",
        "colab_type": "code",
        "outputId": "e9229362-4525-4b93-ab48-1f0b15f2f5dc",
        "colab": {
          "base_uri": "https://localhost:8080/",
          "height": 51
        }
      },
      "cell_type": "code",
      "source": [
        "mse=mean_squared_error(y_obs_test,y_calc_test)\n",
        "print(\"MSE teste=\",mse)\n",
        "R2=r2_score(y_obs_test,y_calc_test)\n",
        "print(\"R^2 teste=\",R2)"
      ],
      "execution_count": 23,
      "outputs": [
        {
          "output_type": "stream",
          "text": [
            "MSE teste= 0.000592661658453187\n",
            "R^2 teste= 0.8848796658569532\n"
          ],
          "name": "stdout"
        }
      ]
    },
    {
      "metadata": {
        "id": "LAE9To7WwaAZ",
        "colab_type": "code",
        "colab": {}
      },
      "cell_type": "code",
      "source": [
        "def function(x):\n",
        "  global clf\n",
        "  x=x.reshape((5, 1))\n",
        "  Y=pn.NNOut(x, redem)\n",
        "  fun=Y*(-1)\n",
        "  return fun"
      ],
      "execution_count": 0,
      "outputs": []
    },
    {
      "metadata": {
        "id": "zG6KYAchw3rs",
        "colab_type": "code",
        "outputId": "533d4623-16b6-4a4a-f8fa-646be9b16e2f",
        "colab": {
          "base_uri": "https://localhost:8080/",
          "height": 85
        }
      },
      "cell_type": "code",
      "source": [
        "bounds = [(-2, 2),(-2, 2),(-2, 2),(-2, 2),(-2, 2)]\n",
        "Condicoes = optimize.differential_evolution(function,bounds,\n",
        "                                      init=\"latinhypercube\", # obs: init=\"random\"\n",
        "                                      maxiter=100, popsize=50,recombination=0.5)\n",
        "Condicoes=pd.DataFrame(Condicoes.x.reshape(1, 5))\n",
        "Condicoes.columns=['Temperature', 'Pressure','Particle_size','Flow_rate-CO2','Co-solvent']\n",
        "print(Condicoes)\n",
        "Cond=Descodifica(Condicoes,x_orig)\n",
        "print(Cond)"
      ],
      "execution_count": 25,
      "outputs": [
        {
          "output_type": "stream",
          "text": [
            "   Temperature  Pressure  Particle_size  Flow_rate-CO2  Co-solvent\n",
            "0          2.0   0.79431       0.808351       0.110268         2.0\n",
            "   Temperature    Pressure  Particle_size  Flow_rate-CO2  Co-solvent\n",
            "0        120.0  334.573217       0.952088      10.551342        15.0\n"
          ],
          "name": "stdout"
        }
      ]
    }
  ]
}