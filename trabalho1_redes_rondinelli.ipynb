{
  "nbformat": 4,
  "nbformat_minor": 0,
  "metadata": {
    "colab": {
      "name": "trabalho2.ipynb",
      "version": "0.3.2",
      "provenance": [],
      "collapsed_sections": []
    },
    "kernelspec": {
      "display_name": "Python 3",
      "language": "python",
      "name": "python3"
    }
  },
  "cells": [
    {
      "metadata": {
        "id": "nstu_nthrpS0",
        "colab_type": "code",
        "colab": {}
      },
      "cell_type": "code",
      "source": [
        "# bibliotecas usadas\n",
        "import os\n",
        "import numpy as np\n",
        "import pandas as pd\n",
        "import matplotlib.pyplot as plt\n",
        "from sklearn.neural_network import MLPRegressor"
      ],
      "execution_count": 0,
      "outputs": []
    },
    {
      "metadata": {
        "id": "vqhywFVArpS1",
        "colab_type": "code",
        "colab": {}
      },
      "cell_type": "code",
      "source": [
        "# para gerar o grafico no browser\n",
        "%matplotlib inline"
      ],
      "execution_count": 0,
      "outputs": []
    },
    {
      "metadata": {
        "id": "Y3d_Zf9arpS3",
        "colab_type": "code",
        "colab": {
          "base_uri": "https://localhost:8080/",
          "height": 204
        },
        "outputId": "20165fe1-f3a7-46f2-e42b-6a5078d3b49f"
      },
      "cell_type": "code",
      "source": [
        "# local dos dados e modifica o diretorio\n",
        "#path='/home/ucfilho/Documents/Aulas/Ago_29_2018'\n",
        "#os.chdir(path)\n",
        "!git clone http://github.com/rondinelliml/trabalho\n",
        "%cd trabalho\n",
        "!ls  "
      ],
      "execution_count": 119,
      "outputs": [
        {
          "output_type": "stream",
          "text": [
            "Cloning into 'trabalho'...\n",
            "warning: redirecting to https://github.com/rondinelliml/trabalho/\n",
            "remote: Enumerating objects: 32, done.\u001b[K\n",
            "remote: Counting objects:   3% (1/32)   \u001b[K\rremote: Counting objects:   6% (2/32)   \u001b[K\rremote: Counting objects:   9% (3/32)   \u001b[K\rremote: Counting objects:  12% (4/32)   \u001b[K\rremote: Counting objects:  15% (5/32)   \u001b[K\rremote: Counting objects:  18% (6/32)   \u001b[K\rremote: Counting objects:  21% (7/32)   \u001b[K\rremote: Counting objects:  25% (8/32)   \u001b[K\rremote: Counting objects:  28% (9/32)   \u001b[K\rremote: Counting objects:  31% (10/32)   \u001b[K\rremote: Counting objects:  34% (11/32)   \u001b[K\rremote: Counting objects:  37% (12/32)   \u001b[K\rremote: Counting objects:  40% (13/32)   \u001b[K\rremote: Counting objects:  43% (14/32)   \u001b[K\rremote: Counting objects:  46% (15/32)   \u001b[K\rremote: Counting objects:  50% (16/32)   \u001b[K\rremote: Counting objects:  53% (17/32)   \u001b[K\rremote: Counting objects:  56% (18/32)   \u001b[K\rremote: Counting objects:  59% (19/32)   \u001b[K\rremote: Counting objects:  62% (20/32)   \u001b[K\rremote: Counting objects:  65% (21/32)   \u001b[K\rremote: Counting objects:  68% (22/32)   \u001b[K\rremote: Counting objects:  71% (23/32)   \u001b[K\rremote: Counting objects:  75% (24/32)   \u001b[K\rremote: Counting objects:  78% (25/32)   \u001b[K\rremote: Counting objects:  81% (26/32)   \u001b[K\rremote: Counting objects:  84% (27/32)   \u001b[K\rremote: Counting objects:  87% (28/32)   \u001b[K\rremote: Counting objects:  90% (29/32)   \u001b[K\rremote: Counting objects:  93% (30/32)   \u001b[K\rremote: Counting objects:  96% (31/32)   \u001b[K\rremote: Counting objects: 100% (32/32)   \u001b[K\rremote: Counting objects: 100% (32/32), done.\u001b[K\n",
            "remote: Compressing objects:   3% (1/32)   \u001b[K\rremote: Compressing objects:   6% (2/32)   \u001b[K\rremote: Compressing objects:   9% (3/32)   \u001b[K\rremote: Compressing objects:  12% (4/32)   \u001b[K\rremote: Compressing objects:  15% (5/32)   \u001b[K\rremote: Compressing objects:  18% (6/32)   \u001b[K\rremote: Compressing objects:  21% (7/32)   \u001b[K\rremote: Compressing objects:  25% (8/32)   \u001b[K\rremote: Compressing objects:  28% (9/32)   \u001b[K\rremote: Compressing objects:  31% (10/32)   \u001b[K\rremote: Compressing objects:  34% (11/32)   \u001b[K\rremote: Compressing objects:  37% (12/32)   \u001b[K\rremote: Compressing objects:  40% (13/32)   \u001b[K\rremote: Compressing objects:  43% (14/32)   \u001b[K\rremote: Compressing objects:  46% (15/32)   \u001b[K\rremote: Compressing objects:  50% (16/32)   \u001b[K\rremote: Compressing objects:  53% (17/32)   \u001b[K\rremote: Compressing objects:  56% (18/32)   \u001b[K\rremote: Compressing objects:  59% (19/32)   \u001b[K\rremote: Compressing objects:  62% (20/32)   \u001b[K\rremote: Compressing objects:  65% (21/32)   \u001b[K\rremote: Compressing objects:  68% (22/32)   \u001b[K\rremote: Compressing objects:  71% (23/32)   \u001b[K\rremote: Compressing objects:  75% (24/32)   \u001b[K\rremote: Compressing objects:  78% (25/32)   \u001b[K\rremote: Compressing objects:  81% (26/32)   \u001b[K\rremote: Compressing objects:  84% (27/32)   \u001b[K\rremote: Compressing objects:  87% (28/32)   \u001b[K\rremote: Compressing objects:  90% (29/32)   \u001b[K\rremote: Compressing objects:  93% (30/32)   \u001b[K\rremote: Compressing objects:  96% (31/32)   \u001b[K\rremote: Compressing objects: 100% (32/32)   \u001b[K\rremote: Compressing objects: 100% (32/32), done.\u001b[K\n",
            "Unpacking objects:   3% (1/32)   \rUnpacking objects:   6% (2/32)   \rUnpacking objects:   9% (3/32)   \rUnpacking objects:  12% (4/32)   \rUnpacking objects:  15% (5/32)   \rUnpacking objects:  18% (6/32)   \rUnpacking objects:  21% (7/32)   \rUnpacking objects:  25% (8/32)   \rUnpacking objects:  28% (9/32)   \rUnpacking objects:  31% (10/32)   \rremote: Total 32 (delta 13), reused 0 (delta 0), pack-reused 0\u001b[K\n",
            "Unpacking objects:  34% (11/32)   \rUnpacking objects:  37% (12/32)   \rUnpacking objects:  40% (13/32)   \rUnpacking objects:  43% (14/32)   \rUnpacking objects:  46% (15/32)   \rUnpacking objects:  50% (16/32)   \rUnpacking objects:  53% (17/32)   \rUnpacking objects:  56% (18/32)   \rUnpacking objects:  59% (19/32)   \rUnpacking objects:  62% (20/32)   \rUnpacking objects:  65% (21/32)   \rUnpacking objects:  68% (22/32)   \rUnpacking objects:  71% (23/32)   \rUnpacking objects:  75% (24/32)   \rUnpacking objects:  78% (25/32)   \rUnpacking objects:  81% (26/32)   \rUnpacking objects:  84% (27/32)   \rUnpacking objects:  87% (28/32)   \rUnpacking objects:  90% (29/32)   \rUnpacking objects:  93% (30/32)   \rUnpacking objects:  96% (31/32)   \rUnpacking objects: 100% (32/32)   \rUnpacking objects: 100% (32/32), done.\n",
            "/content/trabalho/trabalho/trabalho/trabalho/trabalho\n",
            "'dados artigo.xlsx'\t\t  RBFNN_tranning_data1.csv\n",
            "'RBFNN error analysis data.csv'   trabalho1.ipynb\n",
            " RBFNN_error_analysis_data.csv\t 'tranning data transp.csv'\n"
          ],
          "name": "stdout"
        }
      ]
    },
    {
      "metadata": {
        "id": "o_Nm65ssrpS4",
        "colab_type": "code",
        "colab": {
          "base_uri": "https://localhost:8080/",
          "height": 173
        },
        "outputId": "9b314d2f-9d23-44f8-a22d-11f15e2e8662"
      },
      "cell_type": "code",
      "source": [
        "# leitura dos dados\n",
        "DAT=pd.read_csv(\"RBFNN_tranning_data1.csv\",sep='\\;')\n",
        "print(DAT.head())\n",
        "#DAT=pd.read_csv(\"Hydrofoil_ago_29_2018.csv\",index_col=\"emit\")"
      ],
      "execution_count": 120,
      "outputs": [
        {
          "output_type": "stream",
          "text": [
            "     epp    epw     pp     vp    upp    upw   alfa      p\n",
            "0  0.069  0.085  29.39  0.197  0.113  2.000  37.18  13.72\n",
            "1  0.059  0.088  25.91  0.237  0.019  2.000  27.12  12.74\n",
            "2  0.017  0.016  25.76  0.217  0.118  2.000  37.27  11.78\n",
            "3  0.070  0.024  24.55  0.415  0.139  0.682  34.56  11.27\n",
            "4  0.054  0.070  28.48  0.460  0.142  1.000  39.12  12.98\n"
          ],
          "name": "stdout"
        },
        {
          "output_type": "stream",
          "text": [
            "/usr/local/lib/python3.6/dist-packages/ipykernel_launcher.py:1: ParserWarning: Falling back to the 'python' engine because the 'c' engine does not support regex separators (separators > 1 char and different from '\\s+' are interpreted as regex); you can avoid this warning by specifying engine='python'.\n",
            "  \"\"\"Entry point for launching an IPython kernel.\n"
          ],
          "name": "stderr"
        }
      ]
    },
    {
      "metadata": {
        "id": "U5I-jpUqrpS4",
        "colab_type": "code",
        "colab": {
          "base_uri": "https://localhost:8080/",
          "height": 119
        },
        "outputId": "f72f8e40-1db5-4813-9bf0-39714b514067"
      },
      "cell_type": "code",
      "source": [
        "# separa as colunas de interesse\n",
        "Index=range(8)\n",
        "Dat_Select=[]\n",
        "Dat_Select=DAT.iloc[:,Index].copy()\n",
        "print(Dat_Select.head())"
      ],
      "execution_count": 121,
      "outputs": [
        {
          "output_type": "stream",
          "text": [
            "     epp    epw     pp     vp    upp    upw   alfa      p\n",
            "0  0.069  0.085  29.39  0.197  0.113  2.000  37.18  13.72\n",
            "1  0.059  0.088  25.91  0.237  0.019  2.000  27.12  12.74\n",
            "2  0.017  0.016  25.76  0.217  0.118  2.000  37.27  11.78\n",
            "3  0.070  0.024  24.55  0.415  0.139  0.682  34.56  11.27\n",
            "4  0.054  0.070  28.48  0.460  0.142  1.000  39.12  12.98\n"
          ],
          "name": "stdout"
        }
      ]
    },
    {
      "metadata": {
        "id": "gw3LCK0srpS6",
        "colab_type": "code",
        "colab": {}
      },
      "cell_type": "code",
      "source": [
        "# funcao normatiza dados, intervalo de -1 a 1)\n",
        "def Normatiza(x):\n",
        "    strings=list(x)\n",
        "    for i in strings:\n",
        "        max_x=x[i].max()\n",
        "        min_x=x[i].min()\n",
        "        a=(max_x+min_x)/2\n",
        "        b=(max_x-min_x)/2\n",
        "        x[i]=(x[i]-a)/b\n",
        "    return x"
      ],
      "execution_count": 0,
      "outputs": []
    },
    {
      "metadata": {
        "id": "iSSMXrHIrpS6",
        "colab_type": "code",
        "colab": {}
      },
      "cell_type": "code",
      "source": [
        "# funcao retorna os dados a forma original\n",
        "def Original(x,x_old):\n",
        "    strings=list(x)\n",
        "    for i in strings:\n",
        "        max_x=x_old[i].max()\n",
        "        min_x=x_old[i].min()\n",
        "        a=(max_x+min_x)/2\n",
        "        b=(max_x-min_x)/2\n",
        "        x[i]=x[i]*b+a\n",
        "    return x"
      ],
      "execution_count": 0,
      "outputs": []
    },
    {
      "metadata": {
        "id": "eSTPtYg_rpS6",
        "colab_type": "code",
        "colab": {
          "base_uri": "https://localhost:8080/",
          "height": 238
        },
        "outputId": "5f9ff691-f426-4908-8a64-632cfb46b10f"
      },
      "cell_type": "code",
      "source": [
        "# separa os dados em normatizados e originais\n",
        "DAT_OLD=[]\n",
        "# Guarda os dados antes de serem normatizados, para que não sejam perdidos\n",
        "DAT_OLD=Dat_Select.copy()\n",
        "DAT=Normatiza(Dat_Select)\n",
        "print(DAT.head())\n",
        "print('================================================================')\n",
        "print(DAT_OLD.head())"
      ],
      "execution_count": 124,
      "outputs": [
        {
          "output_type": "stream",
          "text": [
            "    epp   epw        pp        vp       upp    upw      alfa         p\n",
            "0  0.38  0.70  0.918667 -0.510101  0.471429  0.500  0.267399  0.774359\n",
            "1  0.18  0.76  0.454667 -0.308081 -0.871429  0.500 -0.551486  0.523077\n",
            "2 -0.66 -0.68  0.434667 -0.409091  0.542857  0.500  0.274725  0.276923\n",
            "3  0.40 -0.52  0.273333  0.590909  0.842857 -0.818  0.054131  0.146154\n",
            "4  0.08  0.40  0.797333  0.818182  0.885714 -0.500  0.425315  0.584615\n",
            "================================================================\n",
            "     epp    epw     pp     vp    upp    upw   alfa      p\n",
            "0  0.069  0.085  29.39  0.197  0.113  2.000  37.18  13.72\n",
            "1  0.059  0.088  25.91  0.237  0.019  2.000  27.12  12.74\n",
            "2  0.017  0.016  25.76  0.217  0.118  2.000  37.27  11.78\n",
            "3  0.070  0.024  24.55  0.415  0.139  0.682  34.56  11.27\n",
            "4  0.054  0.070  28.48  0.460  0.142  1.000  39.12  12.98\n"
          ],
          "name": "stdout"
        }
      ]
    },
    {
      "metadata": {
        "id": "vONrB2VKrpS7",
        "colab_type": "code",
        "colab": {
          "base_uri": "https://localhost:8080/",
          "height": 306
        },
        "outputId": "7c6dead1-c347-4c94-d05a-96082931d093"
      },
      "cell_type": "code",
      "source": [
        "# separa os dados em treino e teste\n",
        "train=DAT.sample(frac=0.75,random_state=None) # poderia ser frac=0.5? sim ou nao?\n",
        "test=DAT.drop(train.index)\n",
        "#train e test possui tanto x (entrada/independente) quanto y (saida/dependente)\n",
        "print(train.head())\n",
        "print(\"===================================================================\")\n",
        "print(train.shape[0]) #mostrar o numero de linhas\n",
        "print(\"===================================================================\")\n",
        "print(test.head())\n",
        "print(\"===================================================================\")\n",
        "print(test.shape[0])"
      ],
      "execution_count": 125,
      "outputs": [
        {
          "output_type": "stream",
          "text": [
            "     epp   epw        pp        vp       upp    upw      alfa         p\n",
            "23  0.92 -0.24  0.010667 -0.101010 -0.900000 -0.500 -0.313797  0.089744\n",
            "75 -0.90  0.62 -0.373333 -0.550505 -0.185714 -0.879 -0.111111 -0.328205\n",
            "86 -0.02 -0.92 -0.192000 -0.979798  0.171429 -0.010  0.163207 -0.223077\n",
            "7   0.30 -0.18 -0.172000 -1.000000 -0.700000  0.500 -0.442409 -0.125641\n",
            "78 -0.94  0.00  0.757333  0.530303 -0.757143 -0.091 -0.670330  0.753846\n",
            "===================================================================\n",
            "68\n",
            "===================================================================\n",
            "    epp   epw        pp        vp       upp    upw      alfa         p\n",
            "1  0.18  0.76  0.454667 -0.308081 -0.871429  0.500 -0.551486  0.523077\n",
            "2 -0.66 -0.68  0.434667 -0.409091  0.542857  0.500  0.274725  0.276923\n",
            "3  0.40 -0.52  0.273333  0.590909  0.842857 -0.818  0.054131  0.146154\n",
            "4  0.08  0.40  0.797333  0.818182  0.885714 -0.500  0.425315  0.584615\n",
            "5 -0.84  0.64 -0.576000  0.838384  0.714286  0.500  0.426129 -0.620513\n",
            "===================================================================\n",
            "22\n"
          ],
          "name": "stdout"
        }
      ]
    },
    {
      "metadata": {
        "id": "GEyLpvY4rpS8",
        "colab_type": "code",
        "colab": {
          "base_uri": "https://localhost:8080/",
          "height": 357
        },
        "outputId": "0ad25a70-2b70-412e-d766-adeb4ae3d2ff"
      },
      "cell_type": "code",
      "source": [
        "# obtem as variaveis independentes (treino e teste)\n",
        "x_train=train.iloc[:,[0,1,2,3,4,5]]\n",
        "x_test=test.iloc[:,[0,1,2,3,4,5]]\n",
        "X_OLD=DAT_OLD.iloc[:,[0,1,2,3,4,5]]\n",
        "print(x_test.head())\n",
        "print('================================================================')\n",
        "print(x_train.head())\n",
        "print('================================================================')\n",
        "print(X_OLD.head())"
      ],
      "execution_count": 126,
      "outputs": [
        {
          "output_type": "stream",
          "text": [
            "    epp   epw        pp        vp       upp    upw\n",
            "1  0.18  0.76  0.454667 -0.308081 -0.871429  0.500\n",
            "2 -0.66 -0.68  0.434667 -0.409091  0.542857  0.500\n",
            "3  0.40 -0.52  0.273333  0.590909  0.842857 -0.818\n",
            "4  0.08  0.40  0.797333  0.818182  0.885714 -0.500\n",
            "5 -0.84  0.64 -0.576000  0.838384  0.714286  0.500\n",
            "================================================================\n",
            "     epp   epw        pp        vp       upp    upw\n",
            "23  0.92 -0.24  0.010667 -0.101010 -0.900000 -0.500\n",
            "75 -0.90  0.62 -0.373333 -0.550505 -0.185714 -0.879\n",
            "86 -0.02 -0.92 -0.192000 -0.979798  0.171429 -0.010\n",
            "7   0.30 -0.18 -0.172000 -1.000000 -0.700000  0.500\n",
            "78 -0.94  0.00  0.757333  0.530303 -0.757143 -0.091\n",
            "================================================================\n",
            "     epp    epw     pp     vp    upp    upw\n",
            "0  0.069  0.085  29.39  0.197  0.113  2.000\n",
            "1  0.059  0.088  25.91  0.237  0.019  2.000\n",
            "2  0.017  0.016  25.76  0.217  0.118  2.000\n",
            "3  0.070  0.024  24.55  0.415  0.139  0.682\n",
            "4  0.054  0.070  28.48  0.460  0.142  1.000\n"
          ],
          "name": "stdout"
        }
      ]
    },
    {
      "metadata": {
        "id": "LIKwr06SrpS9",
        "colab_type": "code",
        "colab": {
          "base_uri": "https://localhost:8080/",
          "height": 867
        },
        "outputId": "58c07e7a-3151-4084-cc1a-f1718d317d61"
      },
      "cell_type": "code",
      "source": [
        "# obtem as variaveis dependentes (treino e teste)\n",
        "Index=[6,7]\n",
        "Y_OLD=DAT_OLD.iloc[:,Index]\n",
        "print(Y_OLD.head())\n",
        "\n",
        "Index=[6] #alfa\n",
        "Y_OLD_alfa=DAT_OLD.iloc[:,Index]\n",
        "y_train_alfa=train.iloc[:,Index]\n",
        "y_test_alfa=test.iloc[:,Index]\n",
        "\n",
        "Index=[7] #p\n",
        "Y_OLD_p=DAT_OLD.iloc[:,Index]           \n",
        "y_train_p=train.iloc[:,Index]\n",
        "y_test_p=test.iloc[:,Index]\n",
        "\n",
        "print(y_train_alfa.head())\n",
        "print(y_train_p.head())\n",
        "print('================================================================')\n",
        "print(y_test_alfa.head())\n",
        "print(y_test_p.head())\n",
        "print('================================================================')\n",
        "print(Y_OLD.head())\n",
        "print(Y_OLD_alfa.head())\n",
        "print(Y_OLD_p.head())"
      ],
      "execution_count": 127,
      "outputs": [
        {
          "output_type": "stream",
          "text": [
            "    alfa      p\n",
            "0  37.18  13.72\n",
            "1  27.12  12.74\n",
            "2  37.27  11.78\n",
            "3  34.56  11.27\n",
            "4  39.12  12.98\n",
            "        alfa\n",
            "23 -0.313797\n",
            "75 -0.111111\n",
            "86  0.163207\n",
            "7  -0.442409\n",
            "78 -0.670330\n",
            "           p\n",
            "23  0.089744\n",
            "75 -0.328205\n",
            "86 -0.223077\n",
            "7  -0.125641\n",
            "78  0.753846\n",
            "================================================================\n",
            "       alfa\n",
            "1 -0.551486\n",
            "2  0.274725\n",
            "3  0.054131\n",
            "4  0.425315\n",
            "5  0.426129\n",
            "          p\n",
            "1  0.523077\n",
            "2  0.276923\n",
            "3  0.146154\n",
            "4  0.584615\n",
            "5 -0.620513\n",
            "================================================================\n",
            "    alfa      p\n",
            "0  37.18  13.72\n",
            "1  27.12  12.74\n",
            "2  37.27  11.78\n",
            "3  34.56  11.27\n",
            "4  39.12  12.98\n",
            "    alfa\n",
            "0  37.18\n",
            "1  27.12\n",
            "2  37.27\n",
            "3  34.56\n",
            "4  39.12\n",
            "       p\n",
            "0  13.72\n",
            "1  12.74\n",
            "2  11.78\n",
            "3  11.27\n",
            "4  12.98\n"
          ],
          "name": "stdout"
        }
      ]
    },
    {
      "metadata": {
        "id": "zC70BsAG5eAC",
        "colab_type": "code",
        "colab": {}
      },
      "cell_type": "code",
      "source": [
        "Neuron=8"
      ],
      "execution_count": 0,
      "outputs": []
    },
    {
      "metadata": {
        "id": "sANIO3A0rpS9",
        "colab_type": "code",
        "colab": {}
      },
      "cell_type": "code",
      "source": [
        "# define a rede neural alfa\n",
        "clf_alfa = MLPRegressor(solver='lbfgs',activation='relu',alpha=1e-5,hidden_layer_sizes=(2), \n",
        "                    random_state=1)"
      ],
      "execution_count": 0,
      "outputs": []
    },
    {
      "metadata": {
        "id": "Z0NoFoiE5Q6h",
        "colab_type": "code",
        "colab": {}
      },
      "cell_type": "code",
      "source": [
        "# define a rede neural p\n",
        "clf_p = MLPRegressor(solver='lbfgs',activation='relu',alpha=1e-5,hidden_layer_sizes=(Neuron), \n",
        "                    random_state=1)"
      ],
      "execution_count": 0,
      "outputs": []
    },
    {
      "metadata": {
        "id": "7yep5T1yrpS-",
        "colab_type": "code",
        "colab": {
          "base_uri": "https://localhost:8080/",
          "height": 190
        },
        "outputId": "7253d758-20cc-4e2d-e4ea-47fe580e6904"
      },
      "cell_type": "code",
      "source": [
        "# treina a rede neural alfa\n",
        "clf_alfa.fit(x_train,y_train_alfa)"
      ],
      "execution_count": 131,
      "outputs": [
        {
          "output_type": "stream",
          "text": [
            "/usr/local/lib/python3.6/dist-packages/sklearn/neural_network/multilayer_perceptron.py:1306: DataConversionWarning: A column-vector y was passed when a 1d array was expected. Please change the shape of y to (n_samples, ), for example using ravel().\n",
            "  y = column_or_1d(y, warn=True)\n"
          ],
          "name": "stderr"
        },
        {
          "output_type": "execute_result",
          "data": {
            "text/plain": [
              "MLPRegressor(activation='relu', alpha=1e-05, batch_size='auto', beta_1=0.9,\n",
              "       beta_2=0.999, early_stopping=False, epsilon=1e-08,\n",
              "       hidden_layer_sizes=2, learning_rate='constant',\n",
              "       learning_rate_init=0.001, max_iter=200, momentum=0.9,\n",
              "       nesterovs_momentum=True, power_t=0.5, random_state=1, shuffle=True,\n",
              "       solver='lbfgs', tol=0.0001, validation_fraction=0.1, verbose=False,\n",
              "       warm_start=False)"
            ]
          },
          "metadata": {
            "tags": []
          },
          "execution_count": 131
        }
      ]
    },
    {
      "metadata": {
        "id": "o0FqJXxc5q2w",
        "colab_type": "code",
        "colab": {
          "base_uri": "https://localhost:8080/",
          "height": 190
        },
        "outputId": "1771f47e-10ea-419f-dd4b-a50084397f67"
      },
      "cell_type": "code",
      "source": [
        "# treina a rede neural p\n",
        "clf_p.fit(x_train, y_train_p)"
      ],
      "execution_count": 132,
      "outputs": [
        {
          "output_type": "stream",
          "text": [
            "/usr/local/lib/python3.6/dist-packages/sklearn/neural_network/multilayer_perceptron.py:1306: DataConversionWarning: A column-vector y was passed when a 1d array was expected. Please change the shape of y to (n_samples, ), for example using ravel().\n",
            "  y = column_or_1d(y, warn=True)\n"
          ],
          "name": "stderr"
        },
        {
          "output_type": "execute_result",
          "data": {
            "text/plain": [
              "MLPRegressor(activation='relu', alpha=1e-05, batch_size='auto', beta_1=0.9,\n",
              "       beta_2=0.999, early_stopping=False, epsilon=1e-08,\n",
              "       hidden_layer_sizes=8, learning_rate='constant',\n",
              "       learning_rate_init=0.001, max_iter=200, momentum=0.9,\n",
              "       nesterovs_momentum=True, power_t=0.5, random_state=1, shuffle=True,\n",
              "       solver='lbfgs', tol=0.0001, validation_fraction=0.1, verbose=False,\n",
              "       warm_start=False)"
            ]
          },
          "metadata": {
            "tags": []
          },
          "execution_count": 132
        }
      ]
    },
    {
      "metadata": {
        "id": "5Aq-_nhyrpS-",
        "colab_type": "code",
        "colab": {
          "base_uri": "https://localhost:8080/",
          "height": 34
        },
        "outputId": "36dfe5c8-6b86-4a6e-98af-5bc31b7d0e83"
      },
      "cell_type": "code",
      "source": [
        "# usa a rede neural treina em calculos para treino e teste \n",
        "# predizer os dados de saida (y) tanto para traino quanto para teste\n",
        "# pois quero no gráfico essas duas informações\n",
        "y_calc_train=clf_alfa.predict(x_train)\n",
        "y_calc_test=clf_alfa.predict(x_test)\n",
        "#print(y_calc_train[:,:])\n",
        "print(y_calc_test.shape[0])"
      ],
      "execution_count": 133,
      "outputs": [
        {
          "output_type": "stream",
          "text": [
            "22\n"
          ],
          "name": "stdout"
        }
      ]
    },
    {
      "metadata": {
        "id": "kMJuDgUCrpS_",
        "colab_type": "code",
        "colab": {
          "base_uri": "https://localhost:8080/",
          "height": 136
        },
        "outputId": "ffe7f52d-4a0b-40fe-ab6a-91fc83e28613"
      },
      "cell_type": "code",
      "source": [
        "# transforma a saida da rede em dataframe \n",
        "y_calc_train=pd.DataFrame(y_calc_train)\n",
        "y_calc_test=pd.DataFrame(y_calc_test)\n",
        "col_names=list(Y_OLD_alfa)\n",
        "y_calc_train.columns = col_names\n",
        "y_calc_test.columns = col_names\n",
        "print(y_calc_train.head())\n",
        "print(y_calc_test.shape[0])"
      ],
      "execution_count": 134,
      "outputs": [
        {
          "output_type": "stream",
          "text": [
            "       alfa\n",
            "0 -0.532809\n",
            "1 -0.202275\n",
            "2  0.031701\n",
            "3 -0.502844\n",
            "4 -0.626338\n",
            "22\n"
          ],
          "name": "stdout"
        }
      ]
    },
    {
      "metadata": {
        "id": "lpC2hEPmrpS_",
        "colab_type": "code",
        "colab": {
          "base_uri": "https://localhost:8080/",
          "height": 255
        },
        "outputId": "bc430044-2596-4804-e188-32107ace8b57"
      },
      "cell_type": "code",
      "source": [
        "# transforma dos dados calculados na forma original (nao normatizado)\n",
        "y_calc_train=Original(y_calc_train,Y_OLD_alfa)\n",
        "y_calc_test=Original(y_calc_test,Y_OLD_alfa)\n",
        "print(y_calc_test.head())\n",
        "print(y_calc_test.shape[0])\n",
        "\n",
        "print('================================================================')\n",
        "print(y_calc_train.head())\n"
      ],
      "execution_count": 135,
      "outputs": [
        {
          "output_type": "stream",
          "text": [
            "        alfa\n",
            "0  26.450546\n",
            "1  36.481152\n",
            "2  41.192235\n",
            "3  41.167458\n",
            "4  39.928873\n",
            "22\n",
            "================================================================\n",
            "        alfa\n",
            "0  27.349438\n",
            "1  31.410054\n",
            "2  34.284450\n",
            "3  27.717558\n",
            "4  26.200442\n"
          ],
          "name": "stdout"
        }
      ]
    },
    {
      "metadata": {
        "id": "bK1dYRnKrpTA",
        "colab_type": "code",
        "colab": {
          "base_uri": "https://localhost:8080/",
          "height": 68
        },
        "outputId": "62fed067-066e-408e-9015-b848b9b2c2c5"
      },
      "cell_type": "code",
      "source": [
        "# recupera os dados originais \n",
        "test=[]\n",
        "train=[]\n",
        "train=Original(y_train_alfa,Y_OLD_alfa)\n",
        "test=Original(y_test_alfa,Y_OLD_alfa)\n",
        "print(train.shape[0])\n",
        "print('===================================================================')\n",
        "print(test.shape[0])"
      ],
      "execution_count": 136,
      "outputs": [
        {
          "output_type": "stream",
          "text": [
            "68\n",
            "===================================================================\n",
            "22\n"
          ],
          "name": "stdout"
        }
      ]
    },
    {
      "metadata": {
        "id": "PHbzkxPqrpTA",
        "colab_type": "code",
        "colab": {
          "base_uri": "https://localhost:8080/",
          "height": 51
        },
        "outputId": "060a9ee9-32c0-4435-b6c5-c564d30b3cbc"
      },
      "cell_type": "code",
      "source": [
        "# escolhe uma das resposta para fazer o grafico (alfa-treino)\n",
        "alfa_obs_train=[]\n",
        "alfa_calc_train=[]\n",
        "alfa_calc_train=y_calc_train['alfa'].copy()\n",
        "alfa_obs_train=train['alfa'].copy()\n",
        "#print(alfa_calc_test.head())\n",
        "print(alfa_calc_train.shape[0])\n",
        "print(alfa_obs_train.shape[0])\n",
        "#print(alfa_obs_test.shape[0])\n",
        "#print(alfa_calc_test.shape[0])"
      ],
      "execution_count": 137,
      "outputs": [
        {
          "output_type": "stream",
          "text": [
            "68\n",
            "68\n"
          ],
          "name": "stdout"
        }
      ]
    },
    {
      "metadata": {
        "id": "2lZ7HhCnFWL4",
        "colab_type": "code",
        "colab": {}
      },
      "cell_type": "code",
      "source": [
        ""
      ],
      "execution_count": 0,
      "outputs": []
    },
    {
      "metadata": {
        "id": "BIUoZPYtrpTB",
        "colab_type": "code",
        "colab": {
          "base_uri": "https://localhost:8080/",
          "height": 153
        },
        "outputId": "c1525e4e-af61-44ae-e068-9390dc44b988"
      },
      "cell_type": "code",
      "source": [
        "# escolhe uma das resposta para fazer o grafico (alfa-teste)\n",
        "alfa_obs_test=[]\n",
        "alfa_calc_test=[]\n",
        "alfa_calc_test=y_calc_test['alfa'].copy()\n",
        "alfa_obs_test=test['alfa'].copy()\n",
        "print(alfa_calc_test.head())\n",
        "print(alfa_calc_test.shape[0])\n",
        "print(alfa_obs_test.shape[0])"
      ],
      "execution_count": 138,
      "outputs": [
        {
          "output_type": "stream",
          "text": [
            "0    26.450546\n",
            "1    36.481152\n",
            "2    41.192235\n",
            "3    41.167458\n",
            "4    39.928873\n",
            "Name: alfa, dtype: float64\n",
            "22\n",
            "22\n"
          ],
          "name": "stdout"
        }
      ]
    },
    {
      "metadata": {
        "id": "BnO6fYDQrpTC",
        "colab_type": "code",
        "colab": {
          "base_uri": "https://localhost:8080/",
          "height": 282
        },
        "outputId": "ffbdb0eb-a770-4d0a-b9f8-543d96d3c587"
      },
      "cell_type": "code",
      "source": [
        "# expressa os dois dados em figura\n",
        "fig = plt.figure()\n",
        "ax1 = fig.add_subplot(111)#mostra dois graficos sob o mesmo eixo \n",
        "\n",
        "ax1.scatter(alfa_obs_test,alfa_calc_test, s=10, c='b', marker=\"s\", label='teste')\n",
        "ax1.scatter(alfa_obs_train,alfa_calc_train, s=10, c='r', marker=\"o\", label='treino')\n",
        "plt.legend(loc='upper left')\n",
        "plt.ylabel('alfa Calc')\n",
        "plt.xlabel('alfa Obs')\n",
        "plt.show()"
      ],
      "execution_count": 139,
      "outputs": [
        {
          "output_type": "display_data",
          "data": {
            "image/png": "[encoded data removed]",
            "text/plain": [
              "<matplotlib.figure.Figure at 0x7fd162815be0>"
            ]
          },
          "metadata": {
            "tags": []
          }
        }
      ]
    },
    {
      "metadata": {
        "id": "H2P6OClerpTC",
        "colab_type": "code",
        "colab": {}
      },
      "cell_type": "code",
      "source": [
        "#from é usado para carregar apenas uma função de uma biblioteca\n",
        "from sklearn.metrics import mean_squared_error\n",
        "from sklearn.metrics import r2_score "
      ],
      "execution_count": 0,
      "outputs": []
    },
    {
      "metadata": {
        "id": "ywqDO_2irpTD",
        "colab_type": "code",
        "colab": {
          "base_uri": "https://localhost:8080/",
          "height": 51
        },
        "outputId": "ceb95781-c3a9-4c6e-f742-bf167486a315"
      },
      "cell_type": "code",
      "source": [
        "mse=mean_squared_error(alfa_obs_test,alfa_calc_test)\n",
        "print(\"MSE teste=\",mse)\n",
        "R2=r2_score(alfa_obs_test,alfa_calc_test)\n",
        "print(\"R^2 teste=\",R2)"
      ],
      "execution_count": 141,
      "outputs": [
        {
          "output_type": "stream",
          "text": [
            "MSE teste= 6.249306971319664\n",
            "R^2 teste= 0.760417377973121\n"
          ],
          "name": "stdout"
        }
      ]
    },
    {
      "metadata": {
        "id": "YssNSRRIrpTD",
        "colab_type": "code",
        "colab": {
          "base_uri": "https://localhost:8080/",
          "height": 51
        },
        "outputId": "ed1c3a67-dff6-4b54-a55a-539be0c04893"
      },
      "cell_type": "code",
      "source": [
        "mse=mean_squared_error(alfa_obs_train,alfa_calc_train)\n",
        "print(\"MSE treino=\",mse)\n",
        "R2=r2_score(alfa_obs_train,alfa_calc_train)\n",
        "print(\"R^2 treino=\",R2)"
      ],
      "execution_count": 142,
      "outputs": [
        {
          "output_type": "stream",
          "text": [
            "MSE treino= 8.218064690570595\n",
            "R^2 treino= 0.7257162379538261\n"
          ],
          "name": "stdout"
        }
      ]
    },
    {
      "metadata": {
        "id": "lnN15MR9FWsO",
        "colab_type": "code",
        "colab": {
          "base_uri": "https://localhost:8080/",
          "height": 279
        },
        "outputId": "9982c647-4ac6-4512-e961-89f443cad452"
      },
      "cell_type": "code",
      "source": [
        "y_calc_train=clf_p.predict(x_train)\n",
        "y_calc_test=clf_p.predict(x_test)\n",
        "y_calc_train=pd.DataFrame(y_calc_train)\n",
        "y_calc_test=pd.DataFrame(y_calc_test)\n",
        "col_names=list(Y_OLD_p)\n",
        "y_calc_train.columns = col_names\n",
        "y_calc_test.columns = col_names\n",
        "y_calc_train=Original(y_calc_train,Y_OLD_p)\n",
        "y_calc_test=Original(y_calc_test,Y_OLD_p)\n",
        "test=[]\n",
        "train=[]\n",
        "train=Original(y_train_p,Y_OLD_p)\n",
        "test=Original(y_test_p,Y_OLD_p)\n",
        "p_obs_train=[]\n",
        "p_calc_train=[]\n",
        "p_calc_train=y_calc_train['p'].copy()\n",
        "p_obs_train=train['p'].copy()\n",
        "p_obs_test=[]\n",
        "p_calc_test=[]\n",
        "p_calc_test=y_calc_test['p'].copy()\n",
        "p_obs_test=test['p'].copy()\n",
        "fig = plt.figure()\n",
        "ax1 = fig.add_subplot(111)#mostra dois graficos sob o mesmo eixo \n",
        "ax1.scatter(p_obs_test,p_calc_test, s=10, c='b', marker=\"s\", label='teste')\n",
        "ax1.scatter(p_obs_train,p_calc_train, s=10, c='r', marker=\"o\", label='treino')\n",
        "plt.legend(loc='upper left')\n",
        "plt.ylabel('p Calc')\n",
        "plt.xlabel('p Obs')\n",
        "plt.show()"
      ],
      "execution_count": 143,
      "outputs": [
        {
          "output_type": "display_data",
          "data": {
            "image/png": "[encoded data removed]",
            "text/plain": [
              "<matplotlib.figure.Figure at 0x7fd16278be10>"
            ]
          },
          "metadata": {
            "tags": []
          }
        }
      ]
    },
    {
      "metadata": {
        "id": "zh7io1YhLt86",
        "colab_type": "code",
        "colab": {
          "base_uri": "https://localhost:8080/",
          "height": 51
        },
        "outputId": "4d6f84b9-c698-4811-e367-a34013a82184"
      },
      "cell_type": "code",
      "source": [
        "mse=mean_squared_error(p_obs_test,p_calc_test)\n",
        "print(\"MSE teste=\",mse)\n",
        "R2=r2_score(p_obs_test,p_calc_test)\n",
        "print(\"R^2 teste=\",R2)"
      ],
      "execution_count": 144,
      "outputs": [
        {
          "output_type": "stream",
          "text": [
            "MSE teste= 0.18013159771954626\n",
            "R^2 teste= 0.9701710727375666\n"
          ],
          "name": "stdout"
        }
      ]
    },
    {
      "metadata": {
        "id": "MBVuiFiML1U5",
        "colab_type": "code",
        "colab": {
          "base_uri": "https://localhost:8080/",
          "height": 51
        },
        "outputId": "ecc1e2cc-88d8-424a-d565-7094b854dc24"
      },
      "cell_type": "code",
      "source": [
        "mse=mean_squared_error(p_obs_train,p_calc_train)\n",
        "print(\"MSE treino=\",mse)\n",
        "R2=r2_score(p_obs_train,p_calc_train)\n",
        "print(\"R^2 treino=\",R2)"
      ],
      "execution_count": 145,
      "outputs": [
        {
          "output_type": "stream",
          "text": [
            "MSE treino= 0.00437988401446161\n",
            "R^2 treino= 0.9989265245756523\n"
          ],
          "name": "stdout"
        }
      ]
    }
  ]
}