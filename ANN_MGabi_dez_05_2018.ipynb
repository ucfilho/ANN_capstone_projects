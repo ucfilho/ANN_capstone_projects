{
  "nbformat": 4,
  "nbformat_minor": 0,
  "metadata": {
    "colab": {
      "name": "ANNTrabalho1.ipynb",
      "version": "0.3.2",
      "provenance": [],
      "collapsed_sections": [],
      "include_colab_link": true
    },
    "kernelspec": {
      "display_name": "Python 3",
      "language": "python",
      "name": "python3"
    }
  },
  "cells": [
    {
      "cell_type": "markdown",
      "metadata": {
        "id": "view-in-github",
        "colab_type": "text"
      },
      "source": [
        "<a href=\"https://colab.research.google.com/github/ucfilho/ANN_capstone_projects/blob/master/ANN_MGabi_dez_05_2018.ipynb\" target=\"_parent\"><img src=\"https://colab.research.google.com/assets/colab-badge.svg\" alt=\"Open In Colab\"/></a>"
      ]
    },
    {
      "metadata": {
        "id": "b4yMWaR_4K83",
        "colab_type": "code",
        "colab": {}
      },
      "cell_type": "code",
      "source": [
        "# https://github.com/marquesgabi/Trabalho1\n",
        "\n",
        "#bibliotecas usadas\n",
        "import os\n",
        "import numpy as np\n",
        "import pandas as pd\n",
        "import matplotlib.pyplot as plt\n",
        "from scipy import optimize\n",
        "from sklearn.neural_network import MLPRegressor\n",
        "from sklearn.metrics import mean_squared_error\n",
        "from sklearn.metrics import r2_score \n",
        "from mpl_toolkits.mplot3d import Axes3D, axes3d"
      ],
      "execution_count": 0,
      "outputs": []
    },
    {
      "metadata": {
        "id": "U5eQ-dhY4K9L",
        "colab_type": "code",
        "outputId": "f49ecb0d-dc82-40c2-b793-0e71855f5973",
        "colab": {
          "base_uri": "https://localhost:8080/",
          "height": 179
        }
      },
      "cell_type": "code",
      "source": [
        "# local dos dados\n",
        "!git clone https://github.com/marquesgabi/Trabalho1/\n",
        "%cd Trabalho1\n",
        "!ls"
      ],
      "execution_count": 2,
      "outputs": [
        {
          "output_type": "stream",
          "text": [
            "Cloning into 'Trabalho1'...\n",
            "remote: Enumerating objects: 35, done.\u001b[K\n",
            "remote: Counting objects: 100% (35/35), done.\u001b[K\n",
            "remote: Compressing objects: 100% (35/35), done.\u001b[K\n",
            "remote: Total 35 (delta 10), reused 0 (delta 0), pack-reused 0\u001b[K\n",
            "Unpacking objects: 100% (35/35), done.\n",
            "/content/Trabalho1\n",
            " ANNTrabalho1.ipynb\t\t      Dados_Experimentais_4.csv\n",
            "'Dados_Experimentais_2 - Cópia.csv'  'Matéria ANN Trabalho 1.pdf'\n"
          ],
          "name": "stdout"
        }
      ]
    },
    {
      "metadata": {
        "id": "7VOacAEX4K9P",
        "colab_type": "code",
        "colab": {}
      },
      "cell_type": "code",
      "source": [
        "# sigmoid function                                           # usa a sigmoide no neuronio oculto\n",
        "def sigmoid(x,deriv=False):\n",
        "    if(deriv==True):\n",
        "        return x*(1-x)\n",
        "    return 1/(1+np.exp(-x))\n",
        "\n",
        "# purelin function                                           #a gaussiana é muito utilizada para classificação. aplica a purelin na saida\n",
        "def purelin(x,deriv=False):\n",
        "    if(deriv==True):\n",
        "        return 1\n",
        "    return x\n",
        "\n",
        "# funcao normatiza dados\n",
        "def Normatiza(x):\n",
        "    strings=list(x)\n",
        "    for i in strings:\n",
        "        max_x=x[i].max()\n",
        "        min_x=x[i].min()\n",
        "        a=(max_x+min_x)/2\n",
        "        b=(max_x-min_x)/2\n",
        "        x[i]=(x[i]-a)/b\n",
        "    return x\n",
        "\n",
        "# funcao retorna os dados a forma original\n",
        "def Original(x,x_old):\n",
        "    strings=list(x)\n",
        "    for i in strings:\n",
        "        max_x=x_old[i].max()\n",
        "        min_x=x_old[i].min()\n",
        "        a=(max_x+min_x)/2\n",
        "        b=(max_x-min_x)/2\n",
        "        x[i]=x[i]*b+a\n",
        "    return x"
      ],
      "execution_count": 0,
      "outputs": []
    },
    {
      "metadata": {
        "id": "NIIANJnmaVcy",
        "colab_type": "code",
        "outputId": "ea75ebdd-cad1-4497-a2a0-b4c950bf6228",
        "colab": {
          "base_uri": "https://localhost:8080/",
          "height": 125
        }
      },
      "cell_type": "code",
      "source": [
        "# leitura dos dados                                               \n",
        "DAT=pd.read_csv(\"Dados_Experimentais_2 - Cópia.csv\")\n",
        "print(DAT.head())"
      ],
      "execution_count": 4,
      "outputs": [
        {
          "output_type": "stream",
          "text": [
            "   Temperature   Rela_Viscosity  FracaoV\n",
            "0     24.946458        1.077714     0.05\n",
            "1     34.969159        1.060571     0.05\n",
            "2     44.991859        1.043429     0.05\n",
            "3     55.016438        1.033143     0.05\n",
            "4     64.960235        1.028000     0.05\n"
          ],
          "name": "stdout"
        }
      ]
    },
    {
      "metadata": {
        "id": "bOpY4Hqt4K9S",
        "colab_type": "code",
        "outputId": "045720e9-596b-40a9-97b3-cad5e24de298",
        "colab": {
          "base_uri": "https://localhost:8080/",
          "height": 125
        }
      },
      "cell_type": "code",
      "source": [
        "# separa as colunas de interesse\n",
        "Index=[0,1,2]\n",
        "Dat_Select=[]\n",
        "Dat_Select=DAT.iloc[:,Index].copy()\n",
        "print(Dat_Select.head())"
      ],
      "execution_count": 5,
      "outputs": [
        {
          "output_type": "stream",
          "text": [
            "   Temperature   Rela_Viscosity  FracaoV\n",
            "0     24.946458        1.077714     0.05\n",
            "1     34.969159        1.060571     0.05\n",
            "2     44.991859        1.043429     0.05\n",
            "3     55.016438        1.033143     0.05\n",
            "4     64.960235        1.028000     0.05\n"
          ],
          "name": "stdout"
        }
      ]
    },
    {
      "metadata": {
        "id": "nYEo52b2pOUP",
        "colab_type": "code",
        "outputId": "b88a046a-c916-471c-9cce-a74073c7e5cb",
        "colab": {
          "base_uri": "https://localhost:8080/",
          "height": 125
        }
      },
      "cell_type": "code",
      "source": [
        "# separa os dados em normatizados e originais\n",
        "DAT_OLD=[]\n",
        "DAT_OLD=Dat_Select.copy()\n",
        "DAT=Normatiza(Dat_Select)\n",
        "print(Dat_Select.head())"
      ],
      "execution_count": 6,
      "outputs": [
        {
          "output_type": "stream",
          "text": [
            "   Temperature   Rela_Viscosity  FracaoV\n",
            "0     -1.000000       -0.777778     -1.0\n",
            "1     -0.501297       -0.854406     -1.0\n",
            "2     -0.002594       -0.931034     -1.0\n",
            "3      0.496202       -0.977011     -1.0\n",
            "4      0.990979       -1.000000     -1.0\n"
          ],
          "name": "stdout"
        }
      ]
    },
    {
      "metadata": {
        "id": "aBqZBqnBpTHu",
        "colab_type": "code",
        "outputId": "abd8468c-61a9-4432-d27a-f810e30a3bdc",
        "colab": {
          "base_uri": "https://localhost:8080/",
          "height": 341
        }
      },
      "cell_type": "code",
      "source": [
        "# separa os dados em treino e teste\n",
        "train=DAT.sample(frac=0.8,random_state=None)\n",
        "test=DAT.drop(train.index)\n",
        "print(train.head())\n",
        "Col_Indep=['Temperature ', 'Rela_Viscosity',  'FracaoV']\n",
        "print(test.head())\n",
        "print(\"=======================\")\n",
        "print(test.shape[0])\n",
        "print(test.shape[1])\n",
        "print(train.shape[0])\n",
        "print(train.shape[1])\n",
        "print(\"=======================\")"
      ],
      "execution_count": 7,
      "outputs": [
        {
          "output_type": "stream",
          "text": [
            "    Temperature   Rela_Viscosity   FracaoV\n",
            "28      0.501461        0.747126  1.000000\n",
            "7       0.995630       -0.816092 -0.894737\n",
            "25     -0.990489        1.000000  1.000000\n",
            "11     -0.499965       -0.417625 -0.684211\n",
            "10     -0.994625       -0.356322 -0.684211\n",
            "    Temperature   Rela_Viscosity   FracaoV\n",
            "2      -0.002594       -0.931034 -1.000000\n",
            "15     -0.993433        0.034483 -0.263158\n",
            "22      0.500175        0.325670  0.578947\n",
            "23      0.998972        0.279693  0.578947\n",
            "24      0.005422        0.356322  0.578947\n",
            "=======================\n",
            "6\n",
            "3\n",
            "24\n",
            "3\n",
            "=======================\n"
          ],
          "name": "stdout"
        }
      ]
    },
    {
      "metadata": {
        "id": "myFpUt457-B0",
        "colab_type": "code",
        "outputId": "999a135a-db5c-4920-86e0-e3534d1c3aa3",
        "colab": {
          "base_uri": "https://localhost:8080/",
          "height": 233
        }
      },
      "cell_type": "code",
      "source": [
        "# obtem as variaveis independentes (treino e teste)\n",
        "x_train=train[Col_Indep]\n",
        "x_test=test[Col_Indep]\n",
        "X_OLD=DAT_OLD[Col_Indep]\n",
        "print(x_test.head())\n",
        "print(\"=======================\")\n",
        "print(x_train.shape[0])\n",
        "print(x_train.shape[1])\n",
        "print(x_test.shape[0])\n",
        "print(x_test.shape[1])\n",
        "print(\"=======================\")"
      ],
      "execution_count": 8,
      "outputs": [
        {
          "output_type": "stream",
          "text": [
            "    Temperature   Rela_Viscosity   FracaoV\n",
            "2      -0.002594       -0.931034 -1.000000\n",
            "15     -0.993433        0.034483 -0.263158\n",
            "22      0.500175        0.325670  0.578947\n",
            "23      0.998972        0.279693  0.578947\n",
            "24      0.005422        0.356322  0.578947\n",
            "=======================\n",
            "24\n",
            "3\n",
            "6\n",
            "3\n",
            "=======================\n"
          ],
          "name": "stdout"
        }
      ]
    },
    {
      "metadata": {
        "id": "eL3bD8g78yCZ",
        "colab_type": "code",
        "outputId": "33224a95-3872-48e4-daa8-8a43e550a6b9",
        "colab": {
          "base_uri": "https://localhost:8080/",
          "height": 449
        }
      },
      "cell_type": "code",
      "source": [
        "# obtem as variaveis dependentes (treino e teste)\n",
        "Index=[ 'Rela_Viscosity']\n",
        "y_train=train[Index]\n",
        "y_test=test[Index]\n",
        "Y_OLD=DAT_OLD[Index]\n",
        "print(Y_OLD.head())\n",
        "print(x_train.head())\n",
        "print(y_test.head())\n",
        "print(\"=======================\")\n",
        "print(y_train.shape[0])\n",
        "print(y_train.shape[1])\n",
        "print(y_test.shape[0])\n",
        "print(y_test.shape[1])\n",
        "print(\"=======================\")"
      ],
      "execution_count": 9,
      "outputs": [
        {
          "output_type": "stream",
          "text": [
            "   Rela_Viscosity\n",
            "0        1.077714\n",
            "1        1.060571\n",
            "2        1.043429\n",
            "3        1.033143\n",
            "4        1.028000\n",
            "    Temperature   Rela_Viscosity   FracaoV\n",
            "28      0.501461        0.747126  1.000000\n",
            "7       0.995630       -0.816092 -0.894737\n",
            "25     -0.990489        1.000000  1.000000\n",
            "11     -0.499965       -0.417625 -0.684211\n",
            "10     -0.994625       -0.356322 -0.684211\n",
            "    Rela_Viscosity\n",
            "2        -0.931034\n",
            "15        0.034483\n",
            "22        0.325670\n",
            "23        0.279693\n",
            "24        0.356322\n",
            "=======================\n",
            "24\n",
            "1\n",
            "6\n",
            "1\n",
            "=======================\n"
          ],
          "name": "stdout"
        }
      ]
    },
    {
      "metadata": {
        "id": "WUv1HKJblh5l",
        "colab_type": "code",
        "colab": {}
      },
      "cell_type": "code",
      "source": [
        "# define a rede neural \n",
        "N_Hidden=12\n",
        "clf = MLPRegressor(solver='lbfgs',activation='tanh',alpha=1e-5,hidden_layer_sizes=(N_Hidden), \n",
        "                    random_state=1)"
      ],
      "execution_count": 0,
      "outputs": []
    },
    {
      "metadata": {
        "id": "UsPYeSJ6mXQ8",
        "colab_type": "code",
        "outputId": "efb9b463-ae3a-4e11-babd-7ae54ffa766b",
        "colab": {
          "base_uri": "https://localhost:8080/",
          "height": 199
        }
      },
      "cell_type": "code",
      "source": [
        "# treina a rede neural\n",
        "clf.fit(x_train, y_train)"
      ],
      "execution_count": 11,
      "outputs": [
        {
          "output_type": "stream",
          "text": [
            "/usr/local/lib/python3.6/dist-packages/sklearn/neural_network/multilayer_perceptron.py:1306: DataConversionWarning: A column-vector y was passed when a 1d array was expected. Please change the shape of y to (n_samples, ), for example using ravel().\n",
            "  y = column_or_1d(y, warn=True)\n"
          ],
          "name": "stderr"
        },
        {
          "output_type": "execute_result",
          "data": {
            "text/plain": [
              "MLPRegressor(activation='tanh', alpha=1e-05, batch_size='auto', beta_1=0.9,\n",
              "       beta_2=0.999, early_stopping=False, epsilon=1e-08,\n",
              "       hidden_layer_sizes=12, learning_rate='constant',\n",
              "       learning_rate_init=0.001, max_iter=200, momentum=0.9,\n",
              "       nesterovs_momentum=True, power_t=0.5, random_state=1, shuffle=True,\n",
              "       solver='lbfgs', tol=0.0001, validation_fraction=0.1, verbose=False,\n",
              "       warm_start=False)"
            ]
          },
          "metadata": {
            "tags": []
          },
          "execution_count": 11
        }
      ]
    },
    {
      "metadata": {
        "id": "TEINcOleminG",
        "colab_type": "code",
        "colab": {}
      },
      "cell_type": "code",
      "source": [
        "# usa a rede neural treina em calculos para treino e teste\n",
        "y_calc_train=clf.predict(x_train)\n",
        "y_calc_test=clf.predict(x_test)\n",
        "#print(y_calc_train)\n",
        "#print(Y_OLD)"
      ],
      "execution_count": 0,
      "outputs": []
    },
    {
      "metadata": {
        "id": "7TXZkDV3mtwc",
        "colab_type": "code",
        "colab": {}
      },
      "cell_type": "code",
      "source": [
        "# transforma a saida da rede em dataframe \n",
        "y_calc_train=pd.DataFrame(y_calc_train)\n",
        "y_calc_test=pd.DataFrame(y_calc_test)\n",
        "col_names=list(y_train)\n",
        "y_calc_train.columns = col_names\n",
        "y_calc_test.columns = col_names"
      ],
      "execution_count": 0,
      "outputs": []
    },
    {
      "metadata": {
        "id": "oOyj7JkBmj7f",
        "colab_type": "code",
        "outputId": "b2707e45-112f-48c3-afa6-eebac816ce4f",
        "colab": {
          "base_uri": "https://localhost:8080/",
          "height": 107
        }
      },
      "cell_type": "code",
      "source": [
        "# transforma dos dados calculados na forma original (nao normatizado)\n",
        "y_calc_train=Original(y_calc_train,Y_OLD)\n",
        "y_calc_test=Original(y_calc_test,Y_OLD)\n",
        "y_test=Original(y_test,Y_OLD)\n",
        "y_train=Original(y_train,Y_OLD)\n",
        "#print(y_calc_train)\n",
        "#print(y_test)\n",
        "#print(y_calc_test)\n",
        "#print(Y_OLD)"
      ],
      "execution_count": 14,
      "outputs": [
        {
          "output_type": "stream",
          "text": [
            "/usr/local/lib/python3.6/dist-packages/ipykernel_launcher.py:31: SettingWithCopyWarning: \n",
            "A value is trying to be set on a copy of a slice from a DataFrame.\n",
            "Try using .loc[row_indexer,col_indexer] = value instead\n",
            "\n",
            "See the caveats in the documentation: http://pandas.pydata.org/pandas-docs/stable/indexing.html#indexing-view-versus-copy\n"
          ],
          "name": "stderr"
        }
      ]
    },
    {
      "metadata": {
        "id": "TAVOOJW6n07D",
        "colab_type": "code",
        "outputId": "b9c259eb-0c33-4648-f3aa-00292fb9cc2f",
        "colab": {
          "base_uri": "https://localhost:8080/",
          "height": 361
        }
      },
      "cell_type": "code",
      "source": [
        "# expressa os dois dados em figura\n",
        "fig = plt.figure()\n",
        "ax1 = fig.add_subplot(111)\n",
        "\n",
        "ax1.scatter(y_test.values,y_calc_test.values, s=10, c='b', marker=\"s\", label='teste')\n",
        "ax1.scatter(y_train.values,y_calc_train.values, s=10, c='r', marker=\"o\", label='treino')\n",
        "plt.legend(loc='upper left')\n",
        "plt.ylabel('ANN')\n",
        "plt.xlabel('Calc')\n",
        "plt.show()"
      ],
      "execution_count": 15,
      "outputs": [
        {
          "output_type": "display_data",
          "data": {
            "image/png": "[encoded data removed]",
            "text/plain": [
              "<matplotlib.figure.Figure at 0x7f661d6428d0>"
            ]
          },
          "metadata": {
            "tags": []
          }
        }
      ]
    }
  ]
}