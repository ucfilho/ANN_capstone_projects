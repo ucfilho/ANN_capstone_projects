{
  "nbformat": 4,
  "nbformat_minor": 0,
  "metadata": {
    "colab": {
      "name": "REDE EXTRACAO SKLearn.ipynb",
      "version": "0.3.2",
      "provenance": []
    },
    "kernelspec": {
      "name": "python3",
      "display_name": "Python 3"
    }
  },
  "cells": [
    {
      "metadata": {
        "id": "hpwj4mmb2I5-",
        "colab_type": "code",
        "colab": {}
      },
      "cell_type": "code",
      "source": [
        "#Importa bibliotecas\n",
        "import numpy as np\n",
        "import pandas as pd\n",
        "import matplotlib.pyplot as plt\n",
        "from sklearn.neural_network import MLPRegressor\n",
        "from sklearn.metrics import mean_squared_error\n",
        "from sklearn.metrics import r2_score \n",
        "from mpl_toolkits.mplot3d import Axes3D, axes3d\n",
        "from scipy import optimize"
      ],
      "execution_count": 0,
      "outputs": []
    },
    {
      "metadata": {
        "id": "Aukr7rjf2Obk",
        "colab_type": "code",
        "outputId": "66d59885-ad72-4ac4-efb1-fafc5d41c9d0",
        "colab": {
          "base_uri": "https://localhost:8080/",
          "height": 119
        }
      },
      "cell_type": "code",
      "source": [
        "#Clona a pasta do github\n",
        "!git clone https://github.com/AnaSoldan/ANN"
      ],
      "execution_count": 2,
      "outputs": [
        {
          "output_type": "stream",
          "text": [
            "Cloning into 'ANN'...\n",
            "remote: Enumerating objects: 27, done.\u001b[K\n",
            "remote: Counting objects: 100% (27/27), done.\u001b[K\n",
            "remote: Compressing objects: 100% (25/25), done.\u001b[K\n",
            "remote: Total 27 (delta 4), reused 3 (delta 0), pack-reused 0\u001b[K\n",
            "Unpacking objects: 100% (27/27), done.\n"
          ],
          "name": "stdout"
        }
      ]
    },
    {
      "metadata": {
        "id": "NhSL7yrk2VsL",
        "colab_type": "code",
        "outputId": "059be94d-f01f-4356-b315-790d7843e365",
        "colab": {
          "base_uri": "https://localhost:8080/",
          "height": 34
        }
      },
      "cell_type": "code",
      "source": [
        "#Direciona para a pasta ANN\n",
        "%cd ANN"
      ],
      "execution_count": 3,
      "outputs": [
        {
          "output_type": "stream",
          "text": [
            "/content/ANN\n"
          ],
          "name": "stdout"
        }
      ]
    },
    {
      "metadata": {
        "id": "2GPA_GEc2ZAm",
        "colab_type": "code",
        "outputId": "0430c37f-ae1a-4a15-9026-708efccefcb2",
        "colab": {
          "base_uri": "https://localhost:8080/",
          "height": 34
        }
      },
      "cell_type": "code",
      "source": [
        "#Exibe o conteudo da pasta\n",
        "!ls"
      ],
      "execution_count": 4,
      "outputs": [
        {
          "output_type": "stream",
          "text": [
            "Dados_extracao.csv  Extracao.csv  README.md\n"
          ],
          "name": "stdout"
        }
      ]
    },
    {
      "metadata": {
        "id": "ERakOfY43TXV",
        "colab_type": "code",
        "outputId": "2fd54a77-2e15-4fb4-8181-66610b0815cf",
        "colab": {
          "base_uri": "https://localhost:8080/",
          "height": 238
        }
      },
      "cell_type": "code",
      "source": [
        "#Salva os dados da planilha na variavel\n",
        "DADOS=pd.read_csv(\"Extracao.csv\")\n",
        "print(DADOS.head())"
      ],
      "execution_count": 5,
      "outputs": [
        {
          "output_type": "stream",
          "text": [
            "   Run  Temperature  Pressure  Particle_size  Flow_rate-CO2  Co-solvent  \\\n",
            "0    1           80       200           0.50             10           5   \n",
            "1    2           80       275           0.75             10           5   \n",
            "2    3           60       350           0.75             10           5   \n",
            "3    4           60       275           0.75             10           0   \n",
            "4    5           80       275           1.00              5           5   \n",
            "\n",
            "   Observed_yield  Predicted_yield  \n",
            "0          0.1289           0.1331  \n",
            "1          0.3470           0.3604  \n",
            "2          0.3430           0.3400  \n",
            "3          0.2500           0.2539  \n",
            "4          0.3000           0.2988  \n"
          ],
          "name": "stdout"
        }
      ]
    },
    {
      "metadata": {
        "id": "S0P1tIBXeJvD",
        "colab_type": "code",
        "colab": {}
      },
      "cell_type": "code",
      "source": [
        "#Codificacao dos dados\n",
        "def Codificacao(x):\n",
        "  strings=list(x)\n",
        "  for i in strings:\n",
        "    x_max=x[i].max()\n",
        "    x_min=x[i].min()\n",
        "    a=(x_max+x_min)/2\n",
        "    b=(x_max-x_min)/2\n",
        "    x[i]=(x[i]-a)/b\n",
        "  return x"
      ],
      "execution_count": 0,
      "outputs": []
    },
    {
      "metadata": {
        "id": "38UuTV6xftyb",
        "colab_type": "code",
        "outputId": "7b4112ef-4a9a-4474-d2b8-f5240b799c8f",
        "colab": {
          "base_uri": "https://localhost:8080/",
          "height": 238
        }
      },
      "cell_type": "code",
      "source": [
        "#Seleciona as colunas de interesse\n",
        "Colunas=[1,2,3,4,5,6]\n",
        "Sel_dados=[]\n",
        "Sel_dados=DADOS.iloc[:,Colunas].copy()\n",
        "print(Sel_dados.head())"
      ],
      "execution_count": 7,
      "outputs": [
        {
          "output_type": "stream",
          "text": [
            "   Temperature  Pressure  Particle_size  Flow_rate-CO2  Co-solvent  \\\n",
            "0           80       200           0.50             10           5   \n",
            "1           80       275           0.75             10           5   \n",
            "2           60       350           0.75             10           5   \n",
            "3           60       275           0.75             10           0   \n",
            "4           80       275           1.00              5           5   \n",
            "\n",
            "   Observed_yield  \n",
            "0          0.1289  \n",
            "1          0.3470  \n",
            "2          0.3430  \n",
            "3          0.2500  \n",
            "4          0.3000  \n"
          ],
          "name": "stdout"
        }
      ]
    },
    {
      "metadata": {
        "id": "9156sFS0gidn",
        "colab_type": "code",
        "outputId": "04d4e3fe-51e8-46f5-cedc-307c1c196865",
        "colab": {
          "base_uri": "https://localhost:8080/",
          "height": 238
        }
      },
      "cell_type": "code",
      "source": [
        "#Cria variavel de dados normatizados\n",
        "Nor_dados=[]\n",
        "Nor_dados=Codificacao(Sel_dados).copy()\n",
        "print(Nor_dados.head())"
      ],
      "execution_count": 8,
      "outputs": [
        {
          "output_type": "stream",
          "text": [
            "   Temperature  Pressure  Particle_size  Flow_rate-CO2  Co-solvent  \\\n",
            "0          0.0      -1.0           -1.0            0.0         0.0   \n",
            "1          0.0       0.0            0.0            0.0         0.0   \n",
            "2         -1.0       1.0            0.0            0.0         0.0   \n",
            "3         -1.0       0.0            0.0            0.0        -1.0   \n",
            "4          0.0       0.0            1.0           -1.0         0.0   \n",
            "\n",
            "   Observed_yield  \n",
            "0       -0.648603  \n",
            "1        0.569832  \n",
            "2        0.547486  \n",
            "3        0.027933  \n",
            "4        0.307263  \n"
          ],
          "name": "stdout"
        }
      ]
    },
    {
      "metadata": {
        "id": "cmusxQWzhy2d",
        "colab_type": "code",
        "outputId": "f27c64cd-0361-4ccd-cd6c-69bd80cde7a1",
        "colab": {
          "base_uri": "https://localhost:8080/",
          "height": 680
        }
      },
      "cell_type": "code",
      "source": [
        "#Seleciona os dados de treino e validação\n",
        "linhas_train=range(32)\n",
        "linhas_val=[33,34,35,36,37,38]\n",
        "linhas_test=[39,40,41,42,43,44,45]\n",
        "Train=Nor_dados.iloc[linhas_train, :].copy()\n",
        "Validation=Nor_dados.iloc[linhas_val,:].copy()\n",
        "Test=Nor_dados.iloc[linhas_test, :].copy()\n",
        "print(Train.head())\n",
        "print(Validation.head())\n",
        "print(Test.head())"
      ],
      "execution_count": 9,
      "outputs": [
        {
          "output_type": "stream",
          "text": [
            "   Temperature  Pressure  Particle_size  Flow_rate-CO2  Co-solvent  \\\n",
            "0          0.0      -1.0           -1.0            0.0         0.0   \n",
            "1          0.0       0.0            0.0            0.0         0.0   \n",
            "2         -1.0       1.0            0.0            0.0         0.0   \n",
            "3         -1.0       0.0            0.0            0.0        -1.0   \n",
            "4          0.0       0.0            1.0           -1.0         0.0   \n",
            "\n",
            "   Observed_yield  \n",
            "0       -0.648603  \n",
            "1        0.569832  \n",
            "2        0.547486  \n",
            "3        0.027933  \n",
            "4        0.307263  \n",
            "    Temperature  Pressure  Particle_size  Flow_rate-CO2  Co-solvent  \\\n",
            "33          0.0       1.0            0.0           -1.0         0.0   \n",
            "34          0.0       0.0            0.0           -1.0         1.0   \n",
            "35          0.0       0.0            0.0            0.0         0.0   \n",
            "36          0.0       1.0            1.0            0.0         0.0   \n",
            "37          0.0       1.0           -1.0            0.0         0.0   \n",
            "\n",
            "    Observed_yield  \n",
            "33        0.754190  \n",
            "34        0.883240  \n",
            "35        0.729609  \n",
            "36        0.893855  \n",
            "37       -0.111732  \n",
            "    Temperature  Pressure  Particle_size  Flow_rate-CO2  Co-solvent  \\\n",
            "39          0.0       0.0            0.0            1.0        -1.0   \n",
            "40         -1.0       0.0            1.0            0.0         0.0   \n",
            "41          0.0       0.0            0.0           -1.0        -1.0   \n",
            "42          0.0       0.0            1.0            0.0         1.0   \n",
            "43          0.0       0.0           -1.0            1.0         0.0   \n",
            "\n",
            "    Observed_yield  \n",
            "39        0.000000  \n",
            "40        0.544693  \n",
            "41       -0.477654  \n",
            "42        0.754190  \n",
            "43       -0.237430  \n"
          ],
          "name": "stdout"
        }
      ]
    },
    {
      "metadata": {
        "id": "bgCWiKcCjsQ8",
        "colab_type": "code",
        "outputId": "2f81fa87-9cd3-483f-bc7f-da27ae5b4662",
        "colab": {
          "base_uri": "https://localhost:8080/",
          "height": 425
        }
      },
      "cell_type": "code",
      "source": [
        "#Seleciona as variáveis independentes\n",
        "x_train=Train.iloc[:,[0,1,2,3,4]].copy()\n",
        "x_val=Validation.iloc[:,[0,1,2,3,4]].copy()\n",
        "x_test=Test.iloc[:,[0,1,2,3,4]].copy()\n",
        "x_orig=DADOS.iloc[:,[1,2,3,4,5]].copy()\n",
        "print(x_train.head())\n",
        "print(x_val.head())\n",
        "print(x_test.head())\n",
        "print(x_orig.head())"
      ],
      "execution_count": 10,
      "outputs": [
        {
          "output_type": "stream",
          "text": [
            "   Temperature  Pressure  Particle_size  Flow_rate-CO2  Co-solvent\n",
            "0          0.0      -1.0           -1.0            0.0         0.0\n",
            "1          0.0       0.0            0.0            0.0         0.0\n",
            "2         -1.0       1.0            0.0            0.0         0.0\n",
            "3         -1.0       0.0            0.0            0.0        -1.0\n",
            "4          0.0       0.0            1.0           -1.0         0.0\n",
            "    Temperature  Pressure  Particle_size  Flow_rate-CO2  Co-solvent\n",
            "33          0.0       1.0            0.0           -1.0         0.0\n",
            "34          0.0       0.0            0.0           -1.0         1.0\n",
            "35          0.0       0.0            0.0            0.0         0.0\n",
            "36          0.0       1.0            1.0            0.0         0.0\n",
            "37          0.0       1.0           -1.0            0.0         0.0\n",
            "    Temperature  Pressure  Particle_size  Flow_rate-CO2  Co-solvent\n",
            "39          0.0       0.0            0.0            1.0        -1.0\n",
            "40         -1.0       0.0            1.0            0.0         0.0\n",
            "41          0.0       0.0            0.0           -1.0        -1.0\n",
            "42          0.0       0.0            1.0            0.0         1.0\n",
            "43          0.0       0.0           -1.0            1.0         0.0\n",
            "   Temperature  Pressure  Particle_size  Flow_rate-CO2  Co-solvent\n",
            "0           80       200           0.50             10           5\n",
            "1           80       275           0.75             10           5\n",
            "2           60       350           0.75             10           5\n",
            "3           60       275           0.75             10           0\n",
            "4           80       275           1.00              5           5\n"
          ],
          "name": "stdout"
        }
      ]
    },
    {
      "metadata": {
        "id": "G8EoMo7ApJ4M",
        "colab_type": "code",
        "outputId": "e5d9c596-f2ee-4500-c625-394c7bb4f259",
        "colab": {
          "base_uri": "https://localhost:8080/",
          "height": 459
        }
      },
      "cell_type": "code",
      "source": [
        "#Seleciona a variavel dependente\n",
        "y_train=Train.iloc[:,[5]].copy()\n",
        "y_val=Validation.iloc[:,[5]].copy()\n",
        "y_test=Test.iloc[:,[5]].copy()\n",
        "y_orig=DADOS.iloc[:,[6]].copy()\n",
        "print(y_train.head())\n",
        "print(y_val.head())\n",
        "print(y_test)\n",
        "print(y_orig.head())"
      ],
      "execution_count": 11,
      "outputs": [
        {
          "output_type": "stream",
          "text": [
            "   Observed_yield\n",
            "0       -0.648603\n",
            "1        0.569832\n",
            "2        0.547486\n",
            "3        0.027933\n",
            "4        0.307263\n",
            "    Observed_yield\n",
            "33        0.754190\n",
            "34        0.883240\n",
            "35        0.729609\n",
            "36        0.893855\n",
            "37       -0.111732\n",
            "    Observed_yield\n",
            "39        0.000000\n",
            "40        0.544693\n",
            "41       -0.477654\n",
            "42        0.754190\n",
            "43       -0.237430\n",
            "44        0.251397\n",
            "45       -0.040782\n",
            "   Observed_yield\n",
            "0          0.1289\n",
            "1          0.3470\n",
            "2          0.3430\n",
            "3          0.2500\n",
            "4          0.3000\n"
          ],
          "name": "stdout"
        }
      ]
    },
    {
      "metadata": {
        "id": "HFQINDqn7xj2",
        "colab_type": "code",
        "colab": {}
      },
      "cell_type": "code",
      "source": [
        "#Funcao que descodifica os dados\n",
        "def Descodifica(x,x_old):\n",
        "  strings=list(x)\n",
        "  for i in strings:\n",
        "    x_max=x_old[i].max()\n",
        "    x_min=x_old[i].min()\n",
        "    a=(x_max+x_min)/2\n",
        "    b=(x_max-x_min)/2\n",
        "    x[i]=x[i]*b+a\n",
        "  return x"
      ],
      "execution_count": 0,
      "outputs": []
    },
    {
      "metadata": {
        "id": "_9vEV_jPqZlF",
        "colab_type": "code",
        "colab": {}
      },
      "cell_type": "code",
      "source": [
        "#Define a função Rede Neural que será testada em busca do melhor número de neuronios na camada oculta\n",
        "def rede(i):\n",
        "    clf = MLPRegressor(solver='lbfgs',activation='tanh',alpha=1e-5,\n",
        "                       hidden_layer_sizes=(i),random_state=1)\n",
        "    return clf"
      ],
      "execution_count": 0,
      "outputs": []
    },
    {
      "metadata": {
        "id": "0mUaZXP3c9eA",
        "colab_type": "code",
        "outputId": "404edeb7-3d90-45b9-c077-eaec8fea9517",
        "colab": {
          "base_uri": "https://localhost:8080/",
          "height": 374
        }
      },
      "cell_type": "code",
      "source": [
        "#Seleciona os dados observados\n",
        "y_obs_train=Descodifica(y_train,y_orig).copy()\n",
        "y_obs_val=Descodifica(y_val,y_orig).copy()\n",
        "y_obs_test=Descodifica(y_test,y_orig).copy()\n",
        "print(y_obs_train.head())\n",
        "print(y_obs_val)\n",
        "print(y_obs_test)"
      ],
      "execution_count": 14,
      "outputs": [
        {
          "output_type": "stream",
          "text": [
            "   Observed_yield\n",
            "0          0.1289\n",
            "1          0.3470\n",
            "2          0.3430\n",
            "3          0.2500\n",
            "4          0.3000\n",
            "    Observed_yield\n",
            "33          0.3800\n",
            "34          0.4031\n",
            "35          0.3756\n",
            "36          0.4050\n",
            "37          0.2250\n",
            "38          0.2626\n",
            "    Observed_yield\n",
            "39          0.2450\n",
            "40          0.3425\n",
            "41          0.1595\n",
            "42          0.3800\n",
            "43          0.2025\n",
            "44          0.2900\n",
            "45          0.2377\n"
          ],
          "name": "stdout"
        }
      ]
    },
    {
      "metadata": {
        "id": "DtMf1BKf6_7U",
        "colab_type": "code",
        "outputId": "708875a6-ce3e-4982-950a-8c0eab1deedb",
        "colab": {
          "base_uri": "https://localhost:8080/",
          "height": 629
        }
      },
      "cell_type": "code",
      "source": [
        "#Codifica os y de treino e teste\n",
        "y_train=Codificacao(y_train)\n",
        "y_val=Codificacao(y_val)\n",
        "y_test=Codificacao(y_test)\n",
        "print(y_train.head())\n",
        "print(x_train.head())\n",
        "print(y_obs_train.head())\n",
        "print(y_test.head())\n",
        "print(x_test.head())\n",
        "print(y_obs_test.head())"
      ],
      "execution_count": 15,
      "outputs": [
        {
          "output_type": "stream",
          "text": [
            "   Observed_yield\n",
            "0       -0.648603\n",
            "1        0.569832\n",
            "2        0.547486\n",
            "3        0.027933\n",
            "4        0.307263\n",
            "   Temperature  Pressure  Particle_size  Flow_rate-CO2  Co-solvent\n",
            "0          0.0      -1.0           -1.0            0.0         0.0\n",
            "1          0.0       0.0            0.0            0.0         0.0\n",
            "2         -1.0       1.0            0.0            0.0         0.0\n",
            "3         -1.0       0.0            0.0            0.0        -1.0\n",
            "4          0.0       0.0            1.0           -1.0         0.0\n",
            "   Observed_yield\n",
            "0          0.1289\n",
            "1          0.3470\n",
            "2          0.3430\n",
            "3          0.2500\n",
            "4          0.3000\n",
            "    Observed_yield\n",
            "39       -0.224490\n",
            "40        0.659864\n",
            "41       -1.000000\n",
            "42        1.000000\n",
            "43       -0.609977\n",
            "    Temperature  Pressure  Particle_size  Flow_rate-CO2  Co-solvent\n",
            "39          0.0       0.0            0.0            1.0        -1.0\n",
            "40         -1.0       0.0            1.0            0.0         0.0\n",
            "41          0.0       0.0            0.0           -1.0        -1.0\n",
            "42          0.0       0.0            1.0            0.0         1.0\n",
            "43          0.0       0.0           -1.0            1.0         0.0\n",
            "    Observed_yield\n",
            "39          0.2450\n",
            "40          0.3425\n",
            "41          0.1595\n",
            "42          0.3800\n",
            "43          0.2025\n"
          ],
          "name": "stdout"
        }
      ]
    },
    {
      "metadata": {
        "id": "KnbtjGzgwdRq",
        "colab_type": "code",
        "outputId": "f5237549-a372-4435-fe6d-c306f8bfcc64",
        "colab": {
          "base_uri": "https://localhost:8080/",
          "height": 275
        }
      },
      "cell_type": "code",
      "source": [
        "M=10\n",
        "Melhor=1e99\n",
        "ir=0\n",
        "for i in range(1,M):\n",
        "  col_names=list(y_train)\n",
        "  clf=rede(i)\n",
        "  clf.fit(x_train, y_train)\n",
        "  y_calc_train=[]\n",
        "  y_calc_test=[]\n",
        "  y_calc_train=clf.predict(x_train)\n",
        "  y_calc_test=clf.predict(x_test)\n",
        "  y_calc_train=pd.DataFrame(y_calc_train)\n",
        "  y_calc_test=pd.DataFrame(y_calc_test)\n",
        "  y_calc_train.columns = col_names\n",
        "  y_calc_test.columns = col_names\n",
        "  y_calc_train=Descodifica(y_calc_train,y_orig)\n",
        "  y_calc_test=Descodifica(y_calc_test,y_orig)\n",
        "  mse=mean_squared_error(y_obs_test,y_calc_test)\n",
        "  R2=r2_score(y_obs_test,y_calc_test)\n",
        "  print(\"Neuronios=\",i,\"MSE teste=\",mse,\"R^2 teste=\",R2)\n",
        "  if(mse<Melhor):\n",
        "    Melhor=mse.copy()\n",
        "    ix=i\n",
        "    R2r=R2\n",
        "    redem=clf\n",
        "print(\"\\n Melhor resposta:\")\n",
        "print(\"Neuronios=\",ix,\"MSE teste=\",Melhor,\"R^2 teste=\",R2r)"
      ],
      "execution_count": 16,
      "outputs": [
        {
          "output_type": "stream",
          "text": [
            "Neuronios= 1 MSE teste= 0.0033485939628580858 R^2 teste= 0.34955931362301673\n",
            "Neuronios= 2 MSE teste= 0.0009533922513454624 R^2 teste= 0.8148103003141199\n",
            "Neuronios= 3 MSE teste= 0.004608858514471828 R^2 teste= 0.1047618406954326\n",
            "Neuronios= 4 MSE teste= 0.0031072789433934755 R^2 teste= 0.39643304887865427\n"
          ],
          "name": "stdout"
        },
        {
          "output_type": "stream",
          "text": [
            "/usr/local/lib/python3.6/dist-packages/sklearn/neural_network/multilayer_perceptron.py:1306: DataConversionWarning: A column-vector y was passed when a 1d array was expected. Please change the shape of y to (n_samples, ), for example using ravel().\n",
            "  y = column_or_1d(y, warn=True)\n"
          ],
          "name": "stderr"
        },
        {
          "output_type": "stream",
          "text": [
            "Neuronios= 5 MSE teste= 0.007525735714356281 R^2 teste= -0.46182091881921283\n",
            "Neuronios= 6 MSE teste= 0.002013544036795823 R^2 teste= 0.6088833164395029\n",
            "Neuronios= 7 MSE teste= 0.0008183914277267169 R^2 teste= 0.841033255187122\n",
            "Neuronios= 8 MSE teste= 0.0005469637691353555 R^2 teste= 0.8937561575497531\n",
            "Neuronios= 9 MSE teste= 0.0027102302652727748 R^2 teste= 0.4735569455309303\n",
            "\n",
            " Melhor resposta:\n",
            "Neuronios= 8 MSE teste= 0.0005469637691353555 R^2 teste= 0.8937561575497531\n"
          ],
          "name": "stdout"
        }
      ]
    },
    {
      "metadata": {
        "id": "UHRhDCHB6xkM",
        "colab_type": "code",
        "outputId": "31b69754-f928-485d-cbcb-db5a9c40e025",
        "colab": {
          "base_uri": "https://localhost:8080/",
          "height": 374
        }
      },
      "cell_type": "code",
      "source": [
        "# Calcula o y predito usando a rede neural\n",
        "y_calc_train=redem.predict(x_train)\n",
        "y_calc_val=redem.predict(x_val)\n",
        "y_calc_test=redem.predict(x_test)\n",
        "#Transforma os dados de volta para dataframe\n",
        "y_calc_train=pd.DataFrame(y_calc_train)\n",
        "y_calc_val=pd.DataFrame(y_calc_val)\n",
        "y_calc_test=pd.DataFrame(y_calc_test)\n",
        "col_names=list(y_train)\n",
        "y_calc_train.columns = col_names\n",
        "y_calc_val.columns = col_names\n",
        "y_calc_test.columns = col_names\n",
        "print(y_calc_train.head())\n",
        "print(y_calc_val)\n",
        "print(y_calc_test)"
      ],
      "execution_count": 17,
      "outputs": [
        {
          "output_type": "stream",
          "text": [
            "   Observed_yield\n",
            "0       -0.648830\n",
            "1        0.653146\n",
            "2        0.548794\n",
            "3        0.028142\n",
            "4        0.312910\n",
            "   Observed_yield\n",
            "0        0.735578\n",
            "1        0.733545\n",
            "2        0.653146\n",
            "3        0.829951\n",
            "4        0.298586\n",
            "5        0.139156\n",
            "   Observed_yield\n",
            "0        0.273103\n",
            "1        0.586303\n",
            "2       -0.382043\n",
            "3        0.879019\n",
            "4       -0.339257\n",
            "5        0.181254\n",
            "6       -0.097051\n"
          ],
          "name": "stdout"
        }
      ]
    },
    {
      "metadata": {
        "id": "QM10DdO88aBm",
        "colab_type": "code",
        "outputId": "86c190e1-5b6d-408b-b53b-7c8744a5ff93",
        "colab": {
          "base_uri": "https://localhost:8080/",
          "height": 323
        }
      },
      "cell_type": "code",
      "source": [
        "#Descodificacao dos dados calculados\n",
        "y_calc_train_orig=Descodifica(y_calc_train,y_orig)\n",
        "y_calc_val_orig=Descodifica(y_calc_val,y_orig)\n",
        "y_calc_test_orig=Descodifica(y_calc_test, y_orig)\n",
        "print(y_calc_train_orig.head())\n",
        "print(y_calc_val_orig.head())\n",
        "print(y_calc_test_orig.head())"
      ],
      "execution_count": 18,
      "outputs": [
        {
          "output_type": "stream",
          "text": [
            "   Observed_yield\n",
            "0        0.128859\n",
            "1        0.361913\n",
            "2        0.343234\n",
            "3        0.250037\n",
            "4        0.301011\n",
            "   Observed_yield\n",
            "0        0.376668\n",
            "1        0.376305\n",
            "2        0.361913\n",
            "3        0.393561\n",
            "4        0.298447\n",
            "   Observed_yield\n",
            "0        0.293885\n",
            "1        0.349948\n",
            "2        0.176614\n",
            "3        0.402344\n",
            "4        0.184273\n"
          ],
          "name": "stdout"
        }
      ]
    },
    {
      "metadata": {
        "id": "3y7Yn98aX7j-",
        "colab_type": "code",
        "outputId": "29e7338e-b83b-4252-8312-a8d31288986d",
        "colab": {
          "base_uri": "https://localhost:8080/",
          "height": 51
        }
      },
      "cell_type": "code",
      "source": [
        "mse=mean_squared_error(y_obs_train,y_calc_train)\n",
        "print(\"MSE treino=\",mse)\n",
        "R2=r2_score(y_obs_train,y_calc_train)\n",
        "print(\"R^2 treino=\",R2)"
      ],
      "execution_count": 19,
      "outputs": [
        {
          "output_type": "stream",
          "text": [
            "MSE treino= 1.2670223084629656e-05\n",
            "R^2 treino= 0.9984303718219377\n"
          ],
          "name": "stdout"
        }
      ]
    },
    {
      "metadata": {
        "id": "3xTmSHwo8vR-",
        "colab_type": "code",
        "outputId": "b5e30343-efe3-4e0f-cb34-eab9d1b8cebd",
        "colab": {
          "base_uri": "https://localhost:8080/",
          "height": 51
        }
      },
      "cell_type": "code",
      "source": [
        "mse=mean_squared_error(y_obs_val,y_calc_val)\n",
        "print(\"MSE Validation=\",mse)\n",
        "R2=r2_score(y_obs_val,y_calc_val)\n",
        "print(\"R^2 Validation=\",R2)"
      ],
      "execution_count": 20,
      "outputs": [
        {
          "output_type": "stream",
          "text": [
            "MSE Validation= 0.001082523242958008\n",
            "R^2 Validation= 0.7854155130048331\n"
          ],
          "name": "stdout"
        }
      ]
    },
    {
      "metadata": {
        "id": "3Q1KQH36E7xd",
        "colab_type": "code",
        "outputId": "6b5a33a4-973b-4ac2-a72b-883107dd31b3",
        "colab": {
          "base_uri": "https://localhost:8080/",
          "height": 51
        }
      },
      "cell_type": "code",
      "source": [
        "mse=mean_squared_error(y_obs_test,y_calc_test)\n",
        "print(\"MSE teste=\",mse)\n",
        "R2=r2_score(y_obs_test,y_calc_test)\n",
        "print(\"R^2 teste=\",R2)"
      ],
      "execution_count": 21,
      "outputs": [
        {
          "output_type": "stream",
          "text": [
            "MSE teste= 0.0005469637691353555\n",
            "R^2 teste= 0.8937561575497531\n"
          ],
          "name": "stdout"
        }
      ]
    },
    {
      "metadata": {
        "id": "sJYEhHc_Pj2T",
        "colab_type": "code",
        "outputId": "ba58212e-998a-477f-b466-9e1a4202d9ec",
        "colab": {
          "base_uri": "https://localhost:8080/",
          "height": 361
        }
      },
      "cell_type": "code",
      "source": [
        "#Plota o gráfico\n",
        "fig = plt.figure()\n",
        "ax1 = fig.add_subplot(1,1,1)\n",
        "\n",
        "\n",
        "plt.plot(y_obs_test,y_calc_test_orig, marker=\"s\",linestyle = 'None', c='b', label='teste') #c=cor marker=tipo do marcador(aqui s significa square)\n",
        "plt.plot(y_obs_train,y_calc_train_orig, marker=\"o\",linestyle = 'None', c='r', label='treino')\n",
        "plt.plot(y_obs_val,y_calc_val_orig, marker=\"D\",linestyle = 'None', c='g', label='validação')\n",
        "\n",
        "\n",
        "plt.legend(loc='upper left')\n",
        "plt.ylabel('Y calc')\n",
        "plt.xlabel('Y Obs')\n",
        "plt.show()"
      ],
      "execution_count": 22,
      "outputs": [
        {
          "output_type": "display_data",
          "data": {
            "image/png": "[encoded data removed]",
            "text/plain": [
              "<matplotlib.figure.Figure at 0x7fd981396be0>"
            ]
          },
          "metadata": {
            "tags": []
          }
        }
      ]
    },
    {
      "metadata": {
        "id": "s-Ot6vYg4rpq",
        "colab_type": "code",
        "colab": {}
      },
      "cell_type": "code",
      "source": [
        "def function(x):\n",
        "  global clf\n",
        "  x=x.reshape((1, 5))\n",
        "  df = pd.DataFrame(x)\n",
        "  Y=redem.predict(df)\n",
        "  fun=Y*(-1)\n",
        "  return fun"
      ],
      "execution_count": 0,
      "outputs": []
    },
    {
      "metadata": {
        "id": "E3JgGvCe46KL",
        "colab_type": "code",
        "outputId": "4c64a56c-8059-446f-cf02-ca87f04a887c",
        "colab": {
          "base_uri": "https://localhost:8080/",
          "height": 85
        }
      },
      "cell_type": "code",
      "source": [
        "bounds = [(-2, 2),(-2, 2),(-2, 2),(-2, 2),(-2, 2)]\n",
        "\n",
        "Condicoes = optimize.differential_evolution(function,bounds,\n",
        "                                      init=\"latinhypercube\", # obs: init=\"random\"\n",
        "                                      maxiter=100, popsize=50,recombination=0.5)\n",
        "Condicoes=pd.DataFrame(Condicoes.x.reshape(1, 5))\n",
        "Condicoes.columns=['Temperature', 'Pressure','Particle_size','Flow_rate-CO2','Co-solvent']\n",
        "print(Condicoes)\n",
        "Cond=Descodifica(Condicoes, x_orig)\n",
        "print(Cond)"
      ],
      "execution_count": 24,
      "outputs": [
        {
          "output_type": "stream",
          "text": [
            "   Temperature  Pressure  Particle_size  Flow_rate-CO2  Co-solvent\n",
            "0     0.881244       2.0            2.0       -1.14407         2.0\n",
            "   Temperature  Pressure  Particle_size  Flow_rate-CO2  Co-solvent\n",
            "0    97.624888     425.0           1.25        4.27965        15.0\n"
          ],
          "name": "stdout"
        }
      ]
    }
  ]
}