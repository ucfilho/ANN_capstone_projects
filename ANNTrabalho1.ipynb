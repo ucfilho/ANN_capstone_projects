{
  "nbformat": 4,
  "nbformat_minor": 0,
  "metadata": {
    "colab": {
      "name": "29-11ANNTrabalho1.ipynb",
      "version": "0.3.2",
      "provenance": [],
      "collapsed_sections": [],
      "include_colab_link": true
    },
    "kernelspec": {
      "display_name": "Python 3",
      "language": "python",
      "name": "python3"
    }
  },
  "cells": [
    {
      "cell_type": "markdown",
      "metadata": {
        "id": "view-in-github",
        "colab_type": "text"
      },
      "source": [
        "<a href=\"https://colab.research.google.com/github/marquesgabi/Trabalho1/blob/master/ANNTrabalho1.ipynb\" target=\"_parent\"><img src=\"https://colab.research.google.com/assets/colab-badge.svg\" alt=\"Open In Colab\"/></a>"
      ]
    },
    {
      "metadata": {
        "id": "b4yMWaR_4K83",
        "colab_type": "code",
        "colab": {}
      },
      "cell_type": "code",
      "source": [
        "# https://github.com/marquesgabi/Trabalho1\n",
        "\n",
        "#bibliotecas usadas\n",
        "import os\n",
        "import numpy as np\n",
        "import pandas as pd\n",
        "import matplotlib.pyplot as plt\n",
        "from scipy import optimize\n",
        "from sklearn.neural_network import MLPRegressor\n",
        "from sklearn.metrics import mean_squared_error\n",
        "from sklearn.metrics import r2_score \n",
        "from mpl_toolkits.mplot3d import Axes3D, axes3d"
      ],
      "execution_count": 0,
      "outputs": []
    },
    {
      "metadata": {
        "id": "U5eQ-dhY4K9L",
        "colab_type": "code",
        "outputId": "1dabeabd-ad47-4eac-d49f-f322315bca8d",
        "colab": {
          "base_uri": "https://localhost:8080/",
          "height": 170
        }
      },
      "cell_type": "code",
      "source": [
        "# local dos dados\n",
        "!git clone https://github.com/marquesgabi/Trabalho1/\n",
        "%cd Trabalho1\n",
        "!ls"
      ],
      "execution_count": 0,
      "outputs": [
        {
          "output_type": "stream",
          "text": [
            "Cloning into 'Trabalho1'...\n",
            "remote: Enumerating objects: 29, done.\u001b[K\n",
            "remote: Counting objects:   3% (1/29)   \u001b[K\rremote: Counting objects:   6% (2/29)   \u001b[K\rremote: Counting objects:  10% (3/29)   \u001b[K\rremote: Counting objects:  13% (4/29)   \u001b[K\rremote: Counting objects:  17% (5/29)   \u001b[K\rremote: Counting objects:  20% (6/29)   \u001b[K\rremote: Counting objects:  24% (7/29)   \u001b[K\rremote: Counting objects:  27% (8/29)   \u001b[K\rremote: Counting objects:  31% (9/29)   \u001b[K\rremote: Counting objects:  34% (10/29)   \u001b[K\rremote: Counting objects:  37% (11/29)   \u001b[K\rremote: Counting objects:  41% (12/29)   \u001b[K\rremote: Counting objects:  44% (13/29)   \u001b[K\rremote: Counting objects:  48% (14/29)   \u001b[K\rremote: Counting objects:  51% (15/29)   \u001b[K\rremote: Counting objects:  55% (16/29)   \u001b[K\rremote: Counting objects:  58% (17/29)   \u001b[K\rremote: Counting objects:  62% (18/29)   \u001b[K\rremote: Counting objects:  65% (19/29)   \u001b[K\rremote: Counting objects:  68% (20/29)   \u001b[K\rremote: Counting objects:  72% (21/29)   \u001b[K\rremote: Counting objects:  75% (22/29)   \u001b[K\rremote: Counting objects:  79% (23/29)   \u001b[K\rremote: Counting objects:  82% (24/29)   \u001b[K\rremote: Counting objects:  86% (25/29)   \u001b[K\rremote: Counting objects:  89% (26/29)   \u001b[K\rremote: Counting objects:  93% (27/29)   \u001b[K\rremote: Counting objects:  96% (28/29)   \u001b[K\rremote: Counting objects: 100% (29/29)   \u001b[K\rremote: Counting objects: 100% (29/29), done.\u001b[K\n",
            "remote: Compressing objects:   3% (1/29)   \u001b[K\rremote: Compressing objects:   6% (2/29)   \u001b[K\rremote: Compressing objects:  10% (3/29)   \u001b[K\rremote: Compressing objects:  13% (4/29)   \u001b[K\rremote: Compressing objects:  17% (5/29)   \u001b[K\rremote: Compressing objects:  20% (6/29)   \u001b[K\rremote: Compressing objects:  24% (7/29)   \u001b[K\rremote: Compressing objects:  27% (8/29)   \u001b[K\rremote: Compressing objects:  31% (9/29)   \u001b[K\rremote: Compressing objects:  34% (10/29)   \u001b[K\rremote: Compressing objects:  37% (11/29)   \u001b[K\rremote: Compressing objects:  41% (12/29)   \u001b[K\rremote: Compressing objects:  44% (13/29)   \u001b[K\rremote: Compressing objects:  48% (14/29)   \u001b[K\rremote: Compressing objects:  51% (15/29)   \u001b[K\rremote: Compressing objects:  55% (16/29)   \u001b[K\rremote: Compressing objects:  58% (17/29)   \u001b[K\rremote: Compressing objects:  62% (18/29)   \u001b[K\rremote: Compressing objects:  65% (19/29)   \u001b[K\rremote: Compressing objects:  68% (20/29)   \u001b[K\rremote: Compressing objects:  72% (21/29)   \u001b[K\rremote: Compressing objects:  75% (22/29)   \u001b[K\rremote: Compressing objects:  79% (23/29)   \u001b[K\rremote: Compressing objects:  82% (24/29)   \u001b[K\rremote: Compressing objects:  86% (25/29)   \u001b[K\rremote: Compressing objects:  89% (26/29)   \u001b[K\rremote: Compressing objects:  93% (27/29)   \u001b[K\rremote: Compressing objects:  96% (28/29)   \u001b[K\rremote: Compressing objects: 100% (29/29)   \u001b[K\rremote: Compressing objects: 100% (29/29), done.\u001b[K\n",
            "Unpacking objects:   3% (1/29)   \rUnpacking objects:   6% (2/29)   \rUnpacking objects:  10% (3/29)   \rUnpacking objects:  13% (4/29)   \rUnpacking objects:  17% (5/29)   \rUnpacking objects:  20% (6/29)   \rUnpacking objects:  24% (7/29)   \rUnpacking objects:  27% (8/29)   \rUnpacking objects:  31% (9/29)   \rUnpacking objects:  34% (10/29)   \rUnpacking objects:  37% (11/29)   \rUnpacking objects:  41% (12/29)   \rUnpacking objects:  44% (13/29)   \rUnpacking objects:  48% (14/29)   \rUnpacking objects:  51% (15/29)   \rUnpacking objects:  55% (16/29)   \rremote: Total 29 (delta 7), reused 0 (delta 0), pack-reused 0\u001b[K\n",
            "Unpacking objects:  58% (17/29)   \rUnpacking objects:  62% (18/29)   \rUnpacking objects:  65% (19/29)   \rUnpacking objects:  68% (20/29)   \rUnpacking objects:  72% (21/29)   \rUnpacking objects:  75% (22/29)   \rUnpacking objects:  79% (23/29)   \rUnpacking objects:  82% (24/29)   \rUnpacking objects:  86% (25/29)   \rUnpacking objects:  89% (26/29)   \rUnpacking objects:  93% (27/29)   \rUnpacking objects:  96% (28/29)   \rUnpacking objects: 100% (29/29)   \rUnpacking objects: 100% (29/29), done.\n",
            "/content/Trabalho1/Trabalho1/Trabalho1/Trabalho1/Trabalho1\n",
            " ANNTrabalho1.ipynb\t\t      Dados_Experimentais_4.csv\n",
            "'Dados_Experimentais_2 - Cópia.csv'  'Matéria ANN Trabalho 1.pdf'\n"
          ],
          "name": "stdout"
        }
      ]
    },
    {
      "metadata": {
        "id": "7VOacAEX4K9P",
        "colab_type": "code",
        "colab": {}
      },
      "cell_type": "code",
      "source": [
        "# sigmoid function                                           # usa a sigmoide no neuronio oculto\n",
        "def sigmoid(x,deriv=False):\n",
        "    if(deriv==True):\n",
        "        return x*(1-x)\n",
        "    return 1/(1+np.exp(-x))\n",
        "\n",
        "# purelin function                                           #a gaussiana é muito utilizada para classificação. aplica a purelin na saida\n",
        "def purelin(x,deriv=False):\n",
        "    if(deriv==True):\n",
        "        return 1\n",
        "    return x\n",
        "\n",
        "# funcao normatiza dados\n",
        "def Normatiza(x):\n",
        "    strings=list(x)\n",
        "    for i in strings:\n",
        "        max_x=x[i].max()\n",
        "        min_x=x[i].min()\n",
        "        a=(max_x+min_x)/2\n",
        "        b=(max_x-min_x)/2\n",
        "        x[i]=(x[i]-a)/b\n",
        "    return x\n",
        "\n",
        "# funcao retorna os dados a forma original\n",
        "def Original(x,x_old):\n",
        "    strings=list(x)\n",
        "    for i in strings:\n",
        "        max_x=x_old[i].max()\n",
        "        min_x=x_old[i].min()\n",
        "        a=(max_x+min_x)/2\n",
        "        b=(max_x-min_x)/2\n",
        "        x[i]=x[i]*b+a\n",
        "    return x"
      ],
      "execution_count": 0,
      "outputs": []
    },
    {
      "metadata": {
        "id": "NIIANJnmaVcy",
        "colab_type": "code",
        "outputId": "acb42a49-aee0-44a9-a5ce-7a821b6e6a85",
        "colab": {
          "base_uri": "https://localhost:8080/",
          "height": 119
        }
      },
      "cell_type": "code",
      "source": [
        "# leitura dos dados                                               \n",
        "DAT=pd.read_csv(\"Dados_Experimentais_2 - Cópia.csv\")\n",
        "print(DAT.head())"
      ],
      "execution_count": 0,
      "outputs": [
        {
          "output_type": "stream",
          "text": [
            "   Temperature   Rela_Viscosity  FracaoV\n",
            "0     24.946458        1.077714     0.05\n",
            "1     34.969159        1.060571     0.05\n",
            "2     44.991859        1.043429     0.05\n",
            "3     55.016438        1.033143     0.05\n",
            "4     64.960235        1.028000     0.05\n"
          ],
          "name": "stdout"
        }
      ]
    },
    {
      "metadata": {
        "id": "bOpY4Hqt4K9S",
        "colab_type": "code",
        "outputId": "55101c28-58f8-45a2-aadd-f73753e56b7a",
        "colab": {
          "base_uri": "https://localhost:8080/",
          "height": 119
        }
      },
      "cell_type": "code",
      "source": [
        "# separa as colunas de interesse\n",
        "Index=[0,1,2]\n",
        "Dat_Select=[]\n",
        "Dat_Select=DAT.iloc[:,Index].copy()\n",
        "print(Dat_Select.head())"
      ],
      "execution_count": 0,
      "outputs": [
        {
          "output_type": "stream",
          "text": [
            "   Temperature   Rela_Viscosity  FracaoV\n",
            "0     24.946458        1.077714     0.05\n",
            "1     34.969159        1.060571     0.05\n",
            "2     44.991859        1.043429     0.05\n",
            "3     55.016438        1.033143     0.05\n",
            "4     64.960235        1.028000     0.05\n"
          ],
          "name": "stdout"
        }
      ]
    },
    {
      "metadata": {
        "id": "nYEo52b2pOUP",
        "colab_type": "code",
        "outputId": "fdac2a66-64b0-4cec-8841-c48b6aeef9b0",
        "colab": {
          "base_uri": "https://localhost:8080/",
          "height": 119
        }
      },
      "cell_type": "code",
      "source": [
        "# separa os dados em normatizados e originais\n",
        "DAT_OLD=[]\n",
        "DAT_OLD=Dat_Select.copy()\n",
        "DAT=Normatiza(Dat_Select)\n",
        "print(Dat_Select.head())"
      ],
      "execution_count": 0,
      "outputs": [
        {
          "output_type": "stream",
          "text": [
            "   Temperature   Rela_Viscosity  FracaoV\n",
            "0     -1.000000       -0.777778     -1.0\n",
            "1     -0.501297       -0.854406     -1.0\n",
            "2     -0.002594       -0.931034     -1.0\n",
            "3      0.496202       -0.977011     -1.0\n",
            "4      0.990979       -1.000000     -1.0\n"
          ],
          "name": "stdout"
        }
      ]
    },
    {
      "metadata": {
        "id": "aBqZBqnBpTHu",
        "colab_type": "code",
        "outputId": "5dbe4bbc-ca25-40cf-8180-136fbbd91f60",
        "colab": {
          "base_uri": "https://localhost:8080/",
          "height": 323
        }
      },
      "cell_type": "code",
      "source": [
        "# separa os dados em treino e teste\n",
        "train=DAT.sample(frac=0.8,random_state=None)\n",
        "test=DAT.drop(train.index)\n",
        "print(train.head())\n",
        "Col_Indep=['Temperature ', 'Rela_Viscosity',  'FracaoV']\n",
        "print(test.head())\n",
        "print(\"=======================\")\n",
        "print(test.shape[0])\n",
        "print(test.shape[1])\n",
        "print(train.shape[0])\n",
        "print(train.shape[1])\n",
        "print(\"=======================\")"
      ],
      "execution_count": 0,
      "outputs": [
        {
          "output_type": "stream",
          "text": [
            "    Temperature   Rela_Viscosity   FracaoV\n",
            "10     -0.994625       -0.356322 -0.684211\n",
            "1      -0.501297       -0.854406 -1.000000\n",
            "26     -0.495899        0.915709  1.000000\n",
            "5      -0.995326       -0.586207 -0.894737\n",
            "13      0.497488       -0.555556 -0.684211\n",
            "    Temperature   Rela_Viscosity   FracaoV\n",
            "0      -1.000000       -0.777778 -1.000000\n",
            "4       0.990979       -1.000000 -1.000000\n",
            "14      0.992241       -0.586207 -0.684211\n",
            "16     -0.499007       -0.103448 -0.263158\n",
            "22      0.500175        0.325670  0.578947\n",
            "=======================\n",
            "6\n",
            "3\n",
            "24\n",
            "3\n",
            "=======================\n"
          ],
          "name": "stdout"
        }
      ]
    },
    {
      "metadata": {
        "id": "myFpUt457-B0",
        "colab_type": "code",
        "outputId": "38909f4c-7668-49dc-ad3c-a03884b9c82e",
        "colab": {
          "base_uri": "https://localhost:8080/",
          "height": 221
        }
      },
      "cell_type": "code",
      "source": [
        "# obtem as variaveis independentes (treino e teste)\n",
        "x_train=train[Col_Indep]\n",
        "x_test=test[Col_Indep]\n",
        "X_OLD=DAT_OLD[Col_Indep]\n",
        "print(x_test.head())\n",
        "print(\"=======================\")\n",
        "print(x_train.shape[0])\n",
        "print(x_train.shape[1])\n",
        "print(x_test.shape[0])\n",
        "print(x_test.shape[1])\n",
        "print(\"=======================\")"
      ],
      "execution_count": 0,
      "outputs": [
        {
          "output_type": "stream",
          "text": [
            "    Temperature   Rela_Viscosity   FracaoV\n",
            "0      -1.000000       -0.777778 -1.000000\n",
            "4       0.990979       -1.000000 -1.000000\n",
            "14      0.992241       -0.586207 -0.684211\n",
            "16     -0.499007       -0.103448 -0.263158\n",
            "22      0.500175        0.325670  0.578947\n",
            "=======================\n",
            "24\n",
            "3\n",
            "6\n",
            "3\n",
            "=======================\n"
          ],
          "name": "stdout"
        }
      ]
    },
    {
      "metadata": {
        "id": "eL3bD8g78yCZ",
        "colab_type": "code",
        "outputId": "503938c6-5ea7-431c-815b-f743c43fe85d",
        "colab": {
          "base_uri": "https://localhost:8080/",
          "height": 425
        }
      },
      "cell_type": "code",
      "source": [
        "# obtem as variaveis dependentes (treino e teste)\n",
        "Index=[ 'Rela_Viscosity']\n",
        "y_train=train[Index]\n",
        "y_test=test[Index]\n",
        "Y_OLD=DAT_OLD[Index]\n",
        "print(Y_OLD.head())\n",
        "print(x_train.head())\n",
        "print(y_test.head())\n",
        "print(\"=======================\")\n",
        "print(y_train.shape[0])\n",
        "print(y_train.shape[1])\n",
        "print(y_test.shape[0])\n",
        "print(y_test.shape[1])\n",
        "print(\"=======================\")"
      ],
      "execution_count": 0,
      "outputs": [
        {
          "output_type": "stream",
          "text": [
            "   Rela_Viscosity\n",
            "0        1.077714\n",
            "1        1.060571\n",
            "2        1.043429\n",
            "3        1.033143\n",
            "4        1.028000\n",
            "    Temperature   Rela_Viscosity   FracaoV\n",
            "10     -0.994625       -0.356322 -0.684211\n",
            "1      -0.501297       -0.854406 -1.000000\n",
            "26     -0.495899        0.915709  1.000000\n",
            "5      -0.995326       -0.586207 -0.894737\n",
            "13      0.497488       -0.555556 -0.684211\n",
            "    Rela_Viscosity\n",
            "0        -0.777778\n",
            "4        -1.000000\n",
            "14       -0.586207\n",
            "16       -0.103448\n",
            "22        0.325670\n",
            "=======================\n",
            "24\n",
            "1\n",
            "6\n",
            "1\n",
            "=======================\n"
          ],
          "name": "stdout"
        }
      ]
    },
    {
      "metadata": {
        "id": "WUv1HKJblh5l",
        "colab_type": "code",
        "colab": {}
      },
      "cell_type": "code",
      "source": [
        "# define a rede neural \n",
        "N_Hidden=12\n",
        "clf = MLPRegressor(solver='lbfgs',activation='tanh',alpha=1e-5,hidden_layer_sizes=(N_Hidden), \n",
        "                    random_state=1)"
      ],
      "execution_count": 0,
      "outputs": []
    },
    {
      "metadata": {
        "id": "UsPYeSJ6mXQ8",
        "colab_type": "code",
        "outputId": "676ca6f7-9609-4584-9728-3a8b7cdbed28",
        "colab": {
          "base_uri": "https://localhost:8080/",
          "height": 190
        }
      },
      "cell_type": "code",
      "source": [
        "# treina a rede neural\n",
        "clf.fit(x_train, y_train)"
      ],
      "execution_count": 0,
      "outputs": [
        {
          "output_type": "stream",
          "text": [
            "/usr/local/lib/python3.6/dist-packages/sklearn/neural_network/multilayer_perceptron.py:1306: DataConversionWarning: A column-vector y was passed when a 1d array was expected. Please change the shape of y to (n_samples, ), for example using ravel().\n",
            "  y = column_or_1d(y, warn=True)\n"
          ],
          "name": "stderr"
        },
        {
          "output_type": "execute_result",
          "data": {
            "text/plain": [
              "MLPRegressor(activation='tanh', alpha=1e-05, batch_size='auto', beta_1=0.9,\n",
              "       beta_2=0.999, early_stopping=False, epsilon=1e-08,\n",
              "       hidden_layer_sizes=12, learning_rate='constant',\n",
              "       learning_rate_init=0.001, max_iter=200, momentum=0.9,\n",
              "       nesterovs_momentum=True, power_t=0.5, random_state=1, shuffle=True,\n",
              "       solver='lbfgs', tol=0.0001, validation_fraction=0.1, verbose=False,\n",
              "       warm_start=False)"
            ]
          },
          "metadata": {
            "tags": []
          },
          "execution_count": 82
        }
      ]
    },
    {
      "metadata": {
        "id": "TEINcOleminG",
        "colab_type": "code",
        "colab": {}
      },
      "cell_type": "code",
      "source": [
        "# usa a rede neural treina em calculos para treino e teste\n",
        "y_calc_train=clf.predict(x_train)\n",
        "y_calc_test=clf.predict(x_test)\n",
        "#print(y_calc_train)\n",
        "#print(Y_OLD)"
      ],
      "execution_count": 0,
      "outputs": []
    },
    {
      "metadata": {
        "id": "7TXZkDV3mtwc",
        "colab_type": "code",
        "colab": {}
      },
      "cell_type": "code",
      "source": [
        "# transforma a saida da rede em dataframe \n",
        "y_calc_train=pd.DataFrame(y_calc_train)\n",
        "y_calc_test=pd.DataFrame(y_calc_test)\n",
        "col_names=list(y_train)\n",
        "y_calc_train.columns = col_names\n",
        "y_calc_test.columns = col_names"
      ],
      "execution_count": 0,
      "outputs": []
    },
    {
      "metadata": {
        "id": "oOyj7JkBmj7f",
        "colab_type": "code",
        "outputId": "f7caa6b0-775e-48c0-80db-65e5e43bf55e",
        "colab": {
          "base_uri": "https://localhost:8080/",
          "height": 102
        }
      },
      "cell_type": "code",
      "source": [
        "# transforma dos dados calculados na forma original (nao normatizado)\n",
        "y_calc_train=Original(y_calc_train,Y_OLD)\n",
        "y_calc_test=Original(y_calc_test,Y_OLD)\n",
        "y_test=Original(y_test,Y_OLD)\n",
        "y_train=Original(y_train,Y_OLD)\n",
        "#print(y_calc_train)\n",
        "#print(y_test)\n",
        "#print(y_calc_test)\n",
        "#print(Y_OLD)"
      ],
      "execution_count": 0,
      "outputs": [
        {
          "output_type": "stream",
          "text": [
            "/usr/local/lib/python3.6/dist-packages/ipykernel_launcher.py:31: SettingWithCopyWarning: \n",
            "A value is trying to be set on a copy of a slice from a DataFrame.\n",
            "Try using .loc[row_indexer,col_indexer] = value instead\n",
            "\n",
            "See the caveats in the documentation: http://pandas.pydata.org/pandas-docs/stable/indexing.html#indexing-view-versus-copy\n"
          ],
          "name": "stderr"
        }
      ]
    },
    {
      "metadata": {
        "id": "TAVOOJW6n07D",
        "colab_type": "code",
        "outputId": "26ab3de5-8e46-4455-cf29-718e31a38354",
        "colab": {
          "base_uri": "https://localhost:8080/",
          "height": 361
        }
      },
      "cell_type": "code",
      "source": [
        "# expressa os dois dados em figura\n",
        "fig = plt.figure()\n",
        "ax1 = fig.add_subplot(111)\n",
        "\n",
        "ax1.scatter(y_test.values,y_calc_test.values, s=10, c='b', marker=\"s\", label='teste')\n",
        "ax1.scatter(y_train.values,y_calc_train.values, s=10, c='r', marker=\"o\", label='treino')\n",
        "plt.legend(loc='upper left')\n",
        "plt.ylabel('ANN')\n",
        "plt.xlabel('Calc')\n",
        "plt.show()"
      ],
      "execution_count": 0,
      "outputs": [
        {
          "output_type": "display_data",
          "data": {
            "image/png": "[encoded data removed]",
            "text/plain": [
              "<matplotlib.figure.Figure at 0x7f640261b550>"
            ]
          },
          "metadata": {
            "tags": []
          }
        }
      ]
    }
  ]
}