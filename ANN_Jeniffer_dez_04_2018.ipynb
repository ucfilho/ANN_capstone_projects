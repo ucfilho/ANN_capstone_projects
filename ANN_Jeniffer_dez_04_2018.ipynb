{
  "nbformat": 4,
  "nbformat_minor": 0,
  "metadata": {
    "colab": {
      "name": "atividade1_Jeniffer.ipynb",
      "version": "0.3.2",
      "provenance": [],
      "include_colab_link": true
    },
    "kernelspec": {
      "display_name": "Python 3",
      "language": "python",
      "name": "python3"
    }
  },
  "cells": [
    {
      "cell_type": "markdown",
      "metadata": {
        "id": "view-in-github",
        "colab_type": "text"
      },
      "source": [
        "<a href=\"https://colab.research.google.com/github/ucfilho/ANN_capstone_projects/blob/master/ANN_Jeniffer_dez_04_2018.ipynb\" target=\"_parent\"><img src=\"https://colab.research.google.com/assets/colab-badge.svg\" alt=\"Open In Colab\"/></a>"
      ]
    },
    {
      "metadata": {
        "id": "rLDEQwStmEmj",
        "colab_type": "code",
        "colab": {}
      },
      "cell_type": "code",
      "source": [
        "# bibliotecas usadas\n",
        "import os\n",
        "import numpy as np\n",
        "import pandas as pd\n",
        "import matplotlib.pyplot as plt\n",
        "from sklearn.neural_network import MLPRegressor\n",
        "from sklearn.metrics import mean_squared_error\n",
        "from sklearn.metrics import r2_score "
      ],
      "execution_count": 0,
      "outputs": []
    },
    {
      "metadata": {
        "id": "EV9KO_GCmEm0",
        "colab_type": "code",
        "colab": {}
      },
      "cell_type": "code",
      "source": [
        "# para gerar o grafico no browser\n",
        "%matplotlib inline"
      ],
      "execution_count": 0,
      "outputs": []
    },
    {
      "metadata": {
        "id": "Q_90yWOhmEm8",
        "colab_type": "code",
        "outputId": "acab4c31-e454-4703-cc3b-835ebd07202a",
        "colab": {
          "base_uri": "https://localhost:8080/",
          "height": 215
        }
      },
      "cell_type": "code",
      "source": [
        "# local dos dados e modifica o diretorio\n",
        "!git clone https://github.com/Jeniffer2018/Redes-Neurais\n",
        "% cd Redes-Neurais\n",
        "! ls"
      ],
      "execution_count": 3,
      "outputs": [
        {
          "output_type": "stream",
          "text": [
            "Cloning into 'Redes-Neurais'...\n",
            "remote: Enumerating objects: 10, done.\u001b[K\n",
            "remote: Counting objects:  10% (1/10)   \u001b[K\rremote: Counting objects:  20% (2/10)   \u001b[K\rremote: Counting objects:  30% (3/10)   \u001b[K\rremote: Counting objects:  40% (4/10)   \u001b[K\rremote: Counting objects:  50% (5/10)   \u001b[K\rremote: Counting objects:  60% (6/10)   \u001b[K\rremote: Counting objects:  70% (7/10)   \u001b[K\rremote: Counting objects:  80% (8/10)   \u001b[K\rremote: Counting objects:  90% (9/10)   \u001b[K\rremote: Counting objects: 100% (10/10)   \u001b[K\rremote: Counting objects: 100% (10/10), done.\u001b[K\n",
            "remote: Compressing objects:  10% (1/10)   \u001b[K\rremote: Compressing objects:  20% (2/10)   \u001b[K\rremote: Compressing objects:  30% (3/10)   \u001b[K\rremote: Compressing objects:  40% (4/10)   \u001b[K\rremote: Compressing objects:  50% (5/10)   \u001b[K\rremote: Compressing objects:  60% (6/10)   \u001b[K\rremote: Compressing objects:  70% (7/10)   \u001b[K\rremote: Compressing objects:  80% (8/10)   \u001b[K\rremote: Compressing objects:  90% (9/10)   \u001b[K\rremote: Compressing objects: 100% (10/10)   \u001b[K\rremote: Compressing objects: 100% (10/10), done.\u001b[K\n",
            "Unpacking objects:   1% (1/63)   \rUnpacking objects:   3% (2/63)   \rUnpacking objects:   4% (3/63)   \rUnpacking objects:   6% (4/63)   \rUnpacking objects:   7% (5/63)   \rUnpacking objects:   9% (6/63)   \rUnpacking objects:  11% (7/63)   \rUnpacking objects:  12% (8/63)   \rUnpacking objects:  14% (9/63)   \rUnpacking objects:  15% (10/63)   \rUnpacking objects:  17% (11/63)   \rUnpacking objects:  19% (12/63)   \rUnpacking objects:  20% (13/63)   \rUnpacking objects:  22% (14/63)   \rUnpacking objects:  23% (15/63)   \rUnpacking objects:  25% (16/63)   \rUnpacking objects:  26% (17/63)   \rUnpacking objects:  28% (18/63)   \rUnpacking objects:  30% (19/63)   \rUnpacking objects:  31% (20/63)   \rUnpacking objects:  33% (21/63)   \rUnpacking objects:  34% (22/63)   \rUnpacking objects:  36% (23/63)   \rUnpacking objects:  38% (24/63)   \rUnpacking objects:  39% (25/63)   \rUnpacking objects:  41% (26/63)   \rUnpacking objects:  42% (27/63)   \rUnpacking objects:  44% (28/63)   \rUnpacking objects:  46% (29/63)   \rUnpacking objects:  47% (30/63)   \rUnpacking objects:  49% (31/63)   \rUnpacking objects:  50% (32/63)   \rUnpacking objects:  52% (33/63)   \rUnpacking objects:  53% (34/63)   \rUnpacking objects:  55% (35/63)   \rUnpacking objects:  57% (36/63)   \rUnpacking objects:  58% (37/63)   \rUnpacking objects:  60% (38/63)   \rUnpacking objects:  61% (39/63)   \rUnpacking objects:  63% (40/63)   \rUnpacking objects:  65% (41/63)   \rUnpacking objects:  66% (42/63)   \rUnpacking objects:  68% (43/63)   \rUnpacking objects:  69% (44/63)   \rUnpacking objects:  71% (45/63)   \rUnpacking objects:  73% (46/63)   \rUnpacking objects:  74% (47/63)   \rUnpacking objects:  76% (48/63)   \rUnpacking objects:  77% (49/63)   \rUnpacking objects:  79% (50/63)   \rUnpacking objects:  80% (51/63)   \rUnpacking objects:  82% (52/63)   \rUnpacking objects:  84% (53/63)   \rUnpacking objects:  85% (54/63)   \rUnpacking objects:  87% (55/63)   \rUnpacking objects:  88% (56/63)   \rUnpacking objects:  90% (57/63)   \rUnpacking objects:  92% (58/63)   \rUnpacking objects:  93% (59/63)   \rremote: Total 63 (delta 3), reused 0 (delta 0), pack-reused 53\u001b[K\n",
            "Unpacking objects:  95% (60/63)   \rUnpacking objects:  96% (61/63)   \rUnpacking objects:  98% (62/63)   \rUnpacking objects: 100% (63/63)   \rUnpacking objects: 100% (63/63), done.\n",
            "/content/Redes-Neurais\n",
            " Dados1.csv\t   Dados_teste1.txt   Sim5Des1_568_preto_original2_red1.jpg\n",
            " dados.csv\t   Dados_train1.txt  'Untitled 2.csv'\n",
            "'Dados_T(1).csv'   imagem.568.csv\n",
            " Dados_T.csv\t   README.md\n"
          ],
          "name": "stdout"
        }
      ]
    },
    {
      "metadata": {
        "id": "VHjDjJ4imEnF",
        "colab_type": "code",
        "colab": {
          "base_uri": "https://localhost:8080/",
          "height": 125
        },
        "outputId": "9e8253ed-65ca-4fe4-9c06-baafdb538c65"
      },
      "cell_type": "code",
      "source": [
        "# leitura dos dados\n",
        "DAT=pd.read_csv(\"dados.csv\")\n",
        "print(DAT.head())"
      ],
      "execution_count": 4,
      "outputs": [
        {
          "output_type": "stream",
          "text": [
            "         x1        x2        x3          x4        x5        f3\n",
            "0  0.031250  0.078125  0.703125  994.850622  1.000001  0.319438\n",
            "1  0.031250  0.078125  1.328125  994.850622  1.000001  0.402871\n",
            "2  0.031250  0.078125  1.953125  994.850622  1.000001  0.434436\n",
            "3  0.031250  0.078125  2.578125  994.850622  1.000001  0.455978\n",
            "4  0.020313  0.078125  1.562500  994.850622  1.000001  0.320000\n"
          ],
          "name": "stdout"
        }
      ]
    },
    {
      "metadata": {
        "id": "dIHjrA3cmEnL",
        "colab_type": "code",
        "colab": {
          "base_uri": "https://localhost:8080/",
          "height": 125
        },
        "outputId": "6f56efbb-37d7-4498-a59f-f3c5cea71707"
      },
      "cell_type": "code",
      "source": [
        "# separa as colunas de interesse\n",
        "Index=[0,1,2,3,4,5]\n",
        "Dat_Select=[]\n",
        "Dat_Select=DAT.iloc[:,Index].copy()\n",
        "print(Dat_Select.head())"
      ],
      "execution_count": 5,
      "outputs": [
        {
          "output_type": "stream",
          "text": [
            "         x1        x2        x3          x4        x5        f3\n",
            "0  0.031250  0.078125  0.703125  994.850622  1.000001  0.319438\n",
            "1  0.031250  0.078125  1.328125  994.850622  1.000001  0.402871\n",
            "2  0.031250  0.078125  1.953125  994.850622  1.000001  0.434436\n",
            "3  0.031250  0.078125  2.578125  994.850622  1.000001  0.455978\n",
            "4  0.020313  0.078125  1.562500  994.850622  1.000001  0.320000\n"
          ],
          "name": "stdout"
        }
      ]
    },
    {
      "metadata": {
        "id": "9ypeK4zLmEnQ",
        "colab_type": "code",
        "colab": {}
      },
      "cell_type": "code",
      "source": [
        "# funcao normatiza dados intervalo de -1 a 1\n",
        "def Normatiza(x):\n",
        "    strings=list(x)\n",
        "    for i in strings:\n",
        "        max_x=x[i].max()\n",
        "        min_x=x[i].min()\n",
        "        a=(max_x+min_x)/2\n",
        "        b=(max_x-min_x)/2\n",
        "        x[i]=(x[i]-a)/b\n",
        "    return x"
      ],
      "execution_count": 0,
      "outputs": []
    },
    {
      "metadata": {
        "id": "iJWI64DXmEnX",
        "colab_type": "code",
        "colab": {}
      },
      "cell_type": "code",
      "source": [
        "# funcao retorna os dados a forma original\n",
        "def Original(x,x_old):\n",
        "    strings=list(x)\n",
        "    for i in strings:\n",
        "        max_x=x_old[i].max()\n",
        "        min_x=x_old[i].min()\n",
        "        a=(max_x+min_x)/2\n",
        "        b=(max_x-min_x)/2\n",
        "        x[i]=x[i]*b+a\n",
        "    return x"
      ],
      "execution_count": 0,
      "outputs": []
    },
    {
      "metadata": {
        "id": "1XOVtZ4WmEnh",
        "colab_type": "code",
        "colab": {
          "base_uri": "https://localhost:8080/",
          "height": 233
        },
        "outputId": "bfdc2c90-f3e0-42be-ab68-828a7aa3fd0a"
      },
      "cell_type": "code",
      "source": [
        "# separa os dados em normatizados e originais\n",
        "DAT_OLD=[]\n",
        "DAT_OLD=Dat_Select.copy()\n",
        "DAT=Normatiza(Dat_Select)\n",
        "print(DAT_OLD.head())\n",
        "print(DAT.head())"
      ],
      "execution_count": 8,
      "outputs": [
        {
          "output_type": "stream",
          "text": [
            "         x1        x2        x3          x4        x5        f3\n",
            "0  0.031250  0.078125  0.703125  994.850622  1.000001  0.319438\n",
            "1  0.031250  0.078125  1.328125  994.850622  1.000001  0.402871\n",
            "2  0.031250  0.078125  1.953125  994.850622  1.000001  0.434436\n",
            "3  0.031250  0.078125  2.578125  994.850622  1.000001  0.455978\n",
            "4  0.020313  0.078125  1.562500  994.850622  1.000001  0.320000\n",
            "         x1    x2        x3        x4   x5        f3\n",
            "0  0.213235 -0.55 -0.875927 -0.814433  1.0 -0.589285\n",
            "1  0.213235 -0.55 -0.651795 -0.814433  1.0 -0.455332\n",
            "2  0.213235 -0.55 -0.427663 -0.814433  1.0 -0.404653\n",
            "3  0.213235 -0.55 -0.203531 -0.814433  1.0 -0.370067\n",
            "4 -0.245711 -0.55 -0.567745 -0.814433  1.0 -0.588384\n"
          ],
          "name": "stdout"
        }
      ]
    },
    {
      "metadata": {
        "id": "khV9L_igmEnp",
        "colab_type": "code",
        "colab": {}
      },
      "cell_type": "code",
      "source": [
        "# separa os dados em treino e teste\n",
        "train=DAT.sample(frac=0.5,random_state=2) # o artigo usou metade dos dados para o treino\n",
        "test=DAT.drop(train.index)"
      ],
      "execution_count": 0,
      "outputs": []
    },
    {
      "metadata": {
        "id": "qQ6lW4sdmEn0",
        "colab_type": "code",
        "colab": {
          "base_uri": "https://localhost:8080/",
          "height": 341
        },
        "outputId": "ff673600-eaf6-4e41-8076-5816aaf6ef13"
      },
      "cell_type": "code",
      "source": [
        "# obtem as variaveis independentes (treino e teste)\n",
        "x_train=train.iloc[:,[0,1,2,3,4]]\n",
        "x_test=test.iloc[:,[0,1,2,3,4]]\n",
        "X_OLD=DAT_OLD.iloc[:,[0,1,2,3,4]]\n",
        "print(x_train.head())\n",
        "print(x_test.head())\n",
        "print(X_OLD.head())"
      ],
      "execution_count": 10,
      "outputs": [
        {
          "output_type": "stream",
          "text": [
            "           x1        x2        x3        x4        x5\n",
            "42  -0.625980 -0.473778 -0.694753 -0.397180 -0.827642\n",
            "23  -0.198880 -0.066667 -0.487698  0.711340 -1.000000\n",
            "44  -0.625980 -0.175111 -0.575216 -0.397180 -0.827642\n",
            "154 -0.289190 -0.200000 -0.049882 -0.969072 -0.827642\n",
            "13  -0.608497  0.111111 -0.769464 -0.639175 -0.827642\n",
            "         x1        x2        x3        x4   x5\n",
            "1  0.213235 -0.550000 -0.651795 -0.814433  1.0\n",
            "4 -0.245711 -0.550000 -0.567745 -0.814433  1.0\n",
            "7  0.213235 -0.550000 -0.567745 -0.814433  1.0\n",
            "8 -0.248201 -0.660759 -0.674137 -0.814433  1.0\n",
            "9 -0.049020 -0.200000 -0.567745 -0.814433  1.0\n",
            "         x1        x2        x3          x4        x5\n",
            "0  0.031250  0.078125  0.703125  994.850622  1.000001\n",
            "1  0.031250  0.078125  1.328125  994.850622  1.000001\n",
            "2  0.031250  0.078125  1.953125  994.850622  1.000001\n",
            "3  0.031250  0.078125  2.578125  994.850622  1.000001\n",
            "4  0.020313  0.078125  1.562500  994.850622  1.000001\n"
          ],
          "name": "stdout"
        }
      ]
    },
    {
      "metadata": {
        "id": "UuteFvVNmEn_",
        "colab_type": "code",
        "colab": {
          "base_uri": "https://localhost:8080/",
          "height": 341
        },
        "outputId": "e4fac271-073d-4445-b19b-deef1dc0312b"
      },
      "cell_type": "code",
      "source": [
        "# obtem as variaveis dependentes (treino e teste)\n",
        "Index=[5]\n",
        "y_train=train.iloc[:,Index]\n",
        "y_test=test.iloc[:,Index]\n",
        "Y_OLD=DAT_OLD.iloc[:,Index]\n",
        "print(y_train.head())\n",
        "print(y_test.head())\n",
        "print(Y_OLD.head())"
      ],
      "execution_count": 11,
      "outputs": [
        {
          "output_type": "stream",
          "text": [
            "           f3\n",
            "42  -0.680587\n",
            "23  -0.041034\n",
            "44  -0.620426\n",
            "154 -0.769551\n",
            "13  -0.771098\n",
            "         f3\n",
            "1 -0.455332\n",
            "4 -0.588384\n",
            "7 -0.437005\n",
            "8 -0.653751\n",
            "9 -0.427831\n",
            "         f3\n",
            "0  0.319438\n",
            "1  0.402871\n",
            "2  0.434436\n",
            "3  0.455978\n",
            "4  0.320000\n"
          ],
          "name": "stdout"
        }
      ]
    },
    {
      "metadata": {
        "id": "95q_dn5zmEoG",
        "colab_type": "code",
        "colab": {}
      },
      "cell_type": "code",
      "source": [
        "# define a rede neural \n",
        "# o artigo usou 9 neurônios na camada oculta \n",
        "clf = MLPRegressor(solver='lbfgs',activation='logistic',alpha=1e-5,hidden_layer_sizes=(9), \n",
        "                    random_state=None)"
      ],
      "execution_count": 0,
      "outputs": []
    },
    {
      "metadata": {
        "id": "e3XXOGSpmEoL",
        "colab_type": "code",
        "colab": {
          "base_uri": "https://localhost:8080/",
          "height": 199
        },
        "outputId": "ee04c80a-c260-4e68-ea33-081f6fdc3c04"
      },
      "cell_type": "code",
      "source": [
        "# treina a rede neural\n",
        "clf.fit(x_train, y_train)"
      ],
      "execution_count": 13,
      "outputs": [
        {
          "output_type": "stream",
          "text": [
            "/usr/local/lib/python3.6/dist-packages/sklearn/neural_network/multilayer_perceptron.py:1306: DataConversionWarning: A column-vector y was passed when a 1d array was expected. Please change the shape of y to (n_samples, ), for example using ravel().\n",
            "  y = column_or_1d(y, warn=True)\n"
          ],
          "name": "stderr"
        },
        {
          "output_type": "execute_result",
          "data": {
            "text/plain": [
              "MLPRegressor(activation='logistic', alpha=1e-05, batch_size='auto',\n",
              "       beta_1=0.9, beta_2=0.999, early_stopping=False, epsilon=1e-08,\n",
              "       hidden_layer_sizes=9, learning_rate='constant',\n",
              "       learning_rate_init=0.001, max_iter=200, momentum=0.9,\n",
              "       nesterovs_momentum=True, power_t=0.5, random_state=None,\n",
              "       shuffle=True, solver='lbfgs', tol=0.0001, validation_fraction=0.1,\n",
              "       verbose=False, warm_start=False)"
            ]
          },
          "metadata": {
            "tags": []
          },
          "execution_count": 13
        }
      ]
    },
    {
      "metadata": {
        "id": "UOgWQZlgmEoU",
        "colab_type": "code",
        "colab": {}
      },
      "cell_type": "code",
      "source": [
        "# usa a rede neural treina em calculos para treino e teste\n",
        "y_calc_train=clf.predict(x_train)\n",
        "y_calc_test=clf.predict(x_test)"
      ],
      "execution_count": 0,
      "outputs": []
    },
    {
      "metadata": {
        "id": "1FtJZGBVmEoa",
        "colab_type": "code",
        "colab": {}
      },
      "cell_type": "code",
      "source": [
        "# transforma a saida da rede em dataframe \n",
        "y_calc_train=pd.DataFrame(y_calc_train)\n",
        "y_calc_test=pd.DataFrame(y_calc_test)\n",
        "col_names=list(y_train)\n",
        "y_calc_train.columns = col_names\n",
        "y_calc_test.columns = col_names"
      ],
      "execution_count": 0,
      "outputs": []
    },
    {
      "metadata": {
        "id": "1Ymd8qP6mEoe",
        "colab_type": "code",
        "colab": {}
      },
      "cell_type": "code",
      "source": [
        "# transforma dos dados calculados na forma original (nao normatizado)\n",
        "y_calc_train=Original(y_calc_train,Y_OLD)\n",
        "y_calc_test=Original(y_calc_test,Y_OLD)"
      ],
      "execution_count": 0,
      "outputs": []
    },
    {
      "metadata": {
        "id": "5U6q-qAHmEoj",
        "colab_type": "code",
        "colab": {}
      },
      "cell_type": "code",
      "source": [
        "# recupera os dados originais \n",
        "test=[]\n",
        "train=[]\n",
        "train=Original(y_train,Y_OLD)\n",
        "test=Original(y_test,Y_OLD)"
      ],
      "execution_count": 0,
      "outputs": []
    },
    {
      "metadata": {
        "id": "yuFtYjUJmEot",
        "colab_type": "code",
        "colab": {
          "base_uri": "https://localhost:8080/",
          "height": 233
        },
        "outputId": "38088383-9d28-4fd3-df6e-8d28c8c8eee7"
      },
      "cell_type": "code",
      "source": [
        "# escolhe uma das resposta para fazer o grafico (resistencia-treino)\n",
        "resist_obs_train=[]\n",
        "resist_calc_train=[]\n",
        "resist_calc_train=y_calc_train['f3'].copy()\n",
        "resist_obs_train=train['f3'].copy()\n",
        "print(resist_calc_train.head())\n",
        "print(resist_obs_train.head())"
      ],
      "execution_count": 18,
      "outputs": [
        {
          "output_type": "stream",
          "text": [
            "0    0.190062\n",
            "1    0.677855\n",
            "2    0.262070\n",
            "3    0.254610\n",
            "4    0.290336\n",
            "Name: f3, dtype: float64\n",
            "42     0.262571\n",
            "23     0.660916\n",
            "44     0.300042\n",
            "154    0.207160\n",
            "13     0.206197\n",
            "Name: f3, dtype: float64\n"
          ],
          "name": "stdout"
        }
      ]
    },
    {
      "metadata": {
        "id": "gr9mlHRsmEo3",
        "colab_type": "code",
        "colab": {
          "base_uri": "https://localhost:8080/",
          "height": 233
        },
        "outputId": "f564a413-97df-4ab0-9f4a-bc2f59bbc05a"
      },
      "cell_type": "code",
      "source": [
        "# escolhe uma das resposta para fazer o grafico (resistencia-teste)\n",
        "resist_obs_test=[]\n",
        "resist_calc_test=[]\n",
        "resist_calc_test=y_calc_test['f3'].copy()\n",
        "resist_obs_test=test['f3'].copy()\n",
        "print(resist_calc_test.head())\n",
        "print(resist_obs_test.head())"
      ],
      "execution_count": 19,
      "outputs": [
        {
          "output_type": "stream",
          "text": [
            "0    0.373667\n",
            "1    0.316855\n",
            "2    0.396320\n",
            "3    0.276696\n",
            "4    0.424590\n",
            "Name: f3, dtype: float64\n",
            "1    0.402871\n",
            "4    0.320000\n",
            "7    0.414286\n",
            "8    0.279286\n",
            "9    0.420000\n",
            "Name: f3, dtype: float64\n"
          ],
          "name": "stdout"
        }
      ]
    },
    {
      "metadata": {
        "id": "9n0VSKYFmEo_",
        "colab_type": "code",
        "colab": {
          "base_uri": "https://localhost:8080/",
          "height": 279
        },
        "outputId": "d0362d0d-1ff1-4c37-e329-ffb6596efee9"
      },
      "cell_type": "code",
      "source": [
        "# expressa os dois dados em figura\n",
        "fig = plt.figure()\n",
        "ax1 = fig.add_subplot(111)\n",
        "\n",
        "ax1.scatter(resist_obs_test,resist_calc_test, s=10, c='b', marker=\"s\", label='teste')\n",
        "ax1.scatter(resist_obs_train,resist_calc_train, s=10, c='r', marker=\"o\", label='treino')\n",
        "plt.legend(loc='upper left')\n",
        "plt.ylabel('f3 Calc')\n",
        "plt.xlabel('f3 Obs')\n",
        "plt.show()"
      ],
      "execution_count": 20,
      "outputs": [
        {
          "output_type": "display_data",
          "data": {
            "image/png": "[encoded data removed]",
            "text/plain": [
              "<matplotlib.figure.Figure at 0x7f89cb18ada0>"
            ]
          },
          "metadata": {
            "tags": []
          }
        }
      ]
    },
    {
      "metadata": {
        "id": "-JR-nQxhmEpI",
        "colab_type": "code",
        "colab": {
          "base_uri": "https://localhost:8080/",
          "height": 53
        },
        "outputId": "b21483e7-b8c4-4b30-dfa4-306eb76870a3"
      },
      "cell_type": "code",
      "source": [
        "# cálculo de MSE e R² para o teste\n",
        "mse=mean_squared_error(resist_obs_test,resist_calc_test)\n",
        "print(\"MSE teste=\",mse)\n",
        "R2=r2_score(resist_obs_test,resist_calc_test)\n",
        "print(\"R^2 teste=\",R2)"
      ],
      "execution_count": 21,
      "outputs": [
        {
          "output_type": "stream",
          "text": [
            "MSE teste= 0.0030851770590833295\n",
            "R^2 teste= 0.9323903677314254\n"
          ],
          "name": "stdout"
        }
      ]
    },
    {
      "metadata": {
        "id": "BStuzs2imEpb",
        "colab_type": "code",
        "colab": {
          "base_uri": "https://localhost:8080/",
          "height": 53
        },
        "outputId": "f5b5f2e2-7550-467e-c456-a3cfeede9a42"
      },
      "cell_type": "code",
      "source": [
        "# cálculo de MSE e R² para o treino\n",
        "mse=mean_squared_error(resist_obs_train,resist_calc_train)\n",
        "print(\"MSE treino=\",mse)\n",
        "R2=r2_score(resist_obs_train,resist_calc_train)\n",
        "print(\"R^2 treino=\",R2)"
      ],
      "execution_count": 22,
      "outputs": [
        {
          "output_type": "stream",
          "text": [
            "MSE treino= 0.0011185531402896766\n",
            "R^2 treino= 0.9868160256668429\n"
          ],
          "name": "stdout"
        }
      ]
    }
  ]
}